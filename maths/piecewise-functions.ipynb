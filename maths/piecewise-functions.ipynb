{
 "cells": [
  {
   "cell_type": "markdown",
   "metadata": {},
   "source": [
    "Piecewise Functions\n",
    "==================="
   ]
  },
  {
   "cell_type": "code",
   "execution_count": 1,
   "metadata": {},
   "outputs": [],
   "source": [
    "import numpy as np\n",
    "import bqplot.pyplot as plt\n",
    "import sympy as sm"
   ]
  },
  {
   "cell_type": "code",
   "execution_count": 2,
   "metadata": {},
   "outputs": [],
   "source": [
    "t = sm.symbols('t', real=True)\n",
    "\n",
    "f1 = 2*t + 3\n",
    "f2 = 4 - t\n",
    "f3 = abs(2-t) + 4"
   ]
  },
  {
   "cell_type": "markdown",
   "metadata": {},
   "source": [
    "A piecewise function is a function composed of multiple subfunctions, each of which belonging to a certain subdomain of the function. For example:"
   ]
  },
  {
   "cell_type": "code",
   "execution_count": 3,
   "metadata": {},
   "outputs": [
    {
     "data": {
      "text/latex": [
       "$\\displaystyle \\begin{cases} \\left|{t - 2}\\right| + 4 & \\text{for}\\: t < 5 \\\\4 - t & \\text{otherwise} \\end{cases}$"
      ],
      "text/plain": [
       "Piecewise((Abs(t - 2) + 4, t < 5), (4 - t, True))"
      ]
     },
     "execution_count": 3,
     "metadata": {},
     "output_type": "execute_result"
    }
   ],
   "source": [
    "continuous = sm.Piecewise((f3, t<5), (f2, t>=5))\n",
    "continuous"
   ]
  },
  {
   "cell_type": "markdown",
   "metadata": {},
   "source": [
    "When used as a prefix, *piecewise* implies a property holds on each subdomain **but not necessarily on the whole domain**.\n",
    "\n",
    "Piecewise Continuous\n",
    "--------------------\n",
    "A piecewise continuous function is continuous on each of its subdomains. As defined above, this does not imply that it is continuous on its entire domain."
   ]
  },
  {
   "cell_type": "code",
   "execution_count": 4,
   "metadata": {},
   "outputs": [
    {
     "data": {
      "text/latex": [
       "$\\displaystyle \\begin{cases} 2 t + 3 & \\text{for}\\: t < 5 \\\\4 - t & \\text{otherwise} \\end{cases}$"
      ],
      "text/plain": [
       "Piecewise((2*t + 3, t < 5), (4 - t, True))"
      ]
     },
     "execution_count": 4,
     "metadata": {},
     "output_type": "execute_result"
    }
   ],
   "source": [
    "smooth = sm.Piecewise((f1, t<5), (f2, t>=5))\n",
    "smooth"
   ]
  },
  {
   "cell_type": "code",
   "execution_count": 5,
   "metadata": {},
   "outputs": [
    {
     "data": {
      "application/vnd.jupyter.widget-view+json": {
       "model_id": "e15b226d7d8f44c2b9dd3f9dd64391d5",
       "version_major": 2,
       "version_minor": 0
      },
      "text/plain": [
       "VBox(children=(Figure(axes=[Axis(scale=LinearScale()), Axis(orientation='vertical', scale=LinearScale())], fig…"
      ]
     },
     "metadata": {},
     "output_type": "display_data"
    }
   ],
   "source": [
    "x = np.linspace(0, 10, 100)\n",
    "\n",
    "plt.figure(title=\"Piecewise-continuous function\")\n",
    "plt.plot(x, sm.lambdify(t, continuous)(x))\n",
    "plt.vline(5, line_style=\"dash_dotted\", colors=[\"red\"], stroke_width=2)\n",
    "plt.show()"
   ]
  },
  {
   "cell_type": "markdown",
   "metadata": {},
   "source": [
    "Piecewise Smooth\n",
    "----------------\n",
    "A piecewise smooth function is smooth (there exist $n$ continuous derivatives at each point) on each of its subdomains."
   ]
  },
  {
   "cell_type": "code",
   "execution_count": 6,
   "metadata": {},
   "outputs": [
    {
     "data": {
      "application/vnd.jupyter.widget-view+json": {
       "model_id": "9f2f7692e5234ebe8351f083b99b11d1",
       "version_major": 2,
       "version_minor": 0
      },
      "text/plain": [
       "VBox(children=(Figure(axes=[Axis(scale=LinearScale()), Axis(orientation='vertical', scale=LinearScale())], fig…"
      ]
     },
     "metadata": {},
     "output_type": "display_data"
    }
   ],
   "source": [
    "plt.figure(title=\"Piecewise-smooth function\")\n",
    "plt.plot(x, sm.lambdify(t, smooth)(x))\n",
    "plt.vline(5, line_style=\"dash_dotted\", colors=[\"red\"], stroke_width=2)\n",
    "plt.show()"
   ]
  },
  {
   "cell_type": "markdown",
   "metadata": {},
   "source": [
    "Here, the continuous function does not have a continuous first derivative:"
   ]
  },
  {
   "cell_type": "code",
   "execution_count": 7,
   "metadata": {},
   "outputs": [
    {
     "data": {
      "application/vnd.jupyter.widget-view+json": {
       "model_id": "3a83ceb709a74c13b288a6bebb956bcb",
       "version_major": 2,
       "version_minor": 0
      },
      "text/plain": [
       "VBox(children=(Figure(axes=[Axis(scale=LinearScale()), Axis(orientation='vertical', scale=LinearScale())], fig…"
      ]
     },
     "metadata": {},
     "output_type": "display_data"
    }
   ],
   "source": [
    "import bqplot\n",
    "plt.figure(title=\"Derivative of piecewise-continuous function\")\n",
    "plt.plot(x, sm.lambdify(t, sm.diff(continuous), 'numpy')(x))\n",
    "plt.vline(5, line_style=\"dash_dotted\", colors=[\"red\"], stroke_width=2)\n",
    "plt.show()"
   ]
  },
  {
   "cell_type": "markdown",
   "metadata": {},
   "source": [
    "Whereas the smooth function does:"
   ]
  },
  {
   "cell_type": "code",
   "execution_count": 8,
   "metadata": {},
   "outputs": [
    {
     "data": {
      "application/vnd.jupyter.widget-view+json": {
       "model_id": "f81cd405560845dfaaa0e560ef298fa8",
       "version_major": 2,
       "version_minor": 0
      },
      "text/plain": [
       "VBox(children=(Figure(axes=[Axis(scale=LinearScale()), Axis(orientation='vertical', scale=LinearScale())], fig…"
      ]
     },
     "metadata": {},
     "output_type": "display_data"
    }
   ],
   "source": [
    "plt.figure(title=\"Derivative of piecewise-smooth function\")\n",
    "plt.plot(x, sm.lambdify(t, sm.diff(smooth), 'numpy')(x))\n",
    "plt.vline(5, line_style=\"dash_dotted\", colors=[\"red\"], stroke_width=2)\n",
    "plt.show()"
   ]
  }
 ],
 "metadata": {
  "kernelspec": {
   "display_name": "Python 3",
   "language": "python",
   "name": "python3"
  },
  "language_info": {
   "codemirror_mode": {
    "name": "ipython",
    "version": 3
   },
   "file_extension": ".py",
   "mimetype": "text/x-python",
   "name": "python",
   "nbconvert_exporter": "python",
   "pygments_lexer": "ipython3",
   "version": "3.7.3"
  }
 },
 "nbformat": 4,
 "nbformat_minor": 2
}
