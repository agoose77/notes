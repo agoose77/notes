{
 "cells": [
  {
   "cell_type": "code",
   "execution_count": 1,
   "metadata": {},
   "outputs": [],
   "source": [
    "import matplotlib.pyplot as plt\n",
    "import ipywidgets as w\n",
    "import numpy as np"
   ]
  },
  {
   "cell_type": "code",
   "execution_count": 2,
   "metadata": {},
   "outputs": [],
   "source": [
    "%matplotlib widget"
   ]
  },
  {
   "cell_type": "markdown",
   "metadata": {},
   "source": [
    "2D Non-Relativistic Elastic Collisions\n",
    "=============================="
   ]
  },
  {
   "cell_type": "markdown",
   "metadata": {
    "tags": []
   },
   "source": [
    "## The General Case\n",
    "\n",
    "Consider two masses $m_1$ and $m_2$ with velocities $\\vb{u_1}$ and $\\vb{u_2}$ respectively.\n",
    "\n",
    "<!-- ![Lab frame.](images/lab_frame.png) -->\n",
    "\n",
    "```bob\n",
    "                   .-----.\n",
    "                   | Lab |\n",
    "                   '-----'\n",
    "     _____                       _____\n",
    "   ,'     `.                   ,'     `.\n",
    "  /         \\     u1      u2  /         \\\n",
    " (    m1     ) --------> <-- (    m2     )\n",
    "  \\         /                 \\         /\n",
    "   `._____,'                   `._____,'\n",
    "\n",
    "```\n",
    "\n",
    "We can create an inertial frame in which the _net_ momentum is zero, the center of momentum (c.m.) frame. The velocity of this frame is given by\n",
    "\n",
    "$$\n",
    "\\vb{V_\\text{cm}} = \\frac{\\sum_i{m_i \\vb{u_i}}}{\\sum_im_i}\\,.\n",
    "$$\n",
    "\n",
    "In this frame, the new velocities $u'_i$ are given by\n",
    "\n",
    "$$\n",
    "\\tag{a}\n",
    "\\vb{u'_i}=\\vb{u_i}-\\vb{V_\\text{cm}}\\,.\n",
    "$$\n",
    "\n",
    "<!-- ![c.m. frame.](images/com_frame.png) -->\n",
    "\n",
    "```bob\n",
    "                   .------.\n",
    "                   | COM  |\n",
    "                   '------'\n",
    "     _____                       _____\n",
    "   ,'     `.                   ,'     `.\n",
    "  /         \\     u1'    u2'  /         \\\n",
    " (    m1     ) -----> <----- (    m2     )\n",
    "  \\         /                 \\         /\n",
    "   `._____,'                   `._____,'\n",
    "\n",
    "                     ---> Vcm\n",
    "\n",
    "```\n",
    "\n",
    "Given that the sum of momenta must be zero,\n",
    "\n",
    "$$\n",
    "    \\tag{b}\n",
    "    m_1{\\vb{u'_1}} + m_2{\\vb{u'_2}} = \\vb{0}\\,.\n",
    "$$\n",
    "\n",
    "It also follows that, for an elastic collision,\n",
    "\n",
    "$$\n",
    "    \\tag{c}\n",
    "    m_1{u'_1}^2 + m_2{u'_2}^2 = m_1{v'_1}^2 + m_2{v'_2}^2\\,,\n",
    "$$\n",
    "\n",
    "where $\\vb{u'_i}$ is the velocity of a mass _after_ collision, in the c.m. frame.\n",
    "\n",
    "From **(b\\)**, we can find $\\vb{u'_2}$ and $\\vb{v'_2}$ in terms of the velocities of $m_1$\n",
    "\n",
    "$$\n",
    "\\begin{aligned}\n",
    "\\vb{u'_2} &= -\\frac{m_1}{m_2}{\\vb{u'_1}}\\\\\n",
    "\\vb{v'_2} &= -\\frac{m_1}{m_2}{\\vb{v'_1}}\\,.\n",
    "\\end{aligned}\n",
    "$$\n",
    "\n",
    "Substituting these relations into **(c\\)**, it follows that\n",
    "\n",
    "$$\n",
    "\\begin{aligned}\n",
    "m_1{u'_1}^2 + m_2\\left(\\frac{m_1}{m_2}{u'_1}\\right)^2 &= m_1{v'_1}^2 + m_2\\left(\\frac{m_1}{m_2}{v'_1}\\right)^2\\\\\n",
    "m_1{u'_1}^2\\left(1+\\frac{m_1}{m_2}\\right) &= m_1{v'_1}^2\\left(1+\\frac{m_1}{m_2}\\right)\\\\\n",
    "m_1{u'_1}^2 &= m_1{v'_1}^2\\,,\n",
    "\\end{aligned}\n",
    "$$\n",
    "\n",
    "i.e. the energies in the COM frame are invariant. As a COM frame, it holds that $\\sum_i m_i\\vb{v'_i} = \\vb{0}$, and so the velocities $\\vb{v'_i}$ remain _anti-aligned_."
   ]
  },
  {
   "cell_type": "markdown",
   "metadata": {},
   "source": [
    "### Final Velocities\n",
    "If we assume _isotropic scattering_ in the COM frame, then $\\vb{v'_i}$ are rotated about _some_ axis by angle $\\theta$, with respect to their original directions $\\vb{u'_i}$. \n",
    "\n",
    "This rotation may be represented as an [orthogonal matrix](../maths/linear-algebra/square-matrices.md) $R(\\theta)$, which _preserves the vector norm_,\n",
    "\n",
    "<!-- TODO: link to Orthogonal matrix properties -->\n",
    "\n",
    "$$\n",
    "\\vb{v'_i} = R(\\theta)\\vb{u'_i}\\,.\n",
    "$$"
   ]
  },
  {
   "cell_type": "markdown",
   "metadata": {},
   "source": [
    "The final velocities _in the lab frame_ are then simply\n",
    "\n",
    "$$\n",
    "\\tag{d}\n",
    "\\begin{aligned}\n",
    "\\vb{v_i} &= \\vb{v'_i} + \\vb{V_\\text{cm}}\\\\\n",
    "&= R(\\theta)\\vb{u'_i} + \\vb{V_\\text{cm}}\\\\\n",
    "&= R(\\theta)\\vb{u_i} + \\bqty{1-R(\\theta)}\\vb{V_\\text{cm}}\\,.\n",
    "\\end{aligned}\n",
    "$$"
   ]
  },
  {
   "cell_type": "markdown",
   "metadata": {},
   "source": [
    "### Energy Transfer (Lab)\n",
    "\n",
    "The ratio of the kinetic energy of $m_1$ before and after the collision _in the lab frame_ is given by\n",
    "$$\n",
    "\\begin{aligned}\n",
    "    \\tag{e}\n",
    "    \\frac{E(\\theta)}{E_0} \n",
    "    &= \\frac{m_1\\norm{\\vb{v_1}}^2}{m_1\\norm{\\vb{u_1}}^2 + m_2\\norm{\\vb{u_2}}^2}\\\\ \n",
    "    &= \\frac{\n",
    "        m_1\\norm{\n",
    "            R(\\theta)\\vb{u_1} + \\pqty{1-R(\\theta)}\\vb{V_\\text{cm}}\n",
    "        }^2\n",
    "    }{m_1\\norm{\\vb{u_1}}^2 + m_2\\norm{\\vb{u_2}}^2}\n",
    "\\end{aligned} \n",
    "$$"
   ]
  },
  {
   "cell_type": "markdown",
   "metadata": {},
   "source": [
    "### Deflection Angle\n",
    "\n",
    "The deflection angle $\\phi$ in the lab frame can be determined from the dot product of the initial and final velocities\n",
    "\n",
    "$$ \n",
    "\\cos(\\phi) = \\frac{\\vb{v_1}\\cdot\\vb{u_1}}{\\norm{\\vb{u_1}}\\norm{\\vb{v_1}}}\\\\\n",
    "$$"
   ]
  },
  {
   "cell_type": "markdown",
   "metadata": {},
   "source": [
    "### Center of Momentum Energy\n",
    "The energy of the c.m. frame $E_\\text{cm}$ is given by\n",
    "$$\n",
    "    E_\\text{cm} = \\frac{1}{2}\\left(m_1{u'_1}^2 + m_2{u'_2}^2\\right)\\,.\n",
    "$$"
   ]
  },
  {
   "cell_type": "code",
   "execution_count": 3,
   "metadata": {},
   "outputs": [],
   "source": [
    "θ = np.linspace(0, 2*np.pi)"
   ]
  },
  {
   "cell_type": "code",
   "execution_count": 4,
   "metadata": {},
   "outputs": [],
   "source": [
    "def R(θ):\n",
    "    return np.array([\n",
    "        [np.cos(θ), -np.sin(θ)],\n",
    "        [np.sin(θ), np.cos(θ)]\n",
    "    ])    "
   ]
  },
  {
   "cell_type": "code",
   "execution_count": 5,
   "metadata": {},
   "outputs": [
    {
     "data": {
      "application/vnd.jupyter.widget-view+json": {
       "model_id": "",
       "version_major": 2,
       "version_minor": 0
      },
      "text/plain": [
       "Canvas(toolbar=Toolbar(toolitems=[('Home', 'Reset original view', 'home', 'home'), ('Back', 'Back to previous …"
      ]
     },
     "metadata": {},
     "output_type": "display_data"
    }
   ],
   "source": [
    "plt.figure()\n",
    "plt.title(\"KE distribution of $m_1$\")\n",
    "line_E_f_1, = plt.plot(θ, θ*0)\n",
    "plt.xlabel('θ')\n",
    "plt.ylabel('KE (c.m)')\n",
    "plt.ylim(0, 40)\n",
    "plt.show()"
   ]
  },
  {
   "cell_type": "code",
   "execution_count": 6,
   "metadata": {},
   "outputs": [
    {
     "data": {
      "application/vnd.jupyter.widget-view+json": {
       "model_id": "",
       "version_major": 2,
       "version_minor": 0
      },
      "text/plain": [
       "interactive(children=(FloatSlider(value=20.0, description='E_i_1', max=40.0), IntSlider(value=10, description=…"
      ]
     },
     "metadata": {},
     "output_type": "display_data"
    }
   ],
   "source": [
    "@w.interact\n",
    "def E_cm(E_i_1=(0, 40, 0.1), m_1=(1, 20), m_2=(1, 20)):\n",
    "    θ = np.linspace(0, 2*np.pi)\n",
    "    μ = m_1*m_2 / (m_1 + m_2)\n",
    "    \n",
    "    u_1 = np.sqrt([2*E_i_1/m_1, 0])\n",
    "    v_1 = μ * (u_1/m_1@R(θ).T + u_1/m_2)\n",
    "    \n",
    "    E_f_1 = 0.5*m_1*(v_1**2).sum(axis=1)\n",
    "    line_E_f_1.set_ydata(E_f_1)    "
   ]
  },
  {
   "cell_type": "markdown",
   "metadata": {},
   "source": [
    "## Static Target\n",
    "In the case of a static target ($\\vb{u_2}=0$), the following results apply:"
   ]
  },
  {
   "cell_type": "markdown",
   "metadata": {},
   "source": [
    "### Final Velocities\n",
    "If $\\vb{u_2}=0$, then \n",
    "$$\n",
    "    \\tag{f}\n",
    "    \\vb{V_\\text{cm}}=\\frac{\\mu}{m_2}\\vb{u_1}\n",
    "$$ \n",
    "where $\\mu=\\frac{m_1m_2}{m_1+m_2}$ is the *reduced mass*. Thus **(d)** gives $\\vb{v_1}$ to be\n",
    "\n",
    "$$\n",
    "\\begin{aligned}\n",
    "    \\tag{g}\n",
    "    \\vb{v_1} &= \\frac{\\left(R(\\theta)m_2 + m_1\\right)}{m_1+m_2}\\vb{u_1}\\,.\n",
    "\\end{aligned}\n",
    "$$"
   ]
  },
  {
   "cell_type": "code",
   "execution_count": 43,
   "metadata": {},
   "outputs": [
    {
     "data": {
      "application/vnd.jupyter.widget-view+json": {
       "model_id": "c6b965497df24860bb17ed60081de31c",
       "version_major": 2,
       "version_minor": 0
      },
      "text/plain": [
       "Canvas(toolbar=Toolbar(toolitems=[('Home', 'Reset original view', 'home', 'home'), ('Back', 'Back to previous …"
      ]
     },
     "metadata": {},
     "output_type": "display_data"
    }
   ],
   "source": [
    "fig, ax = plt.subplots()\n",
    "line_i_1, = plt.plot([],[],'g')\n",
    "line_f_1, = plt.plot([],[],'g--')\n",
    "line_f_2, = plt.plot([],[],'r')\n",
    "\n",
    "ax.add_patch(\n",
    "    plt.Circle((0, 0), 0.05, color=\"g\")\n",
    ");"
   ]
  },
  {
   "cell_type": "code",
   "execution_count": 44,
   "metadata": {
    "jupyter": {
     "source_hidden": true
    },
    "tags": []
   },
   "outputs": [
    {
     "data": {
      "application/vnd.jupyter.widget-view+json": {
       "model_id": "4770cbac846348ea92604934ee23c317",
       "version_major": 2,
       "version_minor": 0
      },
      "text/plain": [
       "interactive(children=(FloatSlider(value=90.25, description='θ_1', max=180.0, min=0.5), FloatSlider(value=5.0, …"
      ]
     },
     "metadata": {},
     "output_type": "display_data"
    }
   ],
   "source": [
    "@w.interact(θ_1=(0.5, 180), u_1_x=(0.0,10), m_1=(1, 10), m_2=(1,10), kind=w.ToggleButtons(options=[\"velocity\", \"momentum\"]))\n",
    "def plot(θ_1, u_1_x, m_1, m_2, kind):\n",
    "    θ_1 = np.radians(θ_1)\n",
    "    μ = m_1*m_2/(m_1+m_2)\n",
    "\n",
    "    # Incoming (from (f))\n",
    "    u_1 = np.array([u_1_x, 0])\n",
    "    v_cm = μ/m_2 * u_1\n",
    "\n",
    "    # Outgoing from (g) & CoM\n",
    "    v_1 = (u_1 - v_cm)@R(θ_1).T + v_cm\n",
    "    v_2 = (u_1 - v_cm)@((-m_1/m_2)*R(θ_1).T) + v_cm\n",
    "    \n",
    "    if kind == 'momentum':\n",
    "        q_f_2 = v_2 * m_2\n",
    "        q_f_1 = v_1 * m_1\n",
    "        q_i_1 = u_1 * m_1\n",
    "        fig.title = \"Momentum plot\"\n",
    "        \n",
    "    else:\n",
    "        q_f_2 = v_2\n",
    "        q_f_1 = v_1\n",
    "        q_i_1 = u_1\n",
    "        fig.title = \"Velocity plot\"\n",
    "\n",
    "    T = np.array([[0], [1]])\n",
    "    line_f_1.set_data((q_f_1 * T).T)\n",
    "    line_f_2.set_data((q_f_2 * T).T)    \n",
    "    line_i_1.set_data((-q_i_1 * T).T)\n",
    "    \n",
    "    ax.relim()\n",
    "    ax.autoscale_view()\n",
    "    ax.set_aspect(1)"
   ]
  },
  {
   "cell_type": "markdown",
   "metadata": {},
   "source": [
    "One might naively expect the scattering products to become more forward projected with higher incident velocities. Given, however, that the velocities in the COM frame are directly proportional to the incident velocity, this is not the case."
   ]
  },
  {
   "cell_type": "markdown",
   "metadata": {},
   "source": [
    "### Energy Transfer (Lab)\n",
    "From **(e)**, with $\\vb{u_2}=0$ we have\n",
    "$$\n",
    "\\begin{aligned}\n",
    "    \\frac{E(\\theta)}{E_0}     \n",
    "    &= \\frac{\\norm{\\vb{v_1}}^2}{\\norm{\\vb{u_1}}^2}\\,.\n",
    "\\end{aligned}\n",
    "$$\n",
    "\n",
    "Dividing through by the common factor of $\\norm{\\vb{u_1}}^2$, we have from **(g)**:\n",
    "$$\n",
    "\\begin{aligned}\n",
    "    \\tag{h}\n",
    "    \\frac{E(\\theta)}{E_0}     \n",
    "    &= \\left(\\frac{R(\\theta)m_2 + m_1}{m_1+m_2}\\right)\\vb{\\hat{u}_1}\\cdot \\left(\\frac{R(\\theta)m_2 + m_1}{m_1+m_2}\\right)\\vb{\\hat{u}_1}\\\\\n",
    "    &= \\frac{{m_1}^2 + \\left(R(\\theta)\\vb{\\hat{u}_1}\\right)\\cdot \\left(R(\\theta)\\vb{\\hat{u}_1}\\right){m_2}^2 + 2m_1m_2\\left(R(\\theta)\\vb{\\hat{u}_1}\\right)\\cdot{\\vb{\\hat{u}_1}}}{\\left(m_1+m_2\\right)^2}\\\\\n",
    "    &= \\frac{{m_1}^2+{m_2}^2+2m_1m_2\\cos(\\theta)}{\\left(m_1+m_2\\right)^2}\\,.\n",
    "\\end{aligned}\n",
    "$$"
   ]
  },
  {
   "cell_type": "markdown",
   "metadata": {},
   "source": [
    "The _maximum_ energy loss $\\Delta E$ occurs at $180\\degree$ (full back scattering)\n",
    "\n",
    "$$\n",
    "\\begin{aligned}\n",
    "\\Delta E = E_0 - E(\\theta)_\\text{min}\n",
    "&= E_0\\left(1 - \\frac{E(\\theta)_\\text{min}}{E_0}\\right)\\\\\n",
    "&= E_0\\left(1-\\frac{{m_1}^2+{m_2}^2-2m_1m_2}{\\left(m_1+m_2\\right)^2}\\right)\\\\\n",
    "&= E_0\\frac{4m_1m_2}{\\left(m_1+m_2\\right)^2}\\,.\n",
    "\\end{aligned}\n",
    "$$\n",
    "\n",
    "If $m_1\\gg m_2$, then\n",
    "\n",
    "$$\n",
    "\\begin{aligned}\n",
    "\\Delta E\n",
    "&= E_0\\frac{4m_1m_2}{{m_1}^2\\left(1+\\frac{m_2}{m_1}\\right)^2}\\\\\n",
    "&\\approx E_0\\frac{4m_2}{{m_1}}\\,.\n",
    "\\end{aligned}\n",
    "$$"
   ]
  },
  {
   "cell_type": "markdown",
   "metadata": {},
   "source": [
    "### Deflection Angle\n",
    "For a static target, we have\n",
    "$$\n",
    "\\begin{aligned}\n",
    "\\cos(\\phi) &= \n",
    "\\frac{1}{\\norm{\\vb{u_1}}\\norm{\\vb{v_1}}}\\bqty{\\frac{m_2 \\left(R(\\theta)\\vb{u_1}\\right)+m_1\\vb{u_1}}{m_1+m_2} } \\cdot\\vb{u_1}\\\\\n",
    "&= \\frac{\\norm{ \\vb{u_1}}}{\\norm{ \\vb{v_1}}}\\bqty{\\frac{m_2\\cos(\\theta)+m_1}{m_1+m_2}}\\,.\n",
    "\\end{aligned}\n",
    "$$\n",
    "The ratio $\\frac{\\norm{ \\vb{u_1}}}{\\norm{ \\vb{v_1}}}$ is given by **(g\\)**, leading to\n",
    "$$\n",
    "\\cos(\\phi) = \\frac{m_2\\cos(\\theta)+m_1}{\\sqrt{m_1^2+m_2^2+2m_1m_2\\cos(\\theta)}}\\,.\n",
    "$$\n",
    "\n",
    "As considered above, in the limit $m_1\\gg m_2$, $\\cos(\\phi)\\rightarrow 1$. Thus, when the incident mass is much greater than the target, the deflection angle $\\phi$ approaches zero."
   ]
  },
  {
   "cell_type": "code",
   "execution_count": 9,
   "metadata": {},
   "outputs": [
    {
     "data": {
      "application/vnd.jupyter.widget-view+json": {
       "model_id": "",
       "version_major": 2,
       "version_minor": 0
      },
      "text/plain": [
       "Canvas(toolbar=Toolbar(toolitems=[('Home', 'Reset original view', 'home', 'home'), ('Back', 'Back to previous …"
      ]
     },
     "metadata": {},
     "output_type": "display_data"
    }
   ],
   "source": [
    "fig, ax = plt.subplots()\n",
    "line_E_f_1, = plt.plot(np.degrees(θ), θ*0, 'b', label='KE (1)')\n",
    "line_E_f_2, = plt.plot(np.degrees(θ), θ*0, 'g', label='KE (2)')\n",
    "line_ΔE_max, = plt.plot(np.degrees(θ), θ*0, 'r--', label='ΔE max')\n",
    "\n",
    "plt.xlabel('θ')\n",
    "plt.ylabel('KE')\n",
    "plt.ylim(0, 40)\n",
    "plt.legend();"
   ]
  },
  {
   "cell_type": "code",
   "execution_count": 10,
   "metadata": {},
   "outputs": [
    {
     "data": {
      "application/vnd.jupyter.widget-view+json": {
       "model_id": "",
       "version_major": 2,
       "version_minor": 0
      },
      "text/plain": [
       "interactive(children=(FloatSlider(value=20.0, description='E_i_1', max=40.0), IntSlider(value=10, description=…"
      ]
     },
     "metadata": {},
     "output_type": "display_data"
    }
   ],
   "source": [
    "@w.interact\n",
    "def E_f_1(E_i_1=(0, 40, 0.1), m_1=(1, 20), m_2=(1, 20)):\n",
    "    μ = m_1*m_2 / (m_1 + m_2)\n",
    "    \n",
    "    u_1 = np.sqrt([2*E_i_1*m_1, 0])/m_1\n",
    "    v_1 = μ * (u_1/m_1@R(θ).T + u_1/m_2)\n",
    "    \n",
    "    E_f_1 = 0.5*m_1*(v_1**2).sum(axis=1)\n",
    "    E_f_2 = E_i_1 - E_f_1\n",
    "    \n",
    "    line_E_f_1.set_ydata( E_f_1 )\n",
    "    line_E_f_2.set_ydata( E_f_2 )\n",
    "    line_ΔE_max.set_ydata( np.full_like(θ, E_f_2.max()) )"
   ]
  }
 ],
 "metadata": {
  "kernelspec": {
   "display_name": "Python 3",
   "language": "python",
   "name": "python3"
  },
  "language_info": {
   "codemirror_mode": {
    "name": "ipython",
    "version": 3
   },
   "file_extension": ".py",
   "mimetype": "text/x-python",
   "name": "python",
   "nbconvert_exporter": "python",
   "pygments_lexer": "ipython3",
   "version": "3.8.5"
  },
  "toc-autonumbering": true,
  "toc-showcode": false,
  "toc-showmarkdowntxt": false,
  "toc-showtags": false,
  "widgets": {
   "application/vnd.jupyter.widget-state+json": {
    "state": {},
    "version_major": 2,
    "version_minor": 0
   }
  }
 },
 "nbformat": 4,
 "nbformat_minor": 4
}
