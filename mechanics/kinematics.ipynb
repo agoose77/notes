{
 "cells": [
  {
   "cell_type": "code",
   "execution_count": 2,
   "metadata": {},
   "outputs": [],
   "source": [
    "import sympy as sm"
   ]
  },
  {
   "cell_type": "code",
   "execution_count": 3,
   "metadata": {},
   "outputs": [],
   "source": [
    "ϕ, θ, u1, v1, m1, m2 = sm.symbols(\"ϕ, θ, u1, v1, m1, m2\")"
   ]
  },
  {
   "cell_type": "code",
   "execution_count": 4,
   "metadata": {},
   "outputs": [],
   "source": [
    "cos_phi = (m1 + m2*sm.cos(ϕ))/(m1+m2)"
   ]
  },
  {
   "cell_type": "code",
   "execution_count": 5,
   "metadata": {},
   "outputs": [],
   "source": [
    "sin_phi = sm.sqrt(1-cos_phi**2)"
   ]
  },
  {
   "cell_type": "code",
   "execution_count": 6,
   "metadata": {},
   "outputs": [],
   "source": [
    "tan_phi = sm.simplify(sin_phi/cos_phi)"
   ]
  },
  {
   "cell_type": "code",
   "execution_count": 7,
   "metadata": {},
   "outputs": [
    {
     "data": {
      "text/plain": [
       "-10.980062327251687"
      ]
     },
     "execution_count": 7,
     "metadata": {},
     "output_type": "execute_result"
    }
   ],
   "source": [
    "def do():\n",
    "    import numpy as np\n",
    "    x=2\n",
    "    m1=4\n",
    "    m2=12\n",
    "    return np.sin(x)/(np.cos(x)+m1/m2)\n",
    "do()"
   ]
  },
  {
   "cell_type": "code",
   "execution_count": 8,
   "metadata": {},
   "outputs": [
    {
     "data": {
      "text/latex": [
       "$\\displaystyle -16.0693488140098$"
      ],
      "text/plain": [
       "-16.0693488140098"
      ]
     },
     "execution_count": 8,
     "metadata": {},
     "output_type": "execute_result"
    }
   ],
   "source": [
    "tan_phi.subs({ϕ:2,m1:4,m2:12}).evalf()\n"
   ]
  },
  {
   "cell_type": "code",
   "execution_count": 10,
   "metadata": {},
   "outputs": [],
   "source": [
    "import bqplot.pyplot as plt"
   ]
  },
  {
   "cell_type": "code",
   "execution_count": 12,
   "metadata": {},
   "outputs": [],
   "source": [
    "import ipywidgets as w\n",
    "import numpy as np"
   ]
  },
  {
   "cell_type": "code",
   "execution_count": 281,
   "metadata": {},
   "outputs": [],
   "source": [
    "fig = plt.figure()\n",
    "b2 = plt.plot([],[],'y--', labels=['2.f'])\n",
    "b1 = plt.plot([],[],'y', labels=['2.i'])\n",
    "c = plt.plot([],[],'r', labels=['1.f'])\n",
    "plt.legend();"
   ]
  },
  {
   "cell_type": "code",
   "execution_count": 282,
   "metadata": {},
   "outputs": [],
   "source": [
    "def rot(θ):\n",
    "    return np.array([\n",
    "        [np.cos(θ), -np.sin(θ)],\n",
    "        [np.sin(θ), np.cos(θ)]\n",
    "    ])    "
   ]
  },
  {
   "cell_type": "code",
   "execution_count": 283,
   "metadata": {},
   "outputs": [
    {
     "data": {
      "application/vnd.jupyter.widget-view+json": {
       "model_id": "1f41841394714e0ca54572a7af1b1a9f",
       "version_major": 2,
       "version_minor": 0
      },
      "text/plain": [
       "interactive(children=(FloatSlider(value=90.25, description='θ', max=180.0, min=0.5), FloatSlider(value=5.0, de…"
      ]
     },
     "metadata": {},
     "output_type": "display_data"
    },
    {
     "data": {
      "application/vnd.jupyter.widget-view+json": {
       "model_id": "ed4e015b005f4c1390466e113243ea48",
       "version_major": 2,
       "version_minor": 0
      },
      "text/plain": [
       "Figure(axes=[Axis(scale=LinearScale(), side='bottom'), Axis(orientation='vertical', scale=LinearScale(), side=…"
      ]
     },
     "metadata": {},
     "output_type": "display_data"
    }
   ],
   "source": [
    "@w.interact(θ=(0.5,180), u_x=(0.0,10), m_1=(1, 10), m_2=(1,10), momentum=False)\n",
    "def plot(θ, u_x, m_1, m_2, momentum):\n",
    "    θ = np.radians(θ)\n",
    "    α = m_1 / (m_1 + m_2)\n",
    "    u_1 = np.array([u_x, 0])\n",
    "    v_1 = (1-α)*(u_1@rot(θ).T) + α*u_1\n",
    "    v_2 = α*(u_1@(np.identity(2)+rot(θ+np.pi).T))\n",
    "    \n",
    "    if momentum:\n",
    "        out_2 = v_2 * m_2\n",
    "        out_1 = v_1 * m_1\n",
    "        out_0 = u_1 * m_1\n",
    "        fig.title = \"Momentum plot\"\n",
    "    else:\n",
    "        out_2 = v_2\n",
    "        out_1 = v_1\n",
    "        out_0 = u_1\n",
    "        fig.title = \"Velocity plot\"\n",
    "\n",
    "    c.x = [0, out_2[0]]\n",
    "    c.y = [0, out_2[1]]\n",
    "    \n",
    "    b1.x = [-out_0[0], 0]\n",
    "    b1.y = [-out_0[1], 0]\n",
    "    \n",
    "    b2.x = [0, out_1[0]]\n",
    "    b2.y = [0, out_1[1]]  \n",
    "    \n",
    "fig"
   ]
  },
  {
   "cell_type": "code",
   "execution_count": 308,
   "metadata": {},
   "outputs": [],
   "source": [
    "θ = 140\n",
    "m_1 = 10\n",
    "m_2 = 10\n",
    "u_x = 5\n",
    "\n",
    "α = m_1 / (m_1 + m_2)\n",
    "u_1 = np.array([u_x, 0])"
   ]
  },
  {
   "cell_type": "code",
   "execution_count": 309,
   "metadata": {},
   "outputs": [],
   "source": [
    "θ = np.linspace(0, 2*np.pi)"
   ]
  },
  {
   "cell_type": "code",
   "execution_count": 310,
   "metadata": {},
   "outputs": [
    {
     "data": {
      "application/vnd.jupyter.widget-view+json": {
       "model_id": "5c32bf4c6fc24bf3b14cea4303972734",
       "version_major": 2,
       "version_minor": 0
      },
      "text/plain": [
       "VBox(children=(Figure(axes=[Axis(scale=LinearScale()), Axis(orientation='vertical', scale=LinearScale())], fig…"
      ]
     },
     "metadata": {},
     "output_type": "display_data"
    }
   ],
   "source": [
    "plt.figure()\n",
    "plt.plot(θ, np.arctan(np.sin(θ)/(np.cos(θ)+m_1/m_2)))\n",
    "plt.show()"
   ]
  },
  {
   "cell_type": "markdown",
   "metadata": {},
   "source": [
    "# Compare methods"
   ]
  },
  {
   "cell_type": "code",
   "execution_count": 311,
   "metadata": {},
   "outputs": [
    {
     "data": {
      "text/plain": [
       "array([0.19802951, 0.1972166 , 0.19479122, 0.19079319, 0.18528816,\n",
       "       0.17836653, 0.17014194, 0.16074944, 0.15034327, 0.13909428,\n",
       "       0.12718718, 0.1148175 , 0.10218833, 0.08950706, 0.0769819 ,\n",
       "       0.06481852, 0.05321664, 0.04236676, 0.03244705, 0.02362037,\n",
       "       0.01603167, 0.00980554, 0.00504423, 0.00182592, 0.00020344,\n",
       "       0.00020344, 0.00182592, 0.00504423, 0.00980554, 0.01603167,\n",
       "       0.02362037, 0.03244705, 0.04236676, 0.05321664, 0.06481852,\n",
       "       0.0769819 , 0.08950706, 0.10218833, 0.1148175 , 0.12718718,\n",
       "       0.13909428, 0.15034327, 0.16074944, 0.17014194, 0.17836653,\n",
       "       0.18528816, 0.19079319, 0.19479122, 0.1972166 , 0.19802951])"
      ]
     },
     "execution_count": 311,
     "metadata": {},
     "output_type": "execute_result"
    }
   ],
   "source": [
    "\n",
    "v_1 = (1-α)*(u_1@rot(θ).T) + α*u_1\n",
    "v_2 = α*(u_1@(np.identity(2)+rot(θ+np.pi).T))\n",
    "\n",
    "cos_ϕ = np.dot(v_1, u_1) / (np.linalg.norm(v_1)*np.linalg.norm(u_1))\n",
    "cos_θ = np.cos(θ)\n",
    "cos_ϕ"
   ]
  },
  {
   "cell_type": "code",
   "execution_count": 312,
   "metadata": {},
   "outputs": [
    {
     "data": {
      "text/plain": [
       "array([12.5, 12.5])"
      ]
     },
     "execution_count": 312,
     "metadata": {},
     "output_type": "execute_result"
    }
   ],
   "source": [
    "from scipy.optimize import curve_fit\n",
    "def f(x, m, c):\n",
    "    return m*x + c\n",
    "popt, _ = curve_fit(f, cos_θ, np.dot(v_1,u_1))\n",
    "popt"
   ]
  },
  {
   "cell_type": "markdown",
   "metadata": {},
   "source": [
    "---"
   ]
  },
  {
   "cell_type": "code",
   "execution_count": 313,
   "metadata": {},
   "outputs": [
    {
     "data": {
      "text/plain": [
       "array([1.        , 0.99794539, 0.99179001, 0.98155916, 0.96729486,\n",
       "       0.94905575, 0.92691676, 0.90096887, 0.8713187 , 0.8380881 ,\n",
       "       0.80141362, 0.76144596, 0.71834935, 0.67230089, 0.6234898 ,\n",
       "       0.57211666, 0.51839257, 0.46253829, 0.40478334, 0.34536505,\n",
       "       0.28452759, 0.22252093, 0.1595999 , 0.09602303, 0.03205158,\n",
       "       0.03205158, 0.09602303, 0.1595999 , 0.22252093, 0.28452759,\n",
       "       0.34536505, 0.40478334, 0.46253829, 0.51839257, 0.57211666,\n",
       "       0.6234898 , 0.67230089, 0.71834935, 0.76144596, 0.80141362,\n",
       "       0.8380881 , 0.8713187 , 0.90096887, 0.92691676, 0.94905575,\n",
       "       0.96729486, 0.98155916, 0.99179001, 0.99794539, 1.        ])"
      ]
     },
     "execution_count": 313,
     "metadata": {},
     "output_type": "execute_result"
    }
   ],
   "source": [
    "cos_θ = np.dot(v_1,u_1)/(np.linalg.norm(u_1)*np.linalg.norm(v_1, axis=-1))\n",
    "cos_θ"
   ]
  },
  {
   "cell_type": "code",
   "execution_count": 314,
   "metadata": {},
   "outputs": [
    {
     "data": {
      "text/plain": [
       "array([0.        , 0.01635257, 0.06434065, 0.14082532, 0.24080372,\n",
       "       0.35773621, 0.48397421, 0.61126047, 0.73126915, 0.83615045,\n",
       "       0.91904405, 0.97452787, 0.9989727 , 0.99077958, 0.95048443,\n",
       "       0.88072298, 0.78605833, 0.67268253, 0.54801151, 0.42020005,\n",
       "       0.29760833, 0.1882551 , 0.09929319, 0.03654162, 0.00410499,\n",
       "       0.00410499, 0.03654162, 0.09929319, 0.1882551 , 0.29760833,\n",
       "       0.42020005, 0.54801151, 0.67268253, 0.78605833, 0.88072298,\n",
       "       0.95048443, 0.99077958, 0.9989727 , 0.97452787, 0.91904405,\n",
       "       0.83615045, 0.73126915, 0.61126047, 0.48397421, 0.35773621,\n",
       "       0.24080372, 0.14082532, 0.06434065, 0.01635257, 0.        ])"
      ]
     },
     "execution_count": 314,
     "metadata": {},
     "output_type": "execute_result"
    }
   ],
   "source": [
    "1-4*m_1*m_2/(m_1+m_2)**2*np.cos(θ)**2"
   ]
  },
  {
   "cell_type": "code",
   "execution_count": 315,
   "metadata": {},
   "outputs": [
    {
     "data": {
      "text/plain": [
       "array([ 0.00000000e+00,  3.67346939e+00,  7.34693878e+00,  1.10204082e+01,\n",
       "        1.46938776e+01,  1.83673469e+01,  2.20408163e+01,  2.57142857e+01,\n",
       "        2.93877551e+01,  3.30612245e+01,  3.67346939e+01,  4.04081633e+01,\n",
       "        4.40816327e+01,  4.77551020e+01,  5.14285714e+01,  5.51020408e+01,\n",
       "        5.87755102e+01,  6.24489796e+01,  6.61224490e+01,  6.97959184e+01,\n",
       "        7.34693878e+01,  7.71428571e+01,  8.08163265e+01,  8.44897959e+01,\n",
       "        8.81632653e+01, -8.81632653e+01, -8.44897959e+01, -8.08163265e+01,\n",
       "       -7.71428571e+01, -7.34693878e+01, -6.97959184e+01, -6.61224490e+01,\n",
       "       -6.24489796e+01, -5.87755102e+01, -5.51020408e+01, -5.14285714e+01,\n",
       "       -4.77551020e+01, -4.40816327e+01, -4.04081633e+01, -3.67346939e+01,\n",
       "       -3.30612245e+01, -2.93877551e+01, -2.57142857e+01, -2.20408163e+01,\n",
       "       -1.83673469e+01, -1.46938776e+01, -1.10204082e+01, -7.34693878e+00,\n",
       "       -3.67346939e+00, -7.01670930e-15])"
      ]
     },
     "execution_count": 315,
     "metadata": {},
     "output_type": "execute_result"
    }
   ],
   "source": [
    "np.degrees(np.arctan(np.sin(θ) / (np.cos(θ)+m_1/m_2)))"
   ]
  },
  {
   "cell_type": "code",
   "execution_count": 316,
   "metadata": {},
   "outputs": [
    {
     "data": {
      "application/vnd.jupyter.widget-view+json": {
       "model_id": "b18ee09e0a0541879bcd6d2816a3e115",
       "version_major": 2,
       "version_minor": 0
      },
      "text/plain": [
       "VBox(children=(Figure(axes=[Axis(scale=LinearScale()), Axis(orientation='vertical', scale=LinearScale())], fig…"
      ]
     },
     "metadata": {},
     "output_type": "display_data"
    }
   ],
   "source": [
    "plt.figure()\n",
    "plt.plot(θ, np.degrees(np.arctan(np.sin(θ) / (np.cos(θ)+m_1/m_2))))\n",
    "plt.show()"
   ]
  },
  {
   "cell_type": "code",
   "execution_count": 325,
   "metadata": {},
   "outputs": [
    {
     "data": {
      "text/plain": [
       "array([6.25000000e+02, 6.19879290e+02, 6.04726418e+02, 5.80157530e+02,\n",
       "       5.47161514e+02, 5.07045475e+02, 4.61363201e+02, 4.11831115e+02,\n",
       "       3.60236874e+02, 3.08346288e+02, 2.57814238e+02, 2.10104987e+02,\n",
       "       1.66426634e+02, 1.27683495e+02, 9.44490153e+01, 6.69604550e+01,\n",
       "       4.51351702e+01, 2.86068988e+01, 1.67791729e+01, 8.89187981e+00,\n",
       "       4.09616590e+00, 1.53236955e+00, 4.05518268e-01, 5.31351080e-02,\n",
       "       6.59595461e-04, 6.59595461e-04, 5.31351080e-02, 4.05518268e-01,\n",
       "       1.53236955e+00, 4.09616590e+00, 8.89187981e+00, 1.67791729e+01,\n",
       "       2.86068988e+01, 4.51351702e+01, 6.69604550e+01, 9.44490153e+01,\n",
       "       1.27683495e+02, 1.66426634e+02, 2.10104987e+02, 2.57814238e+02,\n",
       "       3.08346288e+02, 3.60236874e+02, 4.11831115e+02, 4.61363201e+02,\n",
       "       5.07045475e+02, 5.47161514e+02, 5.80157530e+02, 6.04726418e+02,\n",
       "       6.19879290e+02, 6.25000000e+02])"
      ]
     },
     "execution_count": 325,
     "metadata": {},
     "output_type": "execute_result"
    }
   ],
   "source": [
    "from numpy.linalg import norm\n",
    "\n",
    "np.dot(v_1, u_1)*((1-α)*np.cos(θ)+α)*norm(u_1, axis=-1)**2"
   ]
  },
  {
   "cell_type": "code",
   "execution_count": null,
   "metadata": {},
   "outputs": [],
   "source": []
  }
 ],
 "metadata": {
  "kernelspec": {
   "display_name": "Python 3",
   "language": "python",
   "name": "python3"
  },
  "language_info": {
   "codemirror_mode": {
    "name": "ipython",
    "version": 3
   },
   "file_extension": ".py",
   "mimetype": "text/x-python",
   "name": "python",
   "nbconvert_exporter": "python",
   "pygments_lexer": "ipython3",
   "version": "3.7.3"
  }
 },
 "nbformat": 4,
 "nbformat_minor": 2
}
