{
 "cells": [
  {
   "cell_type": "code",
   "execution_count": 4,
   "metadata": {},
   "outputs": [],
   "source": [
    "import bqplot.pyplot as plt\n",
    "import ipywidgets as w\n",
    "import numpy as np"
   ]
  },
  {
   "cell_type": "markdown",
   "metadata": {},
   "source": [
    "2D Non-Relativistic Collisions\n",
    "==============================\n",
    "\n",
    "Consider two masses $m_1$ and $m_2$ with velocities $\\vb{u_1}$ and $\\vb{u_2}$ respectively.\n",
    "\n",
    "<!-- ![Lab frame.](images/lab_frame.png) -->\n",
    "\n",
    "```bob\n",
    "                   .---.\n",
    "                   |Lab|\n",
    "                   '---'\n",
    "     _____                       _____\n",
    "   ,'     `.                   ,'     `.\n",
    "  /         \\     u1      u2  /         \\\n",
    " (    m1     ) --------> <-- (    m2     )\n",
    "  \\         /                 \\         /\n",
    "   `._____,'                   `._____,'\n",
    "\n",
    "```\n",
    "\n",
    "We can create an inertial frame in which the _net_ momentum is zero, the center of momentum (c.m.) frame. The velocity of this frame is given by\n",
    "\n",
    "$$\n",
    "\\vb{V_\\text{cm}} = \\frac{\\sum_i{m_i \\vb{u_i}}}{\\sum_im_i}\\,.\n",
    "$$\n",
    "\n",
    "In this frame, the new velocities $u'_i$ are given by\n",
    "\n",
    "$$\n",
    "\\tag{a}\n",
    "\\vb{u'_i}=\\vb{u_i}-\\vb{V_\\text{cm}}\\,.\n",
    "$$\n",
    "\n",
    "<!-- ![c.m. frame.](images/com_frame.png) -->\n",
    "\n",
    "```bob\n",
    "                   .------.\n",
    "                   | c.m. |\n",
    "                   '------'\n",
    "     _____                       _____\n",
    "   ,'     `.                   ,'     `.\n",
    "  /         \\     u1'    u2'  /         \\\n",
    " (    m1     ) -----> <----- (    m2     )\n",
    "  \\         /                 \\         /\n",
    "   `._____,'                   `._____,'\n",
    "\n",
    "                     ---> Vcm\n",
    "\n",
    "```\n",
    "\n",
    "Given that the sum of momenta must be zero,\n",
    "\n",
    "$$\n",
    "    \\tag{b}\n",
    "    m_1{\\vb{u'_1}} + m_2{\\vb{u'_2}} = \\vb{0}\\,.\n",
    "$$\n",
    "\n",
    "It also follows that, for an elastic collision,\n",
    "\n",
    "$$\n",
    "    \\tag{c}\n",
    "    m_1{u'_1}^2 + m_2{u'_2}^2 = m_1{v'_1}^2 + m_2{v'_2}^2\\,,\n",
    "$$\n",
    "\n",
    "where $\\vb{u'_i}$ is the velocity of a mass _after_ collision, in the c.m. frame.\n",
    "\n",
    "From **(b\\)**, we can find $\\vb{u'_2}$ and $\\vb{v'_2}$ in terms of the velocities of $m_1$\n",
    "\n",
    "$$\n",
    "\\begin{aligned}\n",
    "\\vb{u'_2} &= -\\frac{m_1}{m_2}{\\vb{u'_1}}\\\\\n",
    "\\vb{v'_2} &= -\\frac{m_1}{m_2}{\\vb{v'_1}}\\,.\n",
    "\\end{aligned}\n",
    "$$\n",
    "\n",
    "Substituting these relations into **(c\\)**, it follows that\n",
    "\n",
    "$$\n",
    "\\begin{aligned}\n",
    "m_1{u'_1}^2 + m_2\\left(\\frac{m_1}{m_2}{u'_1}\\right)^2 &= m_1{v'_1}^2 + m_2\\left(\\frac{m_1}{m_2}{v'_1}\\right)^2\\\\\n",
    "m_1{u'_1}^2\\left(1+\\frac{m_1}{m_2}\\right) &= m_1{v'_1}^2\\left(1+\\frac{m_1}{m_2}\\right)\\,,\n",
    "\\end{aligned}\n",
    "$$\n",
    "\n",
    "i.e. the energies in the c.m. frame are invariant. As a c.m. frame, it holds that $\\sum_i m_i\\vb{v'_i} = \\vb{0}$, and so the velocities $\\vb{v'_i}$ remain _anti-aligned_. If we assume _isotropic scattering_ in the c.m. frame, then $\\vb{v'_i}$ are rotated about _some_ axis by angle $\\theta$, with respect to their original directions $\\vb{u'_i}$. This rotation may be represented as an [orthogonal matrix](../maths/linear-algebra/square-matrices.md) $R(\\theta)$, which _preserves the vector norm_,\n",
    "\n",
    "<!-- TODO: link to Orthogonal matrix properties -->\n",
    "\n",
    "$$\n",
    "\\vb{v'_i} = R(\\theta)\\vb{u'_i}\\,.\n",
    "$$"
   ]
  },
  {
   "cell_type": "markdown",
   "metadata": {},
   "source": [
    "The final velocities _in the lab frame_ are then simply\n",
    "\n",
    "$$\n",
    "\\tag{d}\n",
    "\\begin{aligned}\n",
    "\\vb{v_i} &= \\vb{v'_i} + \\vb{V_\\text{cm}}\\\\\n",
    "&= R(\\theta)\\vb{u'_i} + \\vb{V_\\text{cm}}\\\\\n",
    "&= R(\\theta)\\vb{u_i} + \\bqty{1-R(\\theta)}\\vb{V_\\text{cm}}\\,.\n",
    "\\end{aligned}\n",
    "$$"
   ]
  },
  {
   "cell_type": "markdown",
   "metadata": {},
   "source": [
    "### Static Target\n",
    "If $\\vb{u_2}=0$, then \n",
    "$$\n",
    "    \\tag{e}\n",
    "    \\vb{V_\\text{cm}}=\\frac{\\mu}{m_2}\\vb{u_1}\n",
    "$$ \n",
    "where $\\mu=\\frac{m_1m_2}{m_1+m_2}$ is the *reduced mass*. Thus **(d)** gives $\\vb{v_1}$ to be\n",
    "\n",
    "$$\n",
    "\\begin{aligned}\n",
    "    \\tag{f}\n",
    "    \\vb{v_1} &= \\frac{\\left(R(\\theta)m_2 + m_1\\right)}{m_1+m_2}\\vb{u_1}\\,.\n",
    "\\end{aligned}\n",
    "$$"
   ]
  },
  {
   "cell_type": "markdown",
   "metadata": {},
   "source": [
    "## Energy Transfer (Lab)\n",
    "\n",
    "The ratio of the kinetic energy of $m_1$ before and after the collision _in the lab frame_ is given by\n",
    "$$\n",
    "\\begin{aligned}\n",
    "    \\tag{g}\n",
    "    \\frac{E(\\theta)}{E_0} \n",
    "    &= \\frac{m_1\\norm{\\vb{v_1}}^2}{m_1\\norm{\\vb{u_1}}^2 + m_2\\norm{\\vb{u_2}}^2}\\\\ \n",
    "    &= \\frac{\n",
    "        m_1\\norm{\n",
    "            R(\\theta)\\vb{u_1} + \\pqty{1-R(\\theta)}\\vb{V_\\text{cm}}\n",
    "        }^2\n",
    "    }{m_1\\norm{\\vb{u_1}}^2 + m_2\\norm{\\vb{u_2}}^2}\n",
    "\\end{aligned} \n",
    "$$\n",
    "### Static Target\n",
    "If $\\vb{u_2}=0$, then cancelling the common factor of $\\norm{\\vb{u_1}}^2$, we have from **(f)**:\n",
    "$$\n",
    "\\begin{aligned}\n",
    "    \\tag{h}\n",
    "    \\frac{E(\\theta)}{E_0} \n",
    "    &= \\left(\\frac{R(\\theta)m_2 + m_1}{m_1+m_2}\\right)\\vb{\\hat{u}_1}\\cdot \\left(\\frac{R(\\theta)m_2 + m_1}{m_1+m_2}\\right)\\vb{\\hat{u}_1}\\\\\n",
    "    &= \\frac{{m_1}^2 + \\left(R(\\theta)\\vb{\\hat{u}_1}\\right)\\cdot \\left(R(\\theta)\\vb{\\hat{u}_1}\\right){m_2}^2 + 2m_1m_2\\left(R(\\theta)\\vb{\\hat{u}_1}\\right)\\cdot{\\vb{\\hat{u}_1}}}{\\left(m_1+m_2\\right)^2}\\\\\n",
    "    &= \\frac{{m_1}^2+{m_2}^2+2m_1m_2\\cos(\\theta)}{\\left(m_1+m_2\\right)^2}\\,.\n",
    "\\end{aligned}\n",
    "$$"
   ]
  },
  {
   "cell_type": "markdown",
   "metadata": {},
   "source": [
    "The _maximum_ energy loss $\\Delta E$ occurs at $180\\degree$ (full back scattering)\n",
    "\n",
    "$$\n",
    "\\begin{aligned}\n",
    "\\Delta E = E_0 - E(\\theta)_\\text{min}\n",
    "&= E_0\\left(1 - \\frac{E(\\theta)_\\text{min}}{E_0}\\right)\\\\\n",
    "&= E_0\\left(1-\\frac{{m_1}^2+{m_2}^2-2m_1m_2}{\\left(m_1+m_2\\right)^2}\\right)\\\\\n",
    "&= E_0\\frac{4m_1m_2}{\\left(m_1+m_2\\right)^2}\\,.\n",
    "\\end{aligned}\n",
    "$$\n",
    "\n",
    "If $m_1\\gg m_2$, then\n",
    "\n",
    "$$\n",
    "\\begin{aligned}\n",
    "\\Delta E\n",
    "&= E_0\\frac{4m_1m_2}{{m_1}^2\\left(1+\\frac{m_2}{m_1}\\right)^2}\\\\\n",
    "&\\approx E_0\\frac{4m_2}{{m_1}}\\,.\n",
    "\\end{aligned}\n",
    "$$"
   ]
  },
  {
   "cell_type": "code",
   "execution_count": 31,
   "metadata": {},
   "outputs": [
    {
     "data": {
      "application/vnd.jupyter.widget-view+json": {
       "model_id": "47319975020041acbb8ffc47766320e1",
       "version_major": 2,
       "version_minor": 0
      },
      "text/plain": [
       "VBox(children=(Figure(axes=[Axis(scale=LinearScale()), Axis(orientation='vertical', scale=LinearScale())], fig…"
      ]
     },
     "metadata": {},
     "output_type": "display_data"
    },
    {
     "data": {
      "application/vnd.jupyter.widget-view+json": {
       "model_id": "9fcfb13ee8394ca2ad936fce4fcd38fc",
       "version_major": 2,
       "version_minor": 0
      },
      "text/plain": [
       "interactive(children=(FloatSlider(value=90.25, description='θ', max=180.0, min=0.5), FloatSlider(value=5.0, de…"
      ]
     },
     "metadata": {},
     "output_type": "display_data"
    }
   ],
   "source": [
    "fig = plt.figure()\n",
    "line_i_1 = plt.plot([],[],'g', labels=['1.i'])\n",
    "line_f_1 = plt.plot([],[],'g--', labels=['1.f'])\n",
    "line_f_2 = plt.plot([],[],'r', labels=['2.f'])\n",
    "plt.legend()\n",
    "plt.show()\n",
    "\n",
    "def R(θ):\n",
    "    return np.array([\n",
    "        [np.cos(θ), -np.sin(θ)],\n",
    "        [np.sin(θ), np.cos(θ)]\n",
    "    ])    \n",
    "\n",
    "@w.interact(θ=(0.5, 180), u_1_x=(0.0,10), m_1=(1, 10), m_2=(1,10), momentum=False)\n",
    "def plot(θ, u_1_x, m_1, m_2, momentum):\n",
    "    θ = np.radians(θ)\n",
    "    α = m_1 / (m_1 + m_2)\n",
    "    # Incoming\n",
    "    u_1 = np.array([u_1_x, 0])\n",
    "    \n",
    "    # Outgoing (see )\n",
    "    v_1 = (1-α)*(u_1@R(θ).T) + α*u_1\n",
    "    v_2 = α*(u_1@(np.identity(2)+R(θ+np.pi).T))\n",
    "    \n",
    "    if momentum:\n",
    "        q_f_2 = v_2 * m_2\n",
    "        q_f_1 = v_1 * m_1\n",
    "        q_i_1 = u_1 * m_1\n",
    "        fig.title = \"Momentum plot\"\n",
    "    else:\n",
    "        q_f_2 = v_2\n",
    "        q_f_1 = v_1\n",
    "        q_i_1 = u_1\n",
    "        fig.title = \"Velocity plot\"\n",
    "\n",
    "    T = [[0], [1]]\n",
    "    line_f_1.x, line_f_1.y = (q_f_1 * T).T\n",
    "    line_f_2.x, line_f_2.y = (q_f_2 * T).T\n",
    "    line_i_1.x, line_i_1.y = (-q_i_1 * T).T"
   ]
  },
  {
   "cell_type": "markdown",
   "metadata": {},
   "source": [
    "## Deflection Angle\n",
    "\n",
    "The deflection angle $\\phi$ in the lab frame can be determined from the dot product of the initial and final velocities\n",
    "\n",
    "$$ \n",
    "\\cos(\\phi) = \\frac{\\vb{v_1}\\cdot\\vb{u_1}}{\\norm{\\vb{u_1}}\\norm{\\vb{v_1}}}\\\\\n",
    "$$\n",
    "\n",
    "### Static Target\n",
    "For a static target, we have\n",
    "$$\n",
    "\\begin{aligned}\n",
    "\\cos(\\phi) &= \n",
    "\\frac{1}{\\norm{\\vb{u_1}}\\norm{\\vb{v_1}}}\\bqty{\\frac{m_2 \\left(R(\\theta)\\vb{u_1}\\right)+m_1\\vb{u_1}}{m_1+m_2} } \\cdot\\vb{u_1}\\\\\n",
    "&= \\frac{\\norm{ \\vb{u_1}}}{\\norm{ \\vb{v_1}}}\\bqty{\\frac{m_2\\cos(\\theta)+m_1}{m_1+m_2}}\\,.\n",
    "\\end{aligned}\n",
    "$$\n",
    "The ratio $\\frac{\\norm{ \\vb{u_1}}}{\\norm{ \\vb{v_1}}}$ is given by **(g\\)**, leading to\n",
    "$$\n",
    "\\cos(\\phi) = \\frac{m_2\\cos(\\theta)+m_1}{\\sqrt{m_1^2+m_2^2+2m_1m_2\\cos(\\theta)}}\\,.\n",
    "$$\n",
    "\n",
    "As considered above, in the limit $m_1\\gg m_2$, $\\cos(\\phi)\\rightarrow 1$. Thus, when the incident mass is much greater than the target, the deflection angle $\\phi$ approaches zero."
   ]
  },
  {
   "cell_type": "code",
   "execution_count": 29,
   "metadata": {},
   "outputs": [
    {
     "data": {
      "application/vnd.jupyter.widget-view+json": {
       "model_id": "669ddb930744489e9d565194ab7920a8",
       "version_major": 2,
       "version_minor": 0
      },
      "text/plain": [
       "VBox(children=(Figure(axes=[Axis(label='θ', scale=LinearScale()), Axis(label='KE (1)', orientation='vertical',…"
      ]
     },
     "metadata": {},
     "output_type": "display_data"
    },
    {
     "data": {
      "application/vnd.jupyter.widget-view+json": {
       "model_id": "1f3bd3a1f39245cb9f866608792fe6e6",
       "version_major": 2,
       "version_minor": 0
      },
      "text/plain": [
       "interactive(children=(FloatSlider(value=20.0, description='E_i_1', max=40.0), IntSlider(value=10, description=…"
      ]
     },
     "metadata": {},
     "output_type": "display_data"
    }
   ],
   "source": [
    "θ = np.linspace(0, 2*np.pi)\n",
    "\n",
    "plt.figure()\n",
    "line_E_f_1 = plt.plot(np.degrees(θ), θ*0, 'b', labels=['KE (1)'])\n",
    "line_E_f_2 = plt.plot(np.degrees(θ), θ*0, 'g', labels=['KE (2)'])\n",
    "line_ΔE_max = plt.plot(np.degrees(θ), θ*0, 'r--', labels=['ΔE max'])\n",
    "plt.xlabel('θ')\n",
    "plt.ylabel('KE (1)')\n",
    "plt.legend()\n",
    "plt.show()\n",
    "\n",
    "@w.interact\n",
    "def E_f_1(E_i_1=(0, 40, 0.1), m_1=(1, 20), m_2=(1, 20)):\n",
    "    μ = m_1*m_2 / (m_1 + m_2)\n",
    "    \n",
    "    u_1 = np.sqrt([2*E_i_1/m_1, 0])\n",
    "    v_1 = μ * (u_1/m_1@R(θ).T + u_1/m_2)\n",
    "    \n",
    "    E_f_1 = 0.5*m_1*(v_1**2).sum(axis=1)\n",
    "    E_f_2 = E_i_1 - E_f_1\n",
    "    \n",
    "    line_E_f_1.y = E_f_1\n",
    "    line_E_f_2.y = E_f_2\n",
    "    line_ΔE_max.y = np.full_like(θ, E_f_2.max())"
   ]
  },
  {
   "cell_type": "markdown",
   "metadata": {},
   "source": [
    "### Center of Momentum Energy\n",
    "The energy of the c.m. frame $E_\\text{cm}$ is given by\n",
    "$$\n",
    "    E_\\text{cm} = \\frac{1}{2}\\left(m_1{u'_1}^2 + m_2{u'_2}^2\\right)\\,.\n",
    "$$\n",
    "\n",
    "### Static Target\n",
    "From **\\(a\\)** and **\\(e\\)** we have $u'_1 = \\frac{m_2}{m_1+m_2}u_1$ and $u'_2 = -\\frac{m_1}{m_1+m_2}u_2$ for a static target, which gives\n",
    "$$\n",
    "\\begin{aligned}\n",
    "    E_\\text{cm} \n",
    "    &= \\frac{1}{2}\\left(\\frac{m_1m_2^2u_1^2}{\\left(m_1+m_2\\right)^2} + \\frac{m_2m_1^2u_1^2}{\\left(m_1+m_2\\right)^2}\\right)\\,,\\\\\n",
    "    &= \\frac{m_1m_2u_1^2}{2\\left(m_1+m_2\\right)^2}\\left(m_2 + m_1\\right)\\,,\\\\\n",
    "    &= \\frac{m_2}{m_1+m_2}E_1\\,,\\\\\n",
    "\\end{aligned}\n",
    "$$\n",
    "where $E_1$ is the energy of $m_1$ in the lab frame."
   ]
  },
  {
   "cell_type": "code",
   "execution_count": null,
   "metadata": {},
   "outputs": [],
   "source": [
    "plt.figure()\n",
    "line_E_f_1 = plt.plot(θ, θ*0)\n",
    "plt.xlabel('θ')\n",
    "plt.ylabel('KE (c.m)')\n",
    "plt.show()\n",
    "\n",
    "@w.interact\n",
    "def E_cm(E_i_1=(0, 40, 0.1), m_1=(1, 20), m_2=(1, 20)):\n",
    "    θ = np.linspace(0, 2*np.pi)\n",
    "    μ = m_1*m_2 / (m_1 + m_2)\n",
    "    \n",
    "    u_1 = np.sqrt([2*E_i_1/m_1, 0])\n",
    "    v_1 = μ * (u_1/m_1@R(θ).T + u_1/m_2)\n",
    "    \n",
    "    E_f_1 = 0.5*m_1*(v_1**2).sum(axis=1)\n",
    "    line_E_f_1.y = E_f_1"
   ]
  },
  {
   "cell_type": "code",
   "execution_count": 38,
   "metadata": {},
   "outputs": [
    {
     "data": {
      "text/plain": [
       "5.571428571428571"
      ]
     },
     "execution_count": 38,
     "metadata": {},
     "output_type": "execute_result"
    }
   ],
   "source": [
    "19.5*4 / (10+4)"
   ]
  },
  {
   "cell_type": "code",
   "execution_count": null,
   "metadata": {},
   "outputs": [],
   "source": []
  }
 ],
 "metadata": {
  "kernelspec": {
   "display_name": "Python 3",
   "language": "python",
   "name": "python3"
  },
  "language_info": {
   "codemirror_mode": {
    "name": "ipython",
    "version": 3
   },
   "file_extension": ".py",
   "mimetype": "text/x-python",
   "name": "python",
   "nbconvert_exporter": "python",
   "pygments_lexer": "ipython3",
   "version": "3.8.1"
  },
  "widgets": {
   "application/vnd.jupyter.widget-state+json": {
    "state": {},
    "version_major": 2,
    "version_minor": 0
   }
  }
 },
 "nbformat": 4,
 "nbformat_minor": 4
}
