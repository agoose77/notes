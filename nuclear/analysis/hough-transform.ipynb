{
 "cells": [
  {
   "cell_type": "markdown",
   "metadata": {},
   "source": [
    "The (Classical) Hough Transform\n",
    "==============================="
   ]
  },
  {
   "cell_type": "code",
   "execution_count": 1,
   "metadata": {},
   "outputs": [],
   "source": [
    "import bqplot.pyplot as plt\n",
    "import bqplot as bq\n",
    "import numpy as np\n",
    "import ipywidgets as widgets"
   ]
  },
  {
   "cell_type": "markdown",
   "metadata": {},
   "source": [
    "The _classical_ Hough transform is a feature extraction technique used to find a subset of geometrical shapes within an image subject to imperfections. \n",
    "\n",
    "Lines\n",
    "-----\n",
    "\n",
    "In polar space, a line may be parametrised in *Hesse normal form* by the length $r$ of the normal to the origin $\\vec{r}$, and the angle $\\theta$ of $\\vec{r}$ with respect to the origin:\n",
    "$$\n",
    "r(\\theta) = x_i\\cos(\\theta) + y_i\\sin(\\theta)\\,.\n",
    "$$\n",
    "For any point $(x, y)$ on this line, $r$ and $\\theta$ are *constant*."
   ]
  },
  {
   "cell_type": "code",
   "execution_count": 2,
   "metadata": {},
   "outputs": [
    {
     "data": {
      "application/vnd.jupyter.widget-view+json": {
       "model_id": "d21fc939c0424c5f9590c3d591542581",
       "version_major": 2,
       "version_minor": 0
      },
      "text/plain": [
       "VBox(children=(Figure(axes=[Axis(scale=LinearScale(max=200.0, min=-200.0)), Axis(orientation='vertical', scale…"
      ]
     },
     "metadata": {},
     "output_type": "display_data"
    }
   ],
   "source": [
    "x = np.linspace(-200, 200)\n",
    "    \n",
    "plt.figure(max_aspect_ratio=1, min_aspect_ratio=1)\n",
    "line = plt.plot(x=x, y=x*0, labels=['Line'], \n",
    "                options={'y': {'min': x.min(), 'max': x.max()}, \n",
    "                         'x': {'min': x.min(), 'max': x.max()}})\n",
    "normal = plt.plot(x, x*0, 'r--', labels=['Normal'])\n",
    "label = plt.label(text=[],x=[],y=[], colors=['orange'])\n",
    "plt.legend()\n",
    "plt.show()"
   ]
  },
  {
   "cell_type": "code",
   "execution_count": 3,
   "metadata": {},
   "outputs": [
    {
     "data": {
      "application/vnd.jupyter.widget-view+json": {
       "model_id": "621b084ff9744d8fa75d6be2c93d2f06",
       "version_major": 2,
       "version_minor": 0
      },
      "text/plain": [
       "interactive(children=(FloatLogSlider(value=1.0, description='-m', max=2.0, min=-2.0), FloatSlider(value=0.0, d…"
      ]
     },
     "metadata": {},
     "output_type": "display_data"
    }
   ],
   "source": [
    "x0 = y0 = x.min()\n",
    "r_label = 200\n",
    "\n",
    "@widgets.interact\n",
    "def draw(m=widgets.FloatLogSlider(min=-2, max=2, description=\"-m\"), c=(-400.0, 400.0)):\n",
    "    m = -m\n",
    "    y = m*x + c\n",
    "    theta = np.pi/2 - np.arctan(-m)\n",
    "    r = c / (np.sin(theta)-m*np.cos(theta))\n",
    "    line.y = y; normal.y = (-1/m)*(x-x0) + y0\n",
    "    label.y = [r_label*np.sin(theta) + y0]; label.x = [r_label*np.cos(theta) + x0]\n",
    "    label.text = [f\"(r={r:.1f}, θ={np.degrees(theta):.1f})\"]"
   ]
  },
  {
   "cell_type": "markdown",
   "metadata": {},
   "source": [
    "An example\n",
    "----------\n",
    "Let's define two lines"
   ]
  },
  {
   "cell_type": "code",
   "execution_count": 4,
   "metadata": {},
   "outputs": [],
   "source": [
    "y1 = 3*x + 30\n",
    "y2 = 1.5*x + 40"
   ]
  },
  {
   "cell_type": "code",
   "execution_count": 5,
   "metadata": {},
   "outputs": [
    {
     "data": {
      "application/vnd.jupyter.widget-view+json": {
       "model_id": "cbb79f53668742d4b6a4ece2c8f85275",
       "version_major": 2,
       "version_minor": 0
      },
      "text/plain": [
       "VBox(children=(Figure(axes=[Axis(scale=LinearScale()), Axis(orientation='vertical', scale=LinearScale())], fig…"
      ]
     },
     "metadata": {},
     "output_type": "display_data"
    }
   ],
   "source": [
    "plt.figure() \n",
    "plt.plot(x, y1)\n",
    "plt.plot(x, y2)\n",
    "plt.show()"
   ]
  },
  {
   "cell_type": "markdown",
   "metadata": {},
   "source": [
    "\n",
    "In the context of image analysis, the cartesian coordinates $(x_i,y_i)$ are known, whilst $(r,\\theta)$ are the parameters to be solved for. Given that for all points on a straight line, $r$ and $\\theta$ remain constant, it follows that there exist many lines upon which $(x_i, y_i)$ lies, and thus each $(x_i, y_i)$ in cartesian space maps to _curves_ in the polar Hough parameter space. Hence, points which are colinear in cartesian space (i.e. lie on the same line) will map to curves in Hough space which intersect at some $(r, \\theta)$.\n",
    "\n",
    "\n",
    "The transform is implemented by transforming each $(x_i, y_i)$ into Hough parameter space, and then incrementing an accumulator each $(r_i, \\theta_i)$ along a discretisation of the $(r,\\theta)$ curve. Identifying peaks in the resulting $(r,\\theta)$ histogram indicates the presence of a line with the given parameters:\n",
    "\n",
    "[^1]: http://people.scs.carleton.ca/~c_shu/Courses/comp4900d/notes/lect10_hough.pdf"
   ]
  },
  {
   "cell_type": "markdown",
   "metadata": {},
   "source": [
    "![Quantisation in Hough Space.](quantisation.png)"
   ]
  },
  {
   "cell_type": "markdown",
   "metadata": {},
   "source": [
    "### Determine $\\theta$ and $r$ arrays from known $(x_i,y_i)$ points\n",
    "Let's then determine a subset of the valid $(r,\\theta)$ parameters for the first line (in discrete space)."
   ]
  },
  {
   "cell_type": "code",
   "execution_count": 6,
   "metadata": {},
   "outputs": [],
   "source": [
    "theta1 = np.tile(np.linspace(0, 2*np.pi, 200).reshape(-1,1), len(x))\n",
    "r1 = x*np.cos(theta1) + y1*np.sin(theta1)"
   ]
  },
  {
   "cell_type": "markdown",
   "metadata": {},
   "source": [
    "### Plotting the parameter space\n",
    "The parameter space $\\{\\,r,\\theta\\,\\}$ can then be plotted as heatmap."
   ]
  },
  {
   "cell_type": "code",
   "execution_count": 7,
   "metadata": {},
   "outputs": [],
   "source": [
    "hist_2d, r1_edges, theta1_edges = np.histogram2d(r1.ravel(),  theta1.ravel(), bins=100)"
   ]
  },
  {
   "cell_type": "code",
   "execution_count": 8,
   "metadata": {},
   "outputs": [
    {
     "data": {
      "application/vnd.jupyter.widget-view+json": {
       "model_id": "6aaf375d22804a4ca6bd116d848116f1",
       "version_major": 2,
       "version_minor": 0
      },
      "text/plain": [
       "VBox(children=(Figure(axes=[ColorAxis(scale=ColorScale(scheme='viridis')), Axis(label='r', scale=LinearScale()…"
      ]
     },
     "metadata": {},
     "output_type": "display_data"
    }
   ],
   "source": [
    "plt.figure()\n",
    "plt.heatmap(hist_2d, x=r1_edges, y=np.degrees(theta1_edges), cmap=\"viridis\", tooltip=bq.Tooltip(fields=['midpoint']))\n",
    "plt.xlabel(\"r\")\n",
    "plt.ylabel(\"theta\")\n",
    "plt.show()"
   ]
  },
  {
   "cell_type": "markdown",
   "metadata": {},
   "source": [
    "### Isolating shapes\n",
    "Let's extract the top four parameters by frequency."
   ]
  },
  {
   "cell_type": "code",
   "execution_count": 9,
   "metadata": {},
   "outputs": [],
   "source": [
    "max_indices = np.vstack(np.unravel_index(np.argsort(hist_2d, axis=None), hist_2d.shape)).T\n",
    "maxima = max_indices[-1:-5:-1]"
   ]
  },
  {
   "cell_type": "markdown",
   "metadata": {},
   "source": [
    "And then plot the fit line"
   ]
  },
  {
   "cell_type": "code",
   "execution_count": 10,
   "metadata": {},
   "outputs": [],
   "source": [
    "i_r1, j_theta1 = maxima[0]\n",
    "r1_fit = r1_edges[i_r1]\n",
    "theta1_fit = theta1_edges[j_theta1]"
   ]
  },
  {
   "cell_type": "code",
   "execution_count": 11,
   "metadata": {},
   "outputs": [
    {
     "data": {
      "application/vnd.jupyter.widget-view+json": {
       "model_id": "5e3dc9fe9b4d4bbb925c219e629f8120",
       "version_major": 2,
       "version_minor": 0
      },
      "text/plain": [
       "VBox(children=(Figure(axes=[Axis(scale=LinearScale()), Axis(orientation='vertical', scale=LinearScale())], fig…"
      ]
     },
     "metadata": {},
     "output_type": "display_data"
    }
   ],
   "source": [
    "plt.figure()\n",
    "plt.plot(x, (r1_fit - x*np.cos(theta1_fit))/np.sin(theta1_fit), \"r--\", labels=['Fit'])\n",
    "plt.plot(x, y1, labels=['True'])\n",
    "plt.legend()\n",
    "plt.show()"
   ]
  },
  {
   "cell_type": "markdown",
   "metadata": {},
   "source": [
    "Evidently we've isolated the line by its points."
   ]
  },
  {
   "cell_type": "markdown",
   "metadata": {},
   "source": [
    "Lines in 3D\n",
    "-----------\n",
    "In three dimensions, there are now three parameters $(r,\\theta,\\phi)$ by which a line of the form $\\vec{a}+t\\vec{b}$ may be represented, where\n",
    "$$\n",
    "\\vec{b}=\\begin{pmatrix}b_x \\\\ b_y \\\\ b_z\\end{pmatrix}=\\begin{pmatrix}\\cos\\phi\\cos\\theta\\\\\\sin\\phi\\cos\\theta\\\\\\sin\\theta\\end{pmatrix}\\,.\n",
    "$$\n",
    "\n",
    "However, since two _antiparallel_ lines (i.e. lines which are parallel but traverse in opposite directions) describe the _same line_ (with a negative $t$), $\\vec{b}$ must be confined to a half space, such that one cannot represent the same vector by reversing the signs of both $t$ and $b$. To do this, one may restrict the angles $\\theta$ and $\\phi$ to $0\\leq\\theta\\leq\\frac{\\pi}{2}$ and $-\\pi\\leq\\theta\\leq\\pi$ respectively.  \n",
    "There will also be antiparallel vectors in the $(x,y)$ plane if $b_z=0$. These redundancies may be removed by constraining $b_y \\geq 0$ if $b_z=0$, and $b_x = 1$ if $b_y=b_z=0$.\n",
    "\n",
    "An arbitrary anchor point $\\vec{a}$ in 3D cartesian space may be represented by three parameters. Yet one of these parameters is redundant, as we can choose _any arbitrary plane_ and define the anchor point as the _plane coordinates_ $(x^\\prime,y^\\prime)$ through which our line passes. \n",
    "\n",
    "![Spherical polar representation and transformed xy plane](3d-xform.png)\n",
    "\n",
    "[^1]: https://www.ipol.im/pub/art/2017/208/article.pdf"
   ]
  },
  {
   "cell_type": "code",
   "execution_count": null,
   "metadata": {},
   "outputs": [],
   "source": []
  }
 ],
 "metadata": {
  "kernelspec": {
   "display_name": "Python 3",
   "language": "python",
   "name": "python3"
  },
  "language_info": {
   "codemirror_mode": {
    "name": "ipython",
    "version": 3
   },
   "file_extension": ".py",
   "mimetype": "text/x-python",
   "name": "python",
   "nbconvert_exporter": "python",
   "pygments_lexer": "ipython3",
   "version": "3.7.1"
  }
 },
 "nbformat": 4,
 "nbformat_minor": 2
}
