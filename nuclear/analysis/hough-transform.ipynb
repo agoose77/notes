{
 "cells": [
  {
   "cell_type": "markdown",
   "metadata": {},
   "source": [
    "The (Classical) Hough Transform\n",
    "==============================="
   ]
  },
  {
   "cell_type": "code",
   "execution_count": 5,
   "metadata": {},
   "outputs": [],
   "source": [
    "import bqplot.pyplot as plt\n",
    "import bqplot as bq\n",
    "import numpy as np\n",
    "import ipywidgets as widgets"
   ]
  },
  {
   "cell_type": "markdown",
   "metadata": {},
   "source": [
    "The _classical_ Hough transform is a feature extraction technique used to find a subset of geometrical shapes within an image subject to imperfections. \n",
    "\n",
    "Lines\n",
    "-----\n",
    "\n",
    "In polar space, a line may be parametrised in *Hesse normal form* by the length $r$ of the normal to the origin $\\vec{r}$, and the angle $\\theta$ of $\\vec{r}$ with respect to the origin:\n",
    "$$\n",
    "r(\\theta) = x_i\\cos(\\theta) + y_i\\sin(\\theta)\\,.\n",
    "$$\n",
    "For any point $(x, y)$ on this line, $r$ and $\\theta$ are *constant*."
   ]
  },
  {
   "cell_type": "code",
   "execution_count": 7,
   "metadata": {},
   "outputs": [
    {
     "data": {
      "application/vnd.jupyter.widget-view+json": {
       "model_id": "3bf0cc4c874a436cbf4a9f0193242eec",
       "version_major": 2,
       "version_minor": 0
      },
      "text/plain": [
       "VBox(children=(Figure(axes=[Axis(scale=LinearScale(max=200.0, min=-200.0)), Axis(orientation='vertical', scale…"
      ]
     },
     "metadata": {},
     "output_type": "display_data"
    }
   ],
   "source": [
    "x = np.linspace(-200, 200)\n",
    "    \n",
    "plt.figure(max_aspect_ratio=1, min_aspect_ratio=1)\n",
    "line = plt.plot(x=x, y=x*0, labels=['Line'], \n",
    "                options={'y': {'min': x.min(), 'max': x.max()}, \n",
    "                         'x': {'min': x.min(), 'max': x.max()}})\n",
    "normal = plt.plot(x, x*0, 'r--', labels=['Normal'])\n",
    "label = plt.label(text=[],x=[],y=[], colors=['orange'])\n",
    "plt.legend()\n",
    "plt.show()"
   ]
  },
  {
   "cell_type": "code",
   "execution_count": 8,
   "metadata": {},
   "outputs": [
    {
     "data": {
      "application/vnd.jupyter.widget-view+json": {
       "model_id": "4e99256d8d8d497c99cfff00adefac2b",
       "version_major": 2,
       "version_minor": 0
      },
      "text/plain": [
       "interactive(children=(FloatLogSlider(value=1.0, description='-m', max=2.0, min=-2.0), FloatSlider(value=0.0, d…"
      ]
     },
     "metadata": {},
     "output_type": "display_data"
    }
   ],
   "source": [
    "x0 = y0 = x.min()\n",
    "r_label = 200\n",
    "\n",
    "@widgets.interact\n",
    "def draw(m=widgets.FloatLogSlider(min=-2, max=2, description=\"-m\"), c=(-400.0, 400.0)):\n",
    "    m = -m\n",
    "    y = m*x + c\n",
    "    theta = np.pi/2 - np.arctan(-m)\n",
    "    r = c / (np.sin(theta)-m*np.cos(theta))\n",
    "    line.y = y; normal.y = (-1/m)*(x-x0) + y0\n",
    "    label.y = [r_label*np.sin(theta) + y0]; label.x = [r_label*np.cos(theta) + x0]\n",
    "    label.text = [f\"(r={r:.1f}, θ={np.degrees(theta):.1f})\"]"
   ]
  },
  {
   "cell_type": "markdown",
   "metadata": {},
   "source": [
    "An example\n",
    "----------\n",
    "Let's define two lines"
   ]
  },
  {
   "cell_type": "code",
   "execution_count": 9,
   "metadata": {},
   "outputs": [],
   "source": [
    "y1 = 3*x + 30\n",
    "y2 = 1.5*x + 40"
   ]
  },
  {
   "cell_type": "code",
   "execution_count": null,
   "metadata": {},
   "outputs": [],
   "source": [
    "plt.figure() \n",
    "plt.plot(x, y1)\n",
    "plt.plot(x, y2)\n",
    "plt.show()"
   ]
  },
  {
   "cell_type": "markdown",
   "metadata": {},
   "source": [
    "\n",
    "In the context of image analysis, the cartesian coordinates $(x_i,y_i)$ are known, whilst $(r,\\theta)$ are the parameters to be solved for. Given that for all points on a straight line, $r$ and $\\theta$ remain constant, it follows that there exist many lines upon which $(x_i, y_i)$ lies, and thus each $(x_i, y_i)$ in cartesian space maps to _curves_ in the polar Hough parameter space. Hence, points which are colinear in cartesian space (i.e. lie on the same line) will map to curves in Hough space which intersect at some $(r, \\theta)$.\n",
    "\n",
    "\n",
    "The transform is implemented by transforming each $(x_i, y_i)$ into Hough parameter space, and then incrementing an accumulator each $(r_i, \\theta_i)$ along a discretisation of the $(r,\\theta)$ curve. Identifying peaks in the resulting $(r,\\theta)$ histogram indicates the presence of a line with the given parameters:\n",
    "\n",
    "[^1]: http://people.scs.carleton.ca/~c_shu/Courses/comp4900d/notes/lect10_hough.pdf"
   ]
  },
  {
   "cell_type": "markdown",
   "metadata": {},
   "source": [
    "![Quantisation in Hough Space.](quantisation.png)"
   ]
  },
  {
   "cell_type": "markdown",
   "metadata": {},
   "source": [
    "### Determine $\\theta$ and $r$ arrays from known $(x_i,y_i)$ points\n",
    "Let's then determine a subset of the valid $(r,\\theta)$ parameters for the first line (in discrete space)."
   ]
  },
  {
   "cell_type": "code",
   "execution_count": null,
   "metadata": {},
   "outputs": [],
   "source": [
    "theta1 = np.tile(np.linspace(0, 2*np.pi, 200).reshape(-1,1), len(x))\n",
    "r1 = x*np.cos(theta1) + y1*np.sin(theta1)"
   ]
  },
  {
   "cell_type": "markdown",
   "metadata": {},
   "source": [
    "### Plotting the parameter space\n",
    "The parameter space $\\{\\,r,\\theta\\,\\}$ can then be plotted as heatmap."
   ]
  },
  {
   "cell_type": "code",
   "execution_count": null,
   "metadata": {},
   "outputs": [],
   "source": [
    "hist_2d, r1_edges, theta1_edges = np.histogram2d(r1.ravel(),  theta1.ravel(), bins=100)"
   ]
  },
  {
   "cell_type": "code",
   "execution_count": null,
   "metadata": {},
   "outputs": [],
   "source": [
    "plt.figure()\n",
    "plt.heatmap(hist_2d, x=r1_edges, y=np.degrees(theta1_edges), cmap=\"viridis\", tooltip=bq.Tooltip(fields=['midpoint']))\n",
    "plt.xlabel(\"r\")\n",
    "plt.ylabel(\"theta\")\n",
    "plt.show()"
   ]
  },
  {
   "cell_type": "markdown",
   "metadata": {},
   "source": [
    "### Isolating shapes\n",
    "Let's extract the top four parameters by frequency."
   ]
  },
  {
   "cell_type": "code",
   "execution_count": null,
   "metadata": {},
   "outputs": [],
   "source": [
    "max_indices = np.vstack(np.unravel_index(np.argsort(hist_2d, axis=None), hist_2d.shape)).T\n",
    "maxima = max_indices[-1:-5:-1]"
   ]
  },
  {
   "cell_type": "markdown",
   "metadata": {},
   "source": [
    "And then plot the fit line"
   ]
  },
  {
   "cell_type": "code",
   "execution_count": null,
   "metadata": {},
   "outputs": [],
   "source": [
    "i_r1, j_theta1 = maxima[0]\n",
    "r1_fit = r1_edges[i_r1]\n",
    "theta1_fit = theta1_edges[j_theta1]"
   ]
  },
  {
   "cell_type": "code",
   "execution_count": null,
   "metadata": {},
   "outputs": [],
   "source": [
    "plt.figure()\n",
    "plt.plot(x, (r1_fit - x*np.cos(theta1_fit))/np.sin(theta1_fit), \"r--\", labels=['Fit'])\n",
    "plt.plot(x, y1, labels=['True'])\n",
    "plt.legend()\n",
    "plt.show()"
   ]
  },
  {
   "cell_type": "markdown",
   "metadata": {},
   "source": [
    "Evidently we've isolated the line by its points."
   ]
  },
  {
   "cell_type": "code",
   "execution_count": 4,
   "metadata": {},
   "outputs": [
    {
     "name": "stdout",
     "output_type": "stream",
     "text": [
      "Node v11.12.0\n",
      "\n",
      "> /snap/bin/npm pack bqplot\n",
      "\u001b[37;40mnpm\u001b[0m \u001b[0m\u001b[34;40mnotice\u001b[0m\u001b[35m\u001b[0m \n",
      "\u001b[0m\u001b[37;40mnpm\u001b[0m \u001b[0m\u001b[34;40mnotice\u001b[0m\u001b[35m\u001b[0m 📦  bqplot@0.4.5\n",
      "\u001b[0m\u001b[37;40mnpm\u001b[0m \u001b[0m\u001b[34;40mnotice\u001b[0m \u001b[0m\u001b[35m=== Tarball Contents ===\u001b[0m \n",
      "\u001b[0m\u001b[37;40mnpm\u001b[0m \u001b[0m\u001b[34;40mnotice\u001b[0m\u001b[35m\u001b[0m 1.7kB   package.json               \n",
      "\u001b[0m\u001b[37;40mnpm\u001b[0m \u001b[0m\u001b[34;40mnotice\u001b[0m\u001b[35m\u001b[0m 663B    README.md                  \n",
      "\u001b[0m\u001b[37;40mnpm\u001b[0m \u001b[0m\u001b[34;40mnotice\u001b[0m\u001b[35m\u001b[0m 21.4kB  css/bqplot.css             \n",
      "\u001b[0m\u001b[37;40mnpm\u001b[0m \u001b[0m\u001b[34;40mnotice\u001b[0m\u001b[35m\u001b[0m 555.3kB dist/index.js              \n",
      "\u001b[0m\u001b[37;40mnpm\u001b[0m \u001b[0m\u001b[34;40mnotice\u001b[0m\u001b[35m\u001b[0m 2.0MB   dist/index.js.map          \n",
      "\u001b[0m\u001b[37;40mnpm\u001b[0m \u001b[0m\u001b[34;40mnotice\u001b[0m\u001b[35m\u001b[0m 34.5kB  src/Axis.js                \n",
      "\u001b[0m\u001b[37;40mnpm\u001b[0m \u001b[0m\u001b[34;40mnotice\u001b[0m\u001b[35m\u001b[0m 3.4kB   src/AxisModel.js           \n",
      "\u001b[0m\u001b[37;40mnpm\u001b[0m \u001b[0m\u001b[34;40mnotice\u001b[0m\u001b[35m\u001b[0m 29.2kB  src/Bars.js                \n",
      "\u001b[0m\u001b[37;40mnpm\u001b[0m \u001b[0m\u001b[34;40mnotice\u001b[0m\u001b[35m\u001b[0m 8.3kB   src/BarsModel.js           \n",
      "\u001b[0m\u001b[37;40mnpm\u001b[0m \u001b[0m\u001b[34;40mnotice\u001b[0m\u001b[35m\u001b[0m 4.7kB   src/BaseModel.js           \n",
      "\u001b[0m\u001b[37;40mnpm\u001b[0m \u001b[0m\u001b[34;40mnotice\u001b[0m\u001b[35m\u001b[0m 21.2kB  src/Boxplot.js             \n",
      "\u001b[0m\u001b[37;40mnpm\u001b[0m \u001b[0m\u001b[34;40mnotice\u001b[0m\u001b[35m\u001b[0m 3.6kB   src/BoxplotModel.js        \n",
      "\u001b[0m\u001b[37;40mnpm\u001b[0m \u001b[0m\u001b[34;40mnotice\u001b[0m\u001b[35m\u001b[0m 7.9kB   src/bqplot.less            \n",
      "\u001b[0m\u001b[37;40mnpm\u001b[0m \u001b[0m\u001b[34;40mnotice\u001b[0m\u001b[35m\u001b[0m 19.4kB  src/BrushSelector.js       \n",
      "\u001b[0m\u001b[37;40mnpm\u001b[0m \u001b[0m\u001b[34;40mnotice\u001b[0m\u001b[35m\u001b[0m 13.5kB  src/ColorAxis.js           \n",
      "\u001b[0m\u001b[37;40mnpm\u001b[0m \u001b[0m\u001b[34;40mnotice\u001b[0m\u001b[35m\u001b[0m 50.3kB  src/colorbrewer.js         \n",
      "\u001b[0m\u001b[37;40mnpm\u001b[0m \u001b[0m\u001b[34;40mnotice\u001b[0m\u001b[35m\u001b[0m 1.8kB   src/ColorScale.js          \n",
      "\u001b[0m\u001b[37;40mnpm\u001b[0m \u001b[0m\u001b[34;40mnotice\u001b[0m\u001b[35m\u001b[0m 3.5kB   src/ColorScaleModel.js     \n",
      "\u001b[0m\u001b[37;40mnpm\u001b[0m \u001b[0m\u001b[34;40mnotice\u001b[0m\u001b[35m\u001b[0m 3.0kB   src/ColorUtils.js          \n",
      "\u001b[0m\u001b[37;40mnpm\u001b[0m \u001b[0m\u001b[34;40mnotice\u001b[0m\u001b[35m\u001b[0m 863B    src/DateColorScale.js      \n",
      "\u001b[0m\u001b[37;40mnpm\u001b[0m \u001b[0m\u001b[34;40mnotice\u001b[0m\u001b[35m\u001b[0m 1.5kB   src/DateColorScaleModel.js \n",
      "\u001b[0m\u001b[37;40mnpm\u001b[0m \u001b[0m\u001b[34;40mnotice\u001b[0m\u001b[35m\u001b[0m 1.0kB   src/DateScale.js           \n",
      "\u001b[0m\u001b[37;40mnpm\u001b[0m \u001b[0m\u001b[34;40mnotice\u001b[0m\u001b[35m\u001b[0m 1.7kB   src/DateScaleModel.js      \n",
      "\u001b[0m\u001b[37;40mnpm\u001b[0m \u001b[0m\u001b[34;40mnotice\u001b[0m\u001b[35m\u001b[0m 889B    src/extension.js           \n",
      "\u001b[0m\u001b[37;40mnpm\u001b[0m \u001b[0m\u001b[34;40mnotice\u001b[0m\u001b[35m\u001b[0m 7.7kB   src/FastIntervalSelector.js\n",
      "\u001b[0m\u001b[37;40mnpm\u001b[0m \u001b[0m\u001b[34;40mnotice\u001b[0m\u001b[35m\u001b[0m 31.7kB  src/Figure.js              \n",
      "\u001b[0m\u001b[37;40mnpm\u001b[0m \u001b[0m\u001b[34;40mnotice\u001b[0m\u001b[35m\u001b[0m 3.0kB   src/FigureModel.js         \n",
      "\u001b[0m\u001b[37;40mnpm\u001b[0m \u001b[0m\u001b[34;40mnotice\u001b[0m\u001b[35m\u001b[0m 6.3kB   src/FlexLine.js            \n",
      "\u001b[0m\u001b[37;40mnpm\u001b[0m \u001b[0m\u001b[34;40mnotice\u001b[0m\u001b[35m\u001b[0m 1.7kB   src/GeoScale.js            \n",
      "\u001b[0m\u001b[37;40mnpm\u001b[0m \u001b[0m\u001b[34;40mnotice\u001b[0m\u001b[35m\u001b[0m 8.1kB   src/GeoScaleModel.js       \n",
      "\u001b[0m\u001b[37;40mnpm\u001b[0m \u001b[0m\u001b[34;40mnotice\u001b[0m\u001b[35m\u001b[0m 21.7kB  src/Graph.js               \n",
      "\u001b[0m\u001b[37;40mnpm\u001b[0m \u001b[0m\u001b[34;40mnotice\u001b[0m\u001b[35m\u001b[0m 6.1kB   src/GraphModel.js          \n",
      "\u001b[0m\u001b[37;40mnpm\u001b[0m \u001b[0m\u001b[34;40mnotice\u001b[0m\u001b[35m\u001b[0m 26.2kB  src/GridHeatMap.js         \n",
      "\u001b[0m\u001b[37;40mnpm\u001b[0m \u001b[0m\u001b[34;40mnotice\u001b[0m\u001b[35m\u001b[0m 5.6kB   src/GridHeatMapModel.js    \n",
      "\u001b[0m\u001b[37;40mnpm\u001b[0m \u001b[0m\u001b[34;40mnotice\u001b[0m\u001b[35m\u001b[0m 6.5kB   src/HandDraw.js            \n",
      "\u001b[0m\u001b[37;40mnpm\u001b[0m \u001b[0m\u001b[34;40mnotice\u001b[0m\u001b[35m\u001b[0m 1.5kB   src/HandDrawModel.js       \n",
      "\u001b[0m\u001b[37;40mnpm\u001b[0m \u001b[0m\u001b[34;40mnotice\u001b[0m\u001b[35m\u001b[0m 8.5kB   src/HeatMap.js             \n",
      "\u001b[0m\u001b[37;40mnpm\u001b[0m \u001b[0m\u001b[34;40mnotice\u001b[0m\u001b[35m\u001b[0m 3.3kB   src/HeatMapModel.js        \n",
      "\u001b[0m\u001b[37;40mnpm\u001b[0m \u001b[0m\u001b[34;40mnotice\u001b[0m\u001b[35m\u001b[0m 20.9kB  src/Hist.js                \n",
      "\u001b[0m\u001b[37;40mnpm\u001b[0m \u001b[0m\u001b[34;40mnotice\u001b[0m\u001b[35m\u001b[0m 6.1kB   src/HistModel.js           \n",
      "\u001b[0m\u001b[37;40mnpm\u001b[0m \u001b[0m\u001b[34;40mnotice\u001b[0m\u001b[35m\u001b[0m 4.1kB   src/Image.js               \n",
      "\u001b[0m\u001b[37;40mnpm\u001b[0m \u001b[0m\u001b[34;40mnotice\u001b[0m\u001b[35m\u001b[0m 2.6kB   src/ImageModel.js          \n",
      "\u001b[0m\u001b[37;40mnpm\u001b[0m \u001b[0m\u001b[34;40mnotice\u001b[0m\u001b[35m\u001b[0m 667B    src/index-embed.js         \n",
      "\u001b[0m\u001b[37;40mnpm\u001b[0m \u001b[0m\u001b[34;40mnotice\u001b[0m\u001b[35m\u001b[0m 3.2kB   src/index.js               \n",
      "\u001b[0m\u001b[37;40mnpm\u001b[0m \u001b[0m\u001b[34;40mnotice\u001b[0m\u001b[35m\u001b[0m 5.8kB   src/IndexSelector.js       \n",
      "\u001b[0m\u001b[37;40mnpm\u001b[0m \u001b[0m\u001b[34;40mnotice\u001b[0m\u001b[35m\u001b[0m 2.3kB   src/Interaction.js         \n",
      "\u001b[0m\u001b[37;40mnpm\u001b[0m \u001b[0m\u001b[34;40mnotice\u001b[0m\u001b[35m\u001b[0m 1.0kB   src/jupyterlab-plugin.js   \n",
      "\u001b[0m\u001b[37;40mnpm\u001b[0m \u001b[0m\u001b[34;40mnotice\u001b[0m\u001b[35m\u001b[0m 7.2kB   src/Label.js               \n",
      "\u001b[0m\u001b[37;40mnpm\u001b[0m \u001b[0m\u001b[34;40mnotice\u001b[0m\u001b[35m\u001b[0m 1.9kB   src/LabelModel.js          \n",
      "\u001b[0m\u001b[37;40mnpm\u001b[0m \u001b[0m\u001b[34;40mnotice\u001b[0m\u001b[35m\u001b[0m 2.2kB   src/lasso_test.js          \n",
      "\u001b[0m\u001b[37;40mnpm\u001b[0m \u001b[0m\u001b[34;40mnotice\u001b[0m\u001b[35m\u001b[0m 5.4kB   src/LassoSelector.js       \n",
      "\u001b[0m\u001b[37;40mnpm\u001b[0m \u001b[0m\u001b[34;40mnotice\u001b[0m\u001b[35m\u001b[0m 2.2kB   src/LinearScale.js         \n",
      "\u001b[0m\u001b[37;40mnpm\u001b[0m \u001b[0m\u001b[34;40mnotice\u001b[0m\u001b[35m\u001b[0m 4.8kB   src/LinearScaleModel.js    \n",
      "\u001b[0m\u001b[37;40mnpm\u001b[0m \u001b[0m\u001b[34;40mnotice\u001b[0m\u001b[35m\u001b[0m 27.7kB  src/Lines.js               \n",
      "\u001b[0m\u001b[37;40mnpm\u001b[0m \u001b[0m\u001b[34;40mnotice\u001b[0m\u001b[35m\u001b[0m 11.3kB  src/LinesModel.js          \n",
      "\u001b[0m\u001b[37;40mnpm\u001b[0m \u001b[0m\u001b[34;40mnotice\u001b[0m\u001b[35m\u001b[0m 1.0kB   src/LogScale.js            \n",
      "\u001b[0m\u001b[37;40mnpm\u001b[0m \u001b[0m\u001b[34;40mnotice\u001b[0m\u001b[35m\u001b[0m 1.3kB   src/LogScaleModel.js       \n",
      "\u001b[0m\u001b[37;40mnpm\u001b[0m \u001b[0m\u001b[34;40mnotice\u001b[0m\u001b[35m\u001b[0m 17.4kB  src/Map.js                 \n",
      "\u001b[0m\u001b[37;40mnpm\u001b[0m \u001b[0m\u001b[34;40mnotice\u001b[0m\u001b[35m\u001b[0m 3.5kB   src/MapModel.js            \n",
      "\u001b[0m\u001b[37;40mnpm\u001b[0m \u001b[0m\u001b[34;40mnotice\u001b[0m\u001b[35m\u001b[0m 15.1kB  src/Mark.js                \n",
      "\u001b[0m\u001b[37;40mnpm\u001b[0m \u001b[0m\u001b[34;40mnotice\u001b[0m\u001b[35m\u001b[0m 4.3kB   src/Markers.js             \n",
      "\u001b[0m\u001b[37;40mnpm\u001b[0m \u001b[0m\u001b[34;40mnotice\u001b[0m\u001b[35m\u001b[0m 44.6kB  src/MarketMap.js           \n",
      "\u001b[0m\u001b[37;40mnpm\u001b[0m \u001b[0m\u001b[34;40mnotice\u001b[0m\u001b[35m\u001b[0m 2.6kB   src/MarketMapModel.js      \n",
      "\u001b[0m\u001b[37;40mnpm\u001b[0m \u001b[0m\u001b[34;40mnotice\u001b[0m\u001b[35m\u001b[0m 4.3kB   src/MarkModel.js           \n",
      "\u001b[0m\u001b[37;40mnpm\u001b[0m \u001b[0m\u001b[34;40mnotice\u001b[0m\u001b[35m\u001b[0m 21.4kB  src/OHLC.js                \n",
      "\u001b[0m\u001b[37;40mnpm\u001b[0m \u001b[0m\u001b[34;40mnotice\u001b[0m\u001b[35m\u001b[0m 7.3kB   src/OHLCModel.js           \n",
      "\u001b[0m\u001b[37;40mnpm\u001b[0m \u001b[0m\u001b[34;40mnotice\u001b[0m\u001b[35m\u001b[0m 1.8kB   src/OrdinalColorScale.js   \n",
      "\u001b[0m\u001b[37;40mnpm\u001b[0m \u001b[0m\u001b[34;40mnotice\u001b[0m\u001b[35m\u001b[0m 3.3kB   src/OrdinalScale.js        \n",
      "\u001b[0m\u001b[37;40mnpm\u001b[0m \u001b[0m\u001b[34;40mnotice\u001b[0m\u001b[35m\u001b[0m 3.7kB   src/OrdinalScaleModel.js   \n",
      "\u001b[0m\u001b[37;40mnpm\u001b[0m \u001b[0m\u001b[34;40mnotice\u001b[0m\u001b[35m\u001b[0m 9.0kB   src/PanZoom.js             \n",
      "\u001b[0m\u001b[37;40mnpm\u001b[0m \u001b[0m\u001b[34;40mnotice\u001b[0m\u001b[35m\u001b[0m 2.5kB   src/PanZoomModel.js        \n",
      "\u001b[0m\u001b[37;40mnpm\u001b[0m \u001b[0m\u001b[34;40mnotice\u001b[0m\u001b[35m\u001b[0m 22.7kB  src/Pie.js                 \n",
      "\u001b[0m\u001b[37;40mnpm\u001b[0m \u001b[0m\u001b[34;40mnotice\u001b[0m\u001b[35m\u001b[0m 4.3kB   src/PieModel.js            \n",
      "\u001b[0m\u001b[37;40mnpm\u001b[0m \u001b[0m\u001b[34;40mnotice\u001b[0m\u001b[35m\u001b[0m 3.7kB   src/PopperReference.js     \n",
      "\u001b[0m\u001b[37;40mnpm\u001b[0m \u001b[0m\u001b[34;40mnotice\u001b[0m\u001b[35m\u001b[0m 2.1kB   src/Scale.js               \n",
      "\u001b[0m\u001b[37;40mnpm\u001b[0m \u001b[0m\u001b[34;40mnotice\u001b[0m\u001b[35m\u001b[0m 2.2kB   src/ScaleModel.js          \n",
      "\u001b[0m\u001b[37;40mnpm\u001b[0m \u001b[0m\u001b[34;40mnotice\u001b[0m\u001b[35m\u001b[0m 12.2kB  src/Scatter.js             \n",
      "\u001b[0m\u001b[37;40mnpm\u001b[0m \u001b[0m\u001b[34;40mnotice\u001b[0m\u001b[35m\u001b[0m 27.9kB  src/ScatterBase.js         \n",
      "\u001b[0m\u001b[37;40mnpm\u001b[0m \u001b[0m\u001b[34;40mnotice\u001b[0m\u001b[35m\u001b[0m 5.2kB   src/ScatterBaseModel.js    \n",
      "\u001b[0m\u001b[37;40mnpm\u001b[0m \u001b[0m\u001b[34;40mnotice\u001b[0m\u001b[35m\u001b[0m 2.6kB   src/ScatterModel.js        \n",
      "\u001b[0m\u001b[37;40mnpm\u001b[0m \u001b[0m\u001b[34;40mnotice\u001b[0m\u001b[35m\u001b[0m 2.5kB   src/selector_utils.js      \n",
      "\u001b[0m\u001b[37;40mnpm\u001b[0m \u001b[0m\u001b[34;40mnotice\u001b[0m\u001b[35m\u001b[0m 7.0kB   src/Selector.js            \n",
      "\u001b[0m\u001b[37;40mnpm\u001b[0m \u001b[0m\u001b[34;40mnotice\u001b[0m\u001b[35m\u001b[0m 4.7kB   src/SelectorModel.js       \n",
      "\u001b[0m\u001b[37;40mnpm\u001b[0m \u001b[0m\u001b[34;40mnotice\u001b[0m\u001b[35m\u001b[0m 3.1kB   src/SquareMarketMap.js     \n",
      "\u001b[0m\u001b[37;40mnpm\u001b[0m \u001b[0m\u001b[34;40mnotice\u001b[0m\u001b[35m\u001b[0m 8.7kB   src/Toolbar.js             \n",
      "\u001b[0m\u001b[37;40mnpm\u001b[0m \u001b[0m\u001b[34;40mnotice\u001b[0m\u001b[35m\u001b[0m 3.4kB   src/Tooltip.js             \n",
      "\u001b[0m\u001b[37;40mnpm\u001b[0m \u001b[0m\u001b[34;40mnotice\u001b[0m\u001b[35m\u001b[0m 1.3kB   src/TooltipModel.js        \n",
      "\u001b[0m\u001b[37;40mnpm\u001b[0m \u001b[0m\u001b[34;40mnotice\u001b[0m\u001b[35m\u001b[0m 1.8kB   src/utils.js               \n",
      "\u001b[0m\u001b[37;40mnpm\u001b[0m \u001b[0m\u001b[34;40mnotice\u001b[0m \u001b[0m\u001b[35m=== Tarball Details ===\u001b[0m \n",
      "\u001b[0m\u001b[37;40mnpm\u001b[0m \u001b[0m\u001b[34;40mnotice\u001b[0m\u001b[35m\u001b[0m name:          bqplot                                  \n",
      "\u001b[0m\u001b[37;40mnpm\u001b[0m \u001b[0m\u001b[34;40mnotice\u001b[0m\u001b[35m\u001b[0m version:       0.4.5                                   \n",
      "\u001b[0m\u001b[37;40mnpm\u001b[0m \u001b[0m\u001b[34;40mnotice\u001b[0m\u001b[35m\u001b[0m filename:      bqplot-0.4.5.tgz                        \n",
      "\u001b[0m\u001b[37;40mnpm\u001b[0m \u001b[0m\u001b[34;40mnotice\u001b[0m\u001b[35m\u001b[0m package size:  708.7 kB                                \n",
      "\u001b[0m\u001b[37;40mnpm\u001b[0m \u001b[0m\u001b[34;40mnotice\u001b[0m\u001b[35m\u001b[0m unpacked size: 3.2 MB                                  \n",
      "\u001b[0m\u001b[37;40mnpm\u001b[0m \u001b[0m\u001b[34;40mnotice\u001b[0m\u001b[35m\u001b[0m shasum:        e490ab8d67ff35bef80732e6b919185da7fb2a5e\n",
      "\u001b[0m\u001b[37;40mnpm\u001b[0m \u001b[0m\u001b[34;40mnotice\u001b[0m\u001b[35m\u001b[0m integrity:     sha512-8W38y4gJ/nlOM[...]YR8HOwCoXb86A==\n",
      "\u001b[0m\u001b[37;40mnpm\u001b[0m \u001b[0m\u001b[34;40mnotice\u001b[0m\u001b[35m\u001b[0m total files:   88                                      \n",
      "\u001b[0m\u001b[37;40mnpm\u001b[0m \u001b[0m\u001b[34;40mnotice\u001b[0m\u001b[35m\u001b[0m \n",
      "\u001b[0mbqplot-0.4.5.tgz\n",
      "Node v11.12.0\n",
      "\n",
      "> node /home/angus/.pyenv/versions/miniconda3-latest/envs/sci/lib/python3.7/site-packages/jupyterlab/staging/yarn.js install\n",
      "\u001b[2K\u001b[1G\u001b[1myarn install v1.9.4\u001b[22m\n",
      "\u001b[2K\u001b[1G\u001b[34minfo\u001b[39m No lockfile found.\n",
      "\u001b[2K\u001b[1G\u001b[2m[1/5]\u001b[22m Validating package.json...\n",
      "\u001b[2K\u001b[1G\u001b[2m[2/5]\u001b[22m Resolving packages...\n",
      "\u001b[1G⠁ \u001b[0K\u001b[1G⠂ @jupyterlab/application@^0.19.1\u001b[0K\u001b[1G⠄ @jupyterlab/application@^0.19.1\u001b[0K\u001b[1G⡀ @jupyterlab/application@^0.19.1\u001b[0K\u001b[1G⢀ @jupyterlab/application@^0.19.1\u001b[0K\u001b[1G⠠ @jupyterlab/application@^0.19.1\u001b[0K\u001b[1G⠐ @jupyterlab/application@^0.19.1\u001b[0K\u001b[1G⠈ @jupyterlab/application@^0.19.1\u001b[0K\u001b[1G⠁ @jupyterlab/application@^0.19.1\u001b[0K\u001b[1G⠂ @jupyterlab/application@^0.19.1\u001b[0K\u001b[1G⠄ @jupyterlab/application@^0.19.1\u001b[0K\u001b[1G⡀ @jupyterlab/application@^0.19.1\u001b[0K\u001b[1G⢀ @jupyterlab/application@^0.19.1\u001b[0K\u001b[1G⠠ @jupyterlab/application@^0.19.1\u001b[0K\u001b[1G⠐ @jupyterlab/application@^0.19.1\u001b[0K\u001b[1G⠈ @jupyterlab/application@^0.19.1\u001b[0K\u001b[1G⠁ @jupyterlab/application@^0.19.1\u001b[0K\u001b[1G⠂ @jupyterlab/application@^0.19.1\u001b[0K\u001b[1G⠄ @jupyterlab/application@^0.19.1\u001b[0K\u001b[1G⡀ @jupyterlab/application@^0.19.1\u001b[0K\u001b[1G⢀ @jupyterlab/application@^0.19.1\u001b[0K\u001b[1G⠠ @jupyterlab/application@^0.19.1\u001b[0K\u001b[1G⠐ @jupyterlab/application@^0.19.1\u001b[0K\u001b[1G⠈ @jupyterlab/application@^0.19.1\u001b[0K\u001b[1G⠁ @jupyterlab/application@^0.19.1\u001b[0K\u001b[1G⠂ @jupyterlab/application@^0.19.1\u001b[0K\u001b[1G⠄ @jupyterlab/application@^0.19.1\u001b[0K\u001b[1G⡀ @jupyterlab/application@^0.19.1\u001b[0K\u001b[1G⢀ @jupyterlab/application@^0.19.1\u001b[0K\u001b[1G⠠ @jupyterlab/application@^0.19.1\u001b[0K\u001b[1G⠐ @jupyterlab/application@^0.19.1\u001b[0K\u001b[1G⠈ @jupyterlab/application@^0.19.1\u001b[0K\u001b[1G⠁ @phosphor/widgets@^1.6.0\u001b[0K\u001b[1G⠂ @phosphor/widgets@^1.6.0\u001b[0K\u001b[1G⠄ @phosphor/widgets@^1.6.0\u001b[0K\u001b[1G⡀ @phosphor/widgets@^1.6.0\u001b[0K\u001b[1G⢀ @phosphor/widgets@^1.6.0\u001b[0K\u001b[1G⠠ @phosphor/widgets@^1.6.0\u001b[0K\u001b[1G⠐ @phosphor/widgets@^1.6.0\u001b[0K\u001b[1G⠈ @phosphor/widgets@^1.6.0\u001b[0K\u001b[1G⠁ @phosphor/widgets@^1.6.0\u001b[0K\u001b[1G⠂ @phosphor/widgets@^1.6.0\u001b[0K\u001b[1G⠄ @phosphor/widgets@^1.6.0\u001b[0K\u001b[1G⡀ @phosphor/widgets@^1.6.0\u001b[0K\u001b[1G⢀ @phosphor/widgets@^1.6.0\u001b[0K\u001b[1G⠠ @phosphor/widgets@^1.6.0\u001b[0K\u001b[1G⠐ marked@~0.4.0\u001b[0K\u001b[1G⠈ marked@~0.4.0\u001b[0K\u001b[1G⠁ marked@~0.4.0\u001b[0K\u001b[1G⠂ marked@~0.4.0\u001b[0K\u001b[1G⠄ marked@~0.4.0\u001b[0K\u001b[1G⡀ marked@~0.4.0\u001b[0K\u001b[1G⢀ marked@~0.4.0\u001b[0K\u001b[1G⠠ marked@~0.4.0\u001b[0K\u001b[1G⠐ marked@~0.4.0\u001b[0K\u001b[1G⠈ marked@~0.4.0\u001b[0K\u001b[1G⠁ marked@~0.4.0\u001b[0K\u001b[1G⠂ marked@~0.4.0\u001b[0K\u001b[1G⠄ @phosphor/collections@^1.1.2\u001b[0K\u001b[1G⡀ prop-types@^15.6.0\u001b[0K\u001b[1G⢀ json-stable-stringify@^1.0.1\u001b[0K\u001b[1G⠠ requires-port@^1.0.0\u001b[0K\u001b[1G⠐ requires-port@^1.0.0\u001b[0K\u001b[1G⠈ ua-parser-js@^0.7.18\u001b[0K\u001b[1G⠁ react-is@^16.8.1\u001b[0K\u001b[1G⠂ readable-stream@^3.1.1\u001b[0K\u001b[1G⠄ readable-stream@^3.1.1\u001b[0K\u001b[1G⡀ supports-color@^5.4.0\u001b[0K\u001b[1G⢀ number-is-nan@^1.0.0\u001b[0K\u001b[1G⠠ esprima@^2.7.0\u001b[0K\u001b[1G⠐ @phosphor/algorithm@^1.1.2\u001b[0K\u001b[2K\u001b[1G\u001b[33mwarning\u001b[39m @jupyterlab/application > @jupyterlab/apputils > react > fbjs > core-js@1.2.7: core-js@<2.6.5 is no longer maintained. Please, upgrade to core-js@3 or at least to actual version of core-js@2.\n",
      "\u001b[1G⠈ @phosphor/signaling@^1.2.2\u001b[0K\u001b[1G⠁ color-convert@^1.9.0\u001b[0K\u001b[1G⠂ util-deprecate@^1.0.1\u001b[0K\u001b[1G⠄ entities@^1.1.1\u001b[0K\u001b[1G⡀ safer-buffer@>= 2.1.2 < 3\u001b[0K\u001b[1G⢀ safer-buffer@>= 2.1.2 < 3\u001b[0K\u001b[1G⠠ safer-buffer@>= 2.1.2 < 3\u001b[0K\u001b[1G⠐ safer-buffer@>= 2.1.2 < 3\u001b[0K\u001b[1G⠈ safer-buffer@>= 2.1.2 < 3\u001b[0K\u001b[1G⠁ safer-buffer@>= 2.1.2 < 3\u001b[0K\u001b[1G⠂ safer-buffer@>= 2.1.2 < 3\u001b[0K\u001b[1G⠄ safer-buffer@>= 2.1.2 < 3\u001b[0K\u001b[1G⡀ safer-buffer@>= 2.1.2 < 3\u001b[0K\u001b[1G⢀ safer-buffer@>= 2.1.2 < 3\u001b[0K\u001b[1G⠠ safer-buffer@>= 2.1.2 < 3\u001b[0K\u001b[1G⠐ safer-buffer@>= 2.1.2 < 3\u001b[0K\u001b[1G⠈ safer-buffer@>= 2.1.2 < 3\u001b[0K\u001b[1G⠁ @jupyterlab/application-extension@^0.19.1\u001b[0K\u001b[1G⠂ @jupyterlab/application-extension@^0.19.1\u001b[0K\u001b[1G⠄ @jupyterlab/application-extension@^0.19.1\u001b[0K\u001b[1G⡀ @jupyterlab/application-extension@^0.19.1\u001b[0K\u001b[1G⢀ @jupyterlab/application-extension@^0.19.1\u001b[0K\u001b[1G⠠ @jupyterlab/application-extension@^0.19.1\u001b[0K\u001b[1G⠐ @jupyterlab/application-extension@^0.19.1\u001b[0K\u001b[1G⠈ @jupyterlab/application-extension@^0.19.1\u001b[0K\u001b[1G⠁ @jupyterlab/application-extension@^0.19.1\u001b[0K\u001b[1G⠂ @jupyterlab/application-extension@^0.19.1\u001b[0K\u001b[1G⠄ @jupyterlab/application-extension@^0.19.1\u001b[0K\u001b[1G⡀ @jupyterlab/application-extension@^0.19.1\u001b[0K\u001b[1G⢀ @jupyterlab/application-extension@^0.19.1\u001b[0K\u001b[1G⠠ @jupyterlab/apputils-extension@^0.19.1\u001b[0K\u001b[1G⠐ @jupyterlab/apputils-extension@^0.19.1\u001b[0K\u001b[1G⠈ @jupyterlab/apputils-extension@^0.19.1\u001b[0K\u001b[1G⠁ @jupyterlab/apputils-extension@^0.19.1\u001b[0K\u001b[1G⠂ @jupyterlab/apputils-extension@^0.19.1\u001b[0K\u001b[1G⠄ @jupyterlab/apputils-extension@^0.19.1\u001b[0K\u001b[1G⡀ @jupyterlab/apputils-extension@^0.19.1\u001b[0K\u001b[1G⢀ @jupyterlab/apputils-extension@^0.19.1\u001b[0K\u001b[1G⠠ @jupyterlab/apputils-extension@^0.19.1\u001b[0K\u001b[1G⠐ @jupyterlab/apputils-extension@^0.19.1\u001b[0K\u001b[1G⠈ @jupyterlab/apputils-extension@^0.19.1\u001b[0K\u001b[1G⠁ @jupyterlab/apputils-extension@^0.19.1\u001b[0K\u001b[1G⠂ @jupyterlab/apputils-extension@^0.19.1\u001b[0K\u001b[1G⠄ @jupyterlab/apputils-extension@^0.19.1\u001b[0K\u001b[1G⡀ @jupyterlab/apputils-extension@^0.19.1\u001b[0K\u001b[1G⢀ @jupyterlab/apputils-extension@^0.19.1\u001b[0K\u001b[1G⠠ @jupyterlab/apputils-extension@^0.19.1\u001b[0K\u001b[1G⠐ @jupyterlab/apputils-extension@^0.19.1\u001b[0K\u001b[1G⠈ @jupyterlab/apputils-extension@^0.19.1\u001b[0K\u001b[1G⠁ @jupyterlab/apputils-extension@^0.19.1\u001b[0K\u001b[1G⠂ @jupyterlab/apputils-extension@^0.19.1\u001b[0K\u001b[1G⠄ @jupyterlab/apputils-extension@^0.19.1\u001b[0K\u001b[1G⡀ @jupyterlab/apputils-extension@^0.19.1\u001b[0K\u001b[1G⢀ @jupyterlab/apputils-extension@^0.19.1\u001b[0K\u001b[1G⠠ es6-promise@~4.1.1\u001b[0K\u001b[1G⠐ es6-promise@~4.1.1\u001b[0K\u001b[1G⠈ es6-promise@~4.1.1\u001b[0K\u001b[1G⠁ es6-promise@~4.1.1\u001b[0K\u001b[1G⠂ es6-promise@~4.1.1\u001b[0K\u001b[1G⠄ es6-promise@~4.1.1\u001b[0K\u001b[1G⡀ es6-promise@~4.1.1\u001b[0K\u001b[1G⢀ es6-promise@~4.1.1\u001b[0K\u001b[1G⠠ es6-promise@~4.1.1\u001b[0K\u001b[1G⠐ es6-promise@~4.1.1\u001b[0K\u001b[1G⠈ es6-promise@~4.1.1\u001b[0K\u001b[1G⠁ es6-promise@~4.1.1\u001b[0K\u001b[1G⠂ @jupyterlab/attachments@^0.19.1\u001b[0K\u001b[1G⠄ @jupyterlab/attachments@^0.19.1\u001b[0K\u001b[1G⡀ @jupyterlab/attachments@^0.19.1\u001b[0K\u001b[1G⢀ @jupyterlab/attachments@^0.19.1\u001b[0K\u001b[1G⠠ @jupyterlab/attachments@^0.19.1\u001b[0K\u001b[1G⠐ @jupyterlab/attachments@^0.19.1\u001b[0K\u001b[1G⠈ @jupyterlab/attachments@^0.19.1\u001b[0K\u001b[1G⠁ @jupyterlab/attachments@^0.19.1\u001b[0K\u001b[1G⠂ @jupyterlab/attachments@^0.19.1\u001b[0K\u001b[1G⠄ @jupyterlab/attachments@^0.19.1\u001b[0K\u001b[1G⡀ @jupyterlab/attachments@^0.19.1\u001b[0K\u001b[1G⢀ @jupyterlab/attachments@^0.19.1\u001b[0K\u001b[1G⠠ @jupyterlab/attachments@^0.19.1\u001b[0K\u001b[1G⠐ @jupyterlab/cells@^0.19.1\u001b[0K\u001b[1G⠈ @jupyterlab/cells@^0.19.1\u001b[0K\u001b[1G⠁ @jupyterlab/cells@^0.19.1\u001b[0K\u001b[1G⠂ @jupyterlab/cells@^0.19.1\u001b[0K\u001b[1G⠄ @jupyterlab/cells@^0.19.1\u001b[0K\u001b[1G⡀ @jupyterlab/cells@^0.19.1\u001b[0K\u001b[1G⢀ @jupyterlab/cells@^0.19.1\u001b[0K\u001b[1G⠠ @jupyterlab/cells@^0.19.1\u001b[0K\u001b[1G⠐ @jupyterlab/cells@^0.19.1\u001b[0K\u001b[1G⠈ @jupyterlab/cells@^0.19.1\u001b[0K\u001b[1G⠁ @jupyterlab/cells@^0.19.1\u001b[0K\u001b[1G⠂ @jupyterlab/cells@^0.19.1\u001b[0K\u001b[1G⠄ react@~16.4.2\u001b[0K\u001b[1G⡀ react@~16.4.2\u001b[0K\u001b[1G⢀ react@~16.4.2\u001b[0K\u001b[1G⠠ react@~16.4.2\u001b[0K\u001b[1G⠐ react@~16.4.2\u001b[0K\u001b[1G⠈ react@~16.4.2\u001b[0K\u001b[1G⠁ react@~16.4.2\u001b[0K\u001b[1G⠂ react@~16.4.2\u001b[0K\u001b[1G⠄ react@~16.4.2\u001b[0K\u001b[1G⡀ react@~16.4.2\u001b[0K\u001b[1G⢀ react@~16.4.2\u001b[0K\u001b[1G⠠ react@~16.4.2\u001b[0K\u001b[1G⠐ react@~16.4.2\u001b[0K\u001b[1G⠈ @jupyterlab/codemirror-extension@^0.19.1\u001b[0K\u001b[1G⠁ @jupyterlab/codemirror-extension@^0.19.1\u001b[0K\u001b[1G⠂ @jupyterlab/codemirror-extension@^0.19.1\u001b[0K\u001b[1G⠄ @jupyterlab/codemirror-extension@^0.19.1\u001b[0K\u001b[1G⡀ @jupyterlab/codemirror-extension@^0.19.1\u001b[0K\u001b[1G⢀ @jupyterlab/codemirror-extension@^0.19.1\u001b[0K\u001b[1G⠠ @jupyterlab/codemirror-extension@^0.19.1\u001b[0K\u001b[1G⠐ @jupyterlab/codemirror-extension@^0.19.1\u001b[0K\u001b[1G⠈ @jupyterlab/codemirror-extension@^0.19.1\u001b[0K\u001b[1G⠁ @jupyterlab/codemirror-extension@^0.19.1\u001b[0K\u001b[1G⠂ @jupyterlab/codemirror-extension@^0.19.1\u001b[0K\u001b[1G⠄ @jupyterlab/codemirror-extension@^0.19.1\u001b[0K\u001b[1G⡀ @jupyterlab/codemirror-extension@^0.19.1\u001b[0K\u001b[1G⢀ codemirror@~5.39.0\u001b[0K\u001b[1G⠠ codemirror@~5.39.0\u001b[0K\u001b[1G⠐ codemirror@~5.39.0\u001b[0K\u001b[1G⠈ codemirror@~5.39.0\u001b[0K\u001b[1G⠁ codemirror@~5.39.0\u001b[0K\u001b[1G⠂ codemirror@~5.39.0\u001b[0K\u001b[1G⠄ codemirror@~5.39.0\u001b[0K\u001b[1G⡀ codemirror@~5.39.0\u001b[0K\u001b[1G⢀ codemirror@~5.39.0\u001b[0K\u001b[1G⠠ codemirror@~5.39.0\u001b[0K\u001b[1G⠐ codemirror@~5.39.0\u001b[0K\u001b[1G⠈ codemirror@~5.39.0\u001b[0K\u001b[1G⠁ codemirror@~5.39.0\u001b[0K\u001b[1G⠂ @jupyterlab/completer@^0.19.1\u001b[0K\u001b[1G⠄ @jupyterlab/completer@^0.19.1\u001b[0K\u001b[1G⡀ @jupyterlab/completer@^0.19.1\u001b[0K\u001b[1G⢀ @jupyterlab/completer@^0.19.1\u001b[0K\u001b[1G⠠ @jupyterlab/completer@^0.19.1\u001b[0K\u001b[1G⠐ @jupyterlab/completer@^0.19.1\u001b[0K\u001b[1G⠈ @jupyterlab/completer@^0.19.1\u001b[0K\u001b[1G⠁ @jupyterlab/completer@^0.19.1\u001b[0K\u001b[1G⠂ @jupyterlab/completer@^0.19.1\u001b[0K\u001b[1G⠄ @jupyterlab/completer@^0.19.1\u001b[0K\u001b[1G⡀ @jupyterlab/completer@^0.19.1\u001b[0K\u001b[1G⢀ @jupyterlab/completer@^0.19.1\u001b[0K\u001b[1G⠠ @jupyterlab/completer@^0.19.1\u001b[0K\u001b[1G⠐ @jupyterlab/completer-extension@^0.19.1\u001b[0K\u001b[1G⠈ @jupyterlab/completer-extension@^0.19.1\u001b[0K\u001b[1G⠁ @jupyterlab/completer-extension@^0.19.1\u001b[0K\u001b[1G⠂ @jupyterlab/completer-extension@^0.19.1\u001b[0K\u001b[1G⠄ @jupyterlab/completer-extension@^0.19.1\u001b[0K\u001b[1G⡀ @jupyterlab/completer-extension@^0.19.1\u001b[0K\u001b[1G⢀ @jupyterlab/completer-extension@^0.19.1\u001b[0K\u001b[1G⠠ @jupyterlab/completer-extension@^0.19.1\u001b[0K\u001b[1G⠐ @jupyterlab/completer-extension@^0.19.1\u001b[0K\u001b[1G⠈ @jupyterlab/completer-extension@^0.19.1\u001b[0K\u001b[1G⠁ @jupyterlab/completer-extension@^0.19.1\u001b[0K\u001b[1G⠂ @jupyterlab/completer-extension@^0.19.1\u001b[0K\u001b[1G⠄ @jupyterlab/completer-extension@^0.19.1\u001b[0K\u001b[1G⡀ @phosphor/widgets@^1.6.0\u001b[0K\u001b[1G⢀ @phosphor/widgets@^1.6.0\u001b[0K\u001b[1G⠠ @phosphor/widgets@^1.6.0\u001b[0K\u001b[1G⠐ @phosphor/widgets@^1.6.0\u001b[0K\u001b[1G⠈ @phosphor/widgets@^1.6.0\u001b[0K\u001b[1G⠁ @phosphor/widgets@^1.6.0\u001b[0K\u001b[1G⠂ @phosphor/widgets@^1.6.0\u001b[0K\u001b[1G⠄ @phosphor/widgets@^1.6.0\u001b[0K\u001b[1G⡀ @phosphor/widgets@^1.6.0\u001b[0K\u001b[1G⢀ @phosphor/widgets@^1.6.0\u001b[0K\u001b[1G⠠ @phosphor/widgets@^1.6.0\u001b[0K\u001b[1G⠐ @phosphor/widgets@^1.6.0\u001b[0K\u001b[1G⠈ @phosphor/widgets@^1.6.0\u001b[0K\u001b[1G⠁ @jupyterlab/console-extension@^0.19.1\u001b[0K\u001b[1G⠂ @jupyterlab/console-extension@^0.19.1\u001b[0K\u001b[1G⠄ @jupyterlab/console-extension@^0.19.1\u001b[0K\u001b[1G⡀ @jupyterlab/console-extension@^0.19.1\u001b[0K\u001b[1G⢀ @jupyterlab/console-extension@^0.19.1\u001b[0K\u001b[1G⠠ @jupyterlab/console-extension@^0.19.1\u001b[0K\u001b[1G⠐ @jupyterlab/console-extension@^0.19.1\u001b[0K\u001b[1G⠈ @jupyterlab/console-extension@^0.19.1\u001b[0K\u001b[1G⠁ @jupyterlab/console-extension@^0.19.1\u001b[0K\u001b[1G⠂ @jupyterlab/console-extension@^0.19.1\u001b[0K\u001b[1G⠄ @jupyterlab/console-extension@^0.19.1\u001b[0K\u001b[1G⡀ @jupyterlab/console-extension@^0.19.1\u001b[0K\u001b[1G⢀ @phosphor/widgets@^1.6.0\u001b[0K\u001b[1G⠠ @phosphor/widgets@^1.6.0\u001b[0K\u001b[1G⠐ @phosphor/widgets@^1.6.0\u001b[0K\u001b[1G⠈ @phosphor/widgets@^1.6.0\u001b[0K\u001b[1G⠁ @phosphor/widgets@^1.6.0\u001b[0K\u001b[1G⠂ @phosphor/widgets@^1.6.0\u001b[0K\u001b[1G⠄ @phosphor/widgets@^1.6.0\u001b[0K\u001b[1G⡀ @phosphor/widgets@^1.6.0\u001b[0K\u001b[1G⢀ @phosphor/widgets@^1.6.0\u001b[0K\u001b[1G⠠ @phosphor/widgets@^1.6.0\u001b[0K\u001b[1G⠐ @phosphor/widgets@^1.6.0\u001b[0K\u001b[1G⠈ @phosphor/widgets@^1.6.0\u001b[0K\u001b[1G⠁ @phosphor/widgets@^1.6.0\u001b[0K\u001b[1G⠂ react@~16.4.2\u001b[0K\u001b[1G⠄ @phosphor/widgets@^1.6.0\u001b[0K\u001b[1G⡀ @phosphor/widgets@^1.6.0\u001b[0K\u001b[1G⢀ @phosphor/widgets@^1.6.0\u001b[0K\u001b[1G⠠ @phosphor/widgets@^1.6.0\u001b[0K\u001b[1G⠐ @phosphor/widgets@^1.6.0\u001b[0K\u001b[1G⠈ @phosphor/widgets@^1.6.0\u001b[0K\u001b[1G⠁ @phosphor/widgets@^1.6.0\u001b[0K\u001b[1G⠂ @phosphor/widgets@^1.6.0\u001b[0K\u001b[1G⠄ @phosphor/widgets@^1.6.0\u001b[0K\u001b[1G⡀ @phosphor/widgets@^1.6.0\u001b[0K\u001b[1G⢀ @phosphor/widgets@^1.6.0\u001b[0K\u001b[1G⠠ @phosphor/widgets@^1.6.0\u001b[0K\u001b[1G⠐ @phosphor/widgets@^1.6.0\u001b[0K\u001b[1G⠈ @jupyterlab/csvviewer@^0.19.1\u001b[0K\u001b[1G⠁ @jupyterlab/csvviewer@^0.19.1\u001b[0K\u001b[1G⠂ @jupyterlab/csvviewer@^0.19.1\u001b[0K\u001b[1G⠄ @jupyterlab/csvviewer@^0.19.1\u001b[0K\u001b[1G⡀ @jupyterlab/csvviewer@^0.19.1\u001b[0K\u001b[1G⢀ @jupyterlab/csvviewer@^0.19.1\u001b[0K\u001b[1G⠠ @jupyterlab/csvviewer@^0.19.1\u001b[0K\u001b[1G⠐ @jupyterlab/csvviewer@^0.19.1\u001b[0K\u001b[1G⠈ @jupyterlab/csvviewer@^0.19.1\u001b[0K\u001b[1G⠁ @jupyterlab/csvviewer@^0.19.1\u001b[0K\u001b[1G⠂ @jupyterlab/csvviewer@^0.19.1\u001b[0K\u001b[1G⠄ @jupyterlab/csvviewer@^0.19.1\u001b[0K\u001b[1G⡀ @phosphor/widgets@^1.6.0\u001b[0K\u001b[1G⢀ @phosphor/widgets@^1.6.0\u001b[0K\u001b[1G⠠ @phosphor/widgets@^1.6.0\u001b[0K\u001b[1G⠐ @phosphor/widgets@^1.6.0\u001b[0K\u001b[1G⠈ @phosphor/widgets@^1.6.0\u001b[0K\u001b[1G⠁ @phosphor/widgets@^1.6.0\u001b[0K\u001b[1G⠂ @phosphor/widgets@^1.6.0\u001b[0K\u001b[1G⠄ @phosphor/widgets@^1.6.0\u001b[0K\u001b[1G⡀ @phosphor/widgets@^1.6.0\u001b[0K\u001b[1G⢀ @phosphor/widgets@^1.6.0\u001b[0K\u001b[1G⠠ @phosphor/widgets@^1.6.0\u001b[0K\u001b[1G⠐ @phosphor/widgets@^1.6.0\u001b[0K\u001b[1G⠈ @phosphor/widgets@^1.6.0\u001b[0K\u001b[1G⠁ @jupyterlab/csvviewer-extension@^0.19.1\u001b[0K\u001b[1G⠂ @jupyterlab/csvviewer-extension@^0.19.1\u001b[0K\u001b[1G⠄ @jupyterlab/csvviewer-extension@^0.19.1\u001b[0K\u001b[1G⡀ @jupyterlab/csvviewer-extension@^0.19.1\u001b[0K\u001b[1G⢀ @jupyterlab/csvviewer-extension@^0.19.1\u001b[0K\u001b[1G⠠ @jupyterlab/csvviewer-extension@^0.19.1\u001b[0K\u001b[1G⠐ @jupyterlab/csvviewer-extension@^0.19.1\u001b[0K\u001b[1G⠈ @jupyterlab/csvviewer-extension@^0.19.1\u001b[0K\u001b[1G⠁ @jupyterlab/csvviewer-extension@^0.19.1\u001b[0K\u001b[1G⠂ @jupyterlab/csvviewer-extension@^0.19.1\u001b[0K\u001b[1G⠄ @jupyterlab/csvviewer-extension@^0.19.1\u001b[0K\u001b[1G⡀ @jupyterlab/csvviewer-extension@^0.19.1\u001b[0K\u001b[1G⢀ @jupyterlab/csvviewer-extension@^0.19.1\u001b[0K\u001b[1G⠠ @jupyterlab/docmanager-extension@^0.19.1\u001b[0K\u001b[1G⠐ @jupyterlab/docmanager-extension@^0.19.1\u001b[0K\u001b[1G⠈ @jupyterlab/docmanager-extension@^0.19.1\u001b[0K\u001b[1G⠁ @jupyterlab/docmanager-extension@^0.19.1\u001b[0K\u001b[1G⠂ @jupyterlab/docmanager-extension@^0.19.1\u001b[0K\u001b[1G⠄ @jupyterlab/docmanager-extension@^0.19.1\u001b[0K\u001b[1G⡀ @jupyterlab/docmanager-extension@^0.19.1\u001b[0K\u001b[1G⢀ @jupyterlab/docmanager-extension@^0.19.1\u001b[0K\u001b[1G⠠ @jupyterlab/docmanager-extension@^0.19.1\u001b[0K\u001b[1G⠐ @jupyterlab/docmanager-extension@^0.19.1\u001b[0K\u001b[1G⠈ @jupyterlab/docmanager-extension@^0.19.1\u001b[0K\u001b[1G⠁ @jupyterlab/docmanager-extension@^0.19.1\u001b[0K\u001b[1G⠂ @jupyterlab/docmanager-extension@^0.19.1\u001b[0K\u001b[1G⠄ @jupyterlab/extensionmanager@^0.19.1\u001b[0K\u001b[1G⡀ @jupyterlab/extensionmanager@^0.19.1\u001b[0K\u001b[1G⢀ @jupyterlab/extensionmanager@^0.19.1\u001b[0K\u001b[1G⠠ @jupyterlab/extensionmanager@^0.19.1\u001b[0K\u001b[1G⠐ @jupyterlab/extensionmanager@^0.19.1\u001b[0K\u001b[1G⠈ @jupyterlab/extensionmanager@^0.19.1\u001b[0K\u001b[1G⠁ @jupyterlab/extensionmanager@^0.19.1\u001b[0K\u001b[1G⠂ @jupyterlab/extensionmanager@^0.19.1\u001b[0K\u001b[1G⠄ @jupyterlab/extensionmanager@^0.19.1\u001b[0K\u001b[1G⡀ @jupyterlab/extensionmanager@^0.19.1\u001b[0K\u001b[1G⢀ @jupyterlab/extensionmanager@^0.19.1\u001b[0K\u001b[1G⠠ @jupyterlab/extensionmanager@^0.19.1\u001b[0K\u001b[1G⠐ @jupyterlab/extensionmanager@^0.19.1\u001b[0K\u001b[1G⠈ semver@^5.5.0\u001b[0K\u001b[1G⠁ semver@^5.5.0\u001b[0K\u001b[1G⠂ @jupyterlab/extensionmanager-extension@^0.19.1\u001b[0K\u001b[1G⠄ @jupyterlab/extensionmanager-extension@^0.19.1\u001b[0K\u001b[1G⡀ @jupyterlab/extensionmanager-extension@^0.19.1\u001b[0K\u001b[1G⢀ @jupyterlab/extensionmanager-extension@^0.19.1\u001b[0K\u001b[1G⠠ @jupyterlab/extensionmanager-extension@^0.19.1\u001b[0K\u001b[1G⠐ @jupyterlab/extensionmanager-extension@^0.19.1\u001b[0K\u001b[1G⠈ @jupyterlab/extensionmanager-extension@^0.19.1\u001b[0K\u001b[1G⠁ @jupyterlab/extensionmanager-extension@^0.19.1\u001b[0K\u001b[1G⠂ @jupyterlab/extensionmanager-extension@^0.19.1\u001b[0K\u001b[1G⠄ @jupyterlab/extensionmanager-extension@^0.19.1\u001b[0K\u001b[1G⡀ @jupyterlab/extensionmanager-extension@^0.19.1\u001b[0K\u001b[1G⢀ @jupyterlab/extensionmanager-extension@^0.19.1\u001b[0K\u001b[1G⠠ @jupyterlab/extensionmanager-extension@^0.19.1\u001b[0K\u001b[1G⠐ @jupyterlab/faq-extension@^0.19.1\u001b[0K\u001b[1G⠈ @jupyterlab/faq-extension@^0.19.1\u001b[0K\u001b[1G⠁ @jupyterlab/faq-extension@^0.19.1\u001b[0K\u001b[1G⠂ @jupyterlab/faq-extension@^0.19.1\u001b[0K\u001b[1G⠄ @jupyterlab/faq-extension@^0.19.1\u001b[0K\u001b[1G⡀ @jupyterlab/faq-extension@^0.19.1\u001b[0K\u001b[1G⢀ @jupyterlab/faq-extension@^0.19.1\u001b[0K\u001b[1G⠠ @jupyterlab/faq-extension@^0.19.1\u001b[0K\u001b[1G⠐ @jupyterlab/faq-extension@^0.19.1\u001b[0K\u001b[1G⠈ @jupyterlab/faq-extension@^0.19.1\u001b[0K\u001b[1G⠁ @jupyterlab/faq-extension@^0.19.1\u001b[0K\u001b[1G⠂ @jupyterlab/faq-extension@^0.19.1\u001b[0K\u001b[1G⠄ @jupyterlab/faq-extension@^0.19.1\u001b[0K\u001b[1G⡀ @jupyterlab/filebrowser-extension@^0.19.2\u001b[0K\u001b[1G⢀ @jupyterlab/filebrowser-extension@^0.19.2\u001b[0K\u001b[1G⠠ @jupyterlab/filebrowser-extension@^0.19.2\u001b[0K\u001b[1G⠐ @jupyterlab/filebrowser-extension@^0.19.2\u001b[0K\u001b[1G⠈ @jupyterlab/filebrowser-extension@^0.19.2\u001b[0K\u001b[1G⠁ @jupyterlab/filebrowser-extension@^0.19.2\u001b[0K\u001b[1G⠂ @jupyterlab/filebrowser-extension@^0.19.2\u001b[0K\u001b[1G⠄ @jupyterlab/filebrowser-extension@^0.19.2\u001b[0K\u001b[1G⡀ @jupyterlab/filebrowser-extension@^0.19.2\u001b[0K\u001b[1G⢀ @jupyterlab/filebrowser-extension@^0.19.2\u001b[0K\u001b[1G⠠ @jupyterlab/filebrowser-extension@^0.19.2\u001b[0K\u001b[1G⠐ @jupyterlab/filebrowser-extension@^0.19.2\u001b[0K\u001b[1G⠈ @jupyterlab/fileeditor-extension@^0.19.1\u001b[0K\u001b[1G⠁ @jupyterlab/fileeditor-extension@^0.19.1\u001b[0K\u001b[1G⠂ @jupyterlab/fileeditor-extension@^0.19.1\u001b[0K\u001b[1G⠄ @jupyterlab/fileeditor-extension@^0.19.1\u001b[0K\u001b[1G⡀ @jupyterlab/fileeditor-extension@^0.19.1\u001b[0K\u001b[1G⢀ @jupyterlab/fileeditor-extension@^0.19.1\u001b[0K\u001b[1G⠠ @jupyterlab/fileeditor-extension@^0.19.1\u001b[0K\u001b[1G⠐ @jupyterlab/fileeditor-extension@^0.19.1\u001b[0K\u001b[1G⠈ @jupyterlab/fileeditor-extension@^0.19.1\u001b[0K\u001b[1G⠁ @jupyterlab/fileeditor-extension@^0.19.1\u001b[0K\u001b[1G⠂ @jupyterlab/fileeditor-extension@^0.19.1\u001b[0K\u001b[1G⠄ @jupyterlab/fileeditor-extension@^0.19.1\u001b[0K\u001b[1G⡀ @jupyterlab/help-extension@^0.19.1\u001b[0K\u001b[1G⢀ @jupyterlab/help-extension@^0.19.1\u001b[0K\u001b[1G⠠ @jupyterlab/help-extension@^0.19.1\u001b[0K\u001b[1G⠐ @jupyterlab/help-extension@^0.19.1\u001b[0K\u001b[1G⠈ @jupyterlab/help-extension@^0.19.1\u001b[0K\u001b[1G⠁ @jupyterlab/help-extension@^0.19.1\u001b[0K\u001b[1G⠂ @jupyterlab/help-extension@^0.19.1\u001b[0K\u001b[1G⠄ @jupyterlab/help-extension@^0.19.1\u001b[0K\u001b[1G⡀ @jupyterlab/help-extension@^0.19.1\u001b[0K\u001b[1G⢀ @jupyterlab/help-extension@^0.19.1\u001b[0K\u001b[1G⠠ @jupyterlab/help-extension@^0.19.1\u001b[0K\u001b[1G⠐ @jupyterlab/help-extension@^0.19.1\u001b[0K\u001b[1G⠈ @jupyterlab/help-extension@^0.19.1\u001b[0K\u001b[1G⠁ @jupyterlab/help-extension@^0.19.1\u001b[0K\u001b[1G⠂ @jupyterlab/help-extension@^0.19.1\u001b[0K\u001b[1G⠄ @jupyterlab/help-extension@^0.19.1\u001b[0K\u001b[1G⡀ @jupyterlab/help-extension@^0.19.1\u001b[0K\u001b[1G⢀ @jupyterlab/help-extension@^0.19.1\u001b[0K\u001b[1G⠠ @jupyterlab/help-extension@^0.19.1\u001b[0K\u001b[1G⠐ @jupyterlab/help-extension@^0.19.1\u001b[0K\u001b[1G⠈ @jupyterlab/help-extension@^0.19.1\u001b[0K\u001b[1G⠁ @jupyterlab/help-extension@^0.19.1\u001b[0K\u001b[1G⠂ @jupyterlab/help-extension@^0.19.1\u001b[0K\u001b[1G⠄ @jupyterlab/help-extension@^0.19.1\u001b[0K\u001b[1G⡀ @jupyterlab/help-extension@^0.19.1\u001b[0K\u001b[1G⢀ @jupyterlab/help-extension@^0.19.1\u001b[0K\u001b[1G⠠ @jupyterlab/help-extension@^0.19.1\u001b[0K\u001b[1G⠐ @jupyterlab/help-extension@^0.19.1\u001b[0K\u001b[1G⠈ @jupyterlab/help-extension@^0.19.1\u001b[0K\u001b[1G⠁ @jupyterlab/help-extension@^0.19.1\u001b[0K\u001b[1G⠂ @jupyterlab/imageviewer@^0.19.1\u001b[0K\u001b[1G⠄ @jupyterlab/imageviewer@^0.19.1\u001b[0K\u001b[1G⡀ @jupyterlab/imageviewer@^0.19.1\u001b[0K\u001b[1G⢀ @jupyterlab/imageviewer@^0.19.1\u001b[0K\u001b[1G⠠ @jupyterlab/imageviewer@^0.19.1\u001b[0K\u001b[1G⠐ @jupyterlab/imageviewer@^0.19.1\u001b[0K\u001b[1G⠈ @jupyterlab/imageviewer@^0.19.1\u001b[0K\u001b[1G⠁ @jupyterlab/imageviewer@^0.19.1\u001b[0K\u001b[1G⠂ @jupyterlab/imageviewer@^0.19.1\u001b[0K\u001b[1G⠄ @jupyterlab/imageviewer@^0.19.1\u001b[0K\u001b[1G⡀ @jupyterlab/imageviewer@^0.19.1\u001b[0K\u001b[1G⢀ @jupyterlab/imageviewer@^0.19.1\u001b[0K\u001b[1G⠠ @jupyterlab/imageviewer@^0.19.1\u001b[0K\u001b[1G⠐ @jupyterlab/imageviewer-extension@^0.19.1\u001b[0K\u001b[1G⠈ @jupyterlab/imageviewer-extension@^0.19.1\u001b[0K\u001b[1G⠁ @jupyterlab/imageviewer-extension@^0.19.1\u001b[0K\u001b[1G⠂ @jupyterlab/imageviewer-extension@^0.19.1\u001b[0K\u001b[1G⠄ @jupyterlab/imageviewer-extension@^0.19.1\u001b[0K\u001b[1G⡀ @jupyterlab/imageviewer-extension@^0.19.1\u001b[0K\u001b[1G⢀ @jupyterlab/imageviewer-extension@^0.19.1\u001b[0K\u001b[1G⠠ @jupyterlab/imageviewer-extension@^0.19.1\u001b[0K\u001b[1G⠐ @jupyterlab/imageviewer-extension@^0.19.1\u001b[0K\u001b[1G⠈ @jupyterlab/imageviewer-extension@^0.19.1\u001b[0K\u001b[1G⠁ @jupyterlab/imageviewer-extension@^0.19.1\u001b[0K\u001b[1G⠂ @jupyterlab/imageviewer-extension@^0.19.1\u001b[0K\u001b[1G⠄ @jupyterlab/inspector@^0.19.1\u001b[0K\u001b[1G⡀ @jupyterlab/inspector@^0.19.1\u001b[0K\u001b[1G⢀ @jupyterlab/inspector@^0.19.1\u001b[0K\u001b[1G⠠ @jupyterlab/inspector@^0.19.1\u001b[0K\u001b[1G⠐ @jupyterlab/inspector@^0.19.1\u001b[0K\u001b[1G⠈ @jupyterlab/inspector@^0.19.1\u001b[0K\u001b[1G⠁ @jupyterlab/inspector@^0.19.1\u001b[0K\u001b[1G⠂ @jupyterlab/inspector@^0.19.1\u001b[0K\u001b[1G⠄ @jupyterlab/inspector@^0.19.1\u001b[0K\u001b[1G⡀ @jupyterlab/inspector@^0.19.1\u001b[0K\u001b[1G⢀ @jupyterlab/inspector@^0.19.1\u001b[0K\u001b[1G⠠ @jupyterlab/inspector@^0.19.1\u001b[0K\u001b[1G⠐ @jupyterlab/inspector@^0.19.1\u001b[0K\u001b[1G⠈ @jupyterlab/inspector@^0.19.1\u001b[0K\u001b[1G⠁ @jupyterlab/inspector@^0.19.1\u001b[0K\u001b[1G⠂ @jupyterlab/inspector-extension@^0.19.1\u001b[0K\u001b[1G⠄ @jupyterlab/inspector-extension@^0.19.1\u001b[0K\u001b[1G⡀ @jupyterlab/inspector-extension@^0.19.1\u001b[0K\u001b[1G⢀ @jupyterlab/inspector-extension@^0.19.1\u001b[0K\u001b[1G⠠ @jupyterlab/inspector-extension@^0.19.1\u001b[0K\u001b[1G⠐ @jupyterlab/inspector-extension@^0.19.1\u001b[0K\u001b[1G⠈ @jupyterlab/inspector-extension@^0.19.1\u001b[0K\u001b[1G⠁ @jupyterlab/inspector-extension@^0.19.1\u001b[0K\u001b[1G⠂ @jupyterlab/inspector-extension@^0.19.1\u001b[0K\u001b[1G⠄ @jupyterlab/inspector-extension@^0.19.1\u001b[0K\u001b[1G⡀ @jupyterlab/inspector-extension@^0.19.1\u001b[0K\u001b[1G⢀ @jupyterlab/inspector-extension@^0.19.1\u001b[0K\u001b[1G⠠ @jupyterlab/inspector-extension@^0.19.1\u001b[0K\u001b[1G⠐ @jupyterlab/javascript-extension@^0.19.1\u001b[0K\u001b[1G⠈ @jupyterlab/javascript-extension@^0.19.1\u001b[0K\u001b[1G⠁ @jupyterlab/javascript-extension@^0.19.1\u001b[0K\u001b[1G⠂ @jupyterlab/javascript-extension@^0.19.1\u001b[0K\u001b[1G⠄ @jupyterlab/javascript-extension@^0.19.1\u001b[0K\u001b[1G⡀ @jupyterlab/javascript-extension@^0.19.1\u001b[0K\u001b[1G⢀ @jupyterlab/javascript-extension@^0.19.1\u001b[0K\u001b[1G⠠ @jupyterlab/javascript-extension@^0.19.1\u001b[0K\u001b[1G⠐ @jupyterlab/javascript-extension@^0.19.1\u001b[0K\u001b[1G⠈ @jupyterlab/javascript-extension@^0.19.1\u001b[0K\u001b[1G⠁ @jupyterlab/javascript-extension@^0.19.1\u001b[0K\u001b[1G⠂ @jupyterlab/javascript-extension@^0.19.1\u001b[0K\u001b[1G⠄ @jupyterlab/json-extension@^0.18.1\u001b[0K\u001b[1G⡀ @jupyterlab/json-extension@^0.18.1\u001b[0K\u001b[1G⢀ @jupyterlab/json-extension@^0.18.1\u001b[0K\u001b[1G⠠ @jupyterlab/json-extension@^0.18.1\u001b[0K\u001b[1G⠐ @jupyterlab/json-extension@^0.18.1\u001b[0K\u001b[1G⠈ @jupyterlab/json-extension@^0.18.1\u001b[0K\u001b[1G⠁ @jupyterlab/json-extension@^0.18.1\u001b[0K\u001b[1G⠂ @jupyterlab/json-extension@^0.18.1\u001b[0K\u001b[1G⠄ @jupyterlab/json-extension@^0.18.1\u001b[0K\u001b[1G⡀ @jupyterlab/json-extension@^0.18.1\u001b[0K\u001b[1G⢀ @jupyterlab/json-extension@^0.18.1\u001b[0K\u001b[1G⠠ @jupyterlab/json-extension@^0.18.1\u001b[0K\u001b[1G⠐ @jupyterlab/json-extension@^0.18.1\u001b[0K\u001b[1G⠈ object-assign@^4.1.1\u001b[0K\u001b[1G⠁ regenerator-runtime@^0.11.0\u001b[0K\u001b[1G⠂ regenerator-runtime@^0.11.0\u001b[0K\u001b[1G⠄ regenerator-runtime@^0.11.0\u001b[0K\u001b[1G⡀ regenerator-runtime@^0.11.0\u001b[0K\u001b[1G⢀ regenerator-runtime@^0.11.0\u001b[0K\u001b[1G⠠ regenerator-runtime@^0.11.0\u001b[0K\u001b[1G⠐ regenerator-runtime@^0.11.0\u001b[0K\u001b[1G⠈ regenerator-runtime@^0.11.0\u001b[0K\u001b[1G⠁ regenerator-runtime@^0.11.0\u001b[0K\u001b[1G⠂ regenerator-runtime@^0.11.0\u001b[0K\u001b[1G⠄ @jupyterlab/launcher-extension@^0.19.1\u001b[0K\u001b[1G⡀ @jupyterlab/launcher-extension@^0.19.1\u001b[0K\u001b[1G⢀ @jupyterlab/launcher-extension@^0.19.1\u001b[0K\u001b[1G⠠ @jupyterlab/launcher-extension@^0.19.1\u001b[0K\u001b[1G⠐ @jupyterlab/launcher-extension@^0.19.1\u001b[0K\u001b[1G⠈ @jupyterlab/launcher-extension@^0.19.1\u001b[0K\u001b[1G⠁ @jupyterlab/launcher-extension@^0.19.1\u001b[0K\u001b[1G⠂ @jupyterlab/launcher-extension@^0.19.1\u001b[0K\u001b[1G⠄ @jupyterlab/launcher-extension@^0.19.1\u001b[0K\u001b[1G⡀ @jupyterlab/launcher-extension@^0.19.1\u001b[0K\u001b[1G⢀ @jupyterlab/launcher-extension@^0.19.1\u001b[0K\u001b[1G⠠ @jupyterlab/launcher-extension@^0.19.1\u001b[0K\u001b[1G⠐ @jupyterlab/mainmenu-extension@^0.8.1\u001b[0K\u001b[1G⠈ @jupyterlab/mainmenu-extension@^0.8.1\u001b[0K\u001b[1G⠁ @jupyterlab/mainmenu-extension@^0.8.1\u001b[0K\u001b[1G⠂ @jupyterlab/mainmenu-extension@^0.8.1\u001b[0K\u001b[1G⠄ @jupyterlab/mainmenu-extension@^0.8.1\u001b[0K\u001b[1G⡀ @jupyterlab/mainmenu-extension@^0.8.1\u001b[0K\u001b[1G⢀ @jupyterlab/mainmenu-extension@^0.8.1\u001b[0K\u001b[1G⠠ @jupyterlab/mainmenu-extension@^0.8.1\u001b[0K\u001b[1G⠐ @jupyterlab/mainmenu-extension@^0.8.1\u001b[0K\u001b[1G⠈ @jupyterlab/mainmenu-extension@^0.8.1\u001b[0K\u001b[1G⠁ @jupyterlab/mainmenu-extension@^0.8.1\u001b[0K\u001b[1G⠂ @jupyterlab/mainmenu-extension@^0.8.1\u001b[0K\u001b[1G⠄ @jupyterlab/mainmenu-extension@^0.8.1\u001b[0K\u001b[1G⡀ @jupyterlab/mainmenu-extension@^0.8.1\u001b[0K\u001b[1G⢀ @jupyterlab/markdownviewer-extension@^0.19.1\u001b[0K\u001b[1G⠠ @jupyterlab/markdownviewer-extension@^0.19.1\u001b[0K\u001b[1G⠐ @jupyterlab/markdownviewer-extension@^0.19.1\u001b[0K\u001b[1G⠈ @jupyterlab/markdownviewer-extension@^0.19.1\u001b[0K\u001b[1G⠁ @jupyterlab/markdownviewer-extension@^0.19.1\u001b[0K\u001b[1G⠂ @jupyterlab/markdownviewer-extension@^0.19.1\u001b[0K\u001b[1G⠄ @jupyterlab/markdownviewer-extension@^0.19.1\u001b[0K\u001b[1G⡀ @jupyterlab/markdownviewer-extension@^0.19.1\u001b[0K\u001b[1G⢀ @jupyterlab/markdownviewer-extension@^0.19.1\u001b[0K\u001b[1G⠠ @jupyterlab/markdownviewer-extension@^0.19.1\u001b[0K\u001b[1G⠐ @jupyterlab/markdownviewer-extension@^0.19.1\u001b[0K\u001b[1G⠈ @jupyterlab/markdownviewer-extension@^0.19.1\u001b[0K\u001b[1G⠁ @jupyterlab/markdownviewer-extension@^0.19.1\u001b[0K\u001b[1G⠂ @jupyterlab/mathjax2@^0.7.1\u001b[0K\u001b[1G⠄ @jupyterlab/mathjax2@^0.7.1\u001b[0K\u001b[1G⡀ @jupyterlab/mathjax2@^0.7.1\u001b[0K\u001b[1G⢀ @jupyterlab/mathjax2@^0.7.1\u001b[0K\u001b[1G⠠ @jupyterlab/mathjax2@^0.7.1\u001b[0K\u001b[1G⠐ @jupyterlab/mathjax2@^0.7.1\u001b[0K\u001b[1G⠈ @jupyterlab/mathjax2@^0.7.1\u001b[0K\u001b[1G⠁ @jupyterlab/mathjax2@^0.7.1\u001b[0K\u001b[1G⠂ @jupyterlab/mathjax2@^0.7.1\u001b[0K\u001b[1G⠄ @jupyterlab/mathjax2@^0.7.1\u001b[0K\u001b[1G⡀ @jupyterlab/mathjax2@^0.7.1\u001b[0K\u001b[1G⢀ @jupyterlab/mathjax2@^0.7.1\u001b[0K\u001b[1G⠠ @jupyterlab/mathjax2@^0.7.1\u001b[0K\u001b[1G⠐ @jupyterlab/mathjax2-extension@^0.7.1\u001b[0K\u001b[1G⠈ @jupyterlab/mathjax2-extension@^0.7.1\u001b[0K\u001b[1G⠁ @jupyterlab/mathjax2-extension@^0.7.1\u001b[0K\u001b[1G⠂ @jupyterlab/mathjax2-extension@^0.7.1\u001b[0K\u001b[1G⠄ @jupyterlab/mathjax2-extension@^0.7.1\u001b[0K\u001b[1G⡀ @jupyterlab/mathjax2-extension@^0.7.1\u001b[0K\u001b[1G⢀ @jupyterlab/mathjax2-extension@^0.7.1\u001b[0K\u001b[1G⠠ @jupyterlab/mathjax2-extension@^0.7.1\u001b[0K\u001b[1G⠐ @jupyterlab/mathjax2-extension@^0.7.1\u001b[0K\u001b[1G⠈ @jupyterlab/mathjax2-extension@^0.7.1\u001b[0K\u001b[1G⠁ @jupyterlab/mathjax2-extension@^0.7.1\u001b[0K\u001b[1G⠂ @jupyterlab/mathjax2-extension@^0.7.1\u001b[0K\u001b[1G⠄ @jupyterlab/mathjax2-extension@^0.7.1\u001b[0K\u001b[1G⡀ @jupyterlab/mathjax2-extension@^0.7.1\u001b[0K\u001b[1G⢀ @jupyterlab/mathjax2-extension@^0.7.1\u001b[0K\u001b[1G⠠ @jupyterlab/mathjax2-extension@^0.7.1\u001b[0K\u001b[1G⠐ @jupyterlab/mathjax2-extension@^0.7.1\u001b[0K\u001b[1G⠈ @jupyterlab/mathjax2-extension@^0.7.1\u001b[0K\u001b[1G⠁ @jupyterlab/mathjax2-extension@^0.7.1\u001b[0K\u001b[1G⠂ @jupyterlab/mathjax2-extension@^0.7.1\u001b[0K\u001b[1G⠄ @jupyterlab/mathjax2-extension@^0.7.1\u001b[0K\u001b[1G⡀ @jupyterlab/mathjax2-extension@^0.7.1\u001b[0K\u001b[1G⢀ @jupyterlab/mathjax2-extension@^0.7.1\u001b[0K\u001b[1G⠠ @jupyterlab/mathjax2-extension@^0.7.1\u001b[0K\u001b[1G⠐ @jupyterlab/mathjax2-extension@^0.7.1\u001b[0K\u001b[1G⠈ @jupyterlab/mathjax2-extension@^0.7.1\u001b[0K\u001b[1G⠁ @jupyterlab/notebook-extension@^0.19.1\u001b[0K\u001b[1G⠂ @jupyterlab/notebook-extension@^0.19.1\u001b[0K\u001b[1G⠄ @jupyterlab/notebook-extension@^0.19.1\u001b[0K\u001b[1G⡀ @jupyterlab/notebook-extension@^0.19.1\u001b[0K\u001b[1G⢀ @jupyterlab/notebook-extension@^0.19.1\u001b[0K\u001b[1G⠠ @jupyterlab/notebook-extension@^0.19.1\u001b[0K\u001b[1G⠐ @jupyterlab/notebook-extension@^0.19.1\u001b[0K\u001b[1G⠈ @jupyterlab/notebook-extension@^0.19.1\u001b[0K\u001b[1G⠁ @jupyterlab/notebook-extension@^0.19.1\u001b[0K\u001b[1G⠂ @jupyterlab/notebook-extension@^0.19.1\u001b[0K\u001b[1G⠄ @jupyterlab/notebook-extension@^0.19.1\u001b[0K\u001b[1G⡀ @jupyterlab/notebook-extension@^0.19.1\u001b[0K\u001b[1G⢀ @jupyterlab/pdf-extension@^0.10.1\u001b[0K\u001b[1G⠠ @jupyterlab/pdf-extension@^0.10.1\u001b[0K\u001b[1G⠐ @jupyterlab/pdf-extension@^0.10.1\u001b[0K\u001b[1G⠈ @jupyterlab/pdf-extension@^0.10.1\u001b[0K\u001b[1G⠁ @jupyterlab/pdf-extension@^0.10.1\u001b[0K\u001b[1G⠂ @jupyterlab/pdf-extension@^0.10.1\u001b[0K\u001b[1G⠄ @jupyterlab/pdf-extension@^0.10.1\u001b[0K\u001b[1G⡀ @jupyterlab/pdf-extension@^0.10.1\u001b[0K\u001b[1G⢀ @jupyterlab/pdf-extension@^0.10.1\u001b[0K\u001b[1G⠠ @jupyterlab/pdf-extension@^0.10.1\u001b[0K\u001b[1G⠐ @jupyterlab/pdf-extension@^0.10.1\u001b[0K\u001b[1G⠈ @jupyterlab/pdf-extension@^0.10.1\u001b[0K\u001b[1G⠁ @jupyterlab/pdf-extension@^0.10.1\u001b[0K\u001b[1G⠂ @jupyterlab/rendermime-extension@^0.13.1\u001b[0K\u001b[1G⠄ @jupyterlab/rendermime-extension@^0.13.1\u001b[0K\u001b[1G⡀ @jupyterlab/rendermime-extension@^0.13.1\u001b[0K\u001b[1G⢀ @jupyterlab/rendermime-extension@^0.13.1\u001b[0K\u001b[1G⠠ @jupyterlab/rendermime-extension@^0.13.1\u001b[0K\u001b[1G⠐ @jupyterlab/rendermime-extension@^0.13.1\u001b[0K\u001b[1G⠈ @jupyterlab/rendermime-extension@^0.13.1\u001b[0K\u001b[1G⠁ @jupyterlab/rendermime-extension@^0.13.1\u001b[0K\u001b[1G⠂ @jupyterlab/rendermime-extension@^0.13.1\u001b[0K\u001b[1G⠄ @jupyterlab/rendermime-extension@^0.13.1\u001b[0K\u001b[1G⡀ @jupyterlab/rendermime-extension@^0.13.1\u001b[0K\u001b[1G⢀ @jupyterlab/rendermime-extension@^0.13.1\u001b[0K\u001b[1G⠠ @jupyterlab/rendermime-extension@^0.13.1\u001b[0K\u001b[1G⠐ @jupyterlab/running@^0.19.1\u001b[0K\u001b[1G⠈ @jupyterlab/running@^0.19.1\u001b[0K\u001b[1G⠁ @jupyterlab/running@^0.19.1\u001b[0K\u001b[1G⠂ @jupyterlab/running@^0.19.1\u001b[0K\u001b[1G⠄ @jupyterlab/running@^0.19.1\u001b[0K\u001b[1G⡀ @jupyterlab/running@^0.19.1\u001b[0K\u001b[1G⢀ @jupyterlab/running@^0.19.1\u001b[0K\u001b[1G⠠ @jupyterlab/running@^0.19.1\u001b[0K\u001b[1G⠐ @jupyterlab/running@^0.19.1\u001b[0K\u001b[1G⠈ @jupyterlab/running@^0.19.1\u001b[0K\u001b[1G⠁ @jupyterlab/running@^0.19.1\u001b[0K\u001b[1G⠂ @jupyterlab/running@^0.19.1\u001b[0K\u001b[1G⠄ @jupyterlab/running@^0.19.1\u001b[0K\u001b[1G⡀ @jupyterlab/running-extension@^0.19.1\u001b[0K\u001b[1G⢀ @jupyterlab/running-extension@^0.19.1\u001b[0K\u001b[1G⠠ @jupyterlab/running-extension@^0.19.1\u001b[0K\u001b[1G⠐ @jupyterlab/running-extension@^0.19.1\u001b[0K\u001b[1G⠈ @jupyterlab/running-extension@^0.19.1\u001b[0K\u001b[1G⠁ @jupyterlab/running-extension@^0.19.1\u001b[0K\u001b[1G⠂ @jupyterlab/running-extension@^0.19.1\u001b[0K\u001b[1G⠄ @jupyterlab/running-extension@^0.19.1\u001b[0K\u001b[1G⡀ @jupyterlab/running-extension@^0.19.1\u001b[0K\u001b[1G⢀ @jupyterlab/running-extension@^0.19.1\u001b[0K\u001b[1G⠠ @jupyterlab/running-extension@^0.19.1\u001b[0K\u001b[1G⠐ @jupyterlab/running-extension@^0.19.1\u001b[0K\u001b[1G⠈ @jupyterlab/running-extension@^0.19.1\u001b[0K\u001b[1G⠁ @jupyterlab/settingeditor@^0.8.1\u001b[0K\u001b[1G⠂ @jupyterlab/settingeditor@^0.8.1\u001b[0K\u001b[1G⠄ @jupyterlab/settingeditor@^0.8.1\u001b[0K\u001b[1G⡀ @jupyterlab/settingeditor@^0.8.1\u001b[0K\u001b[1G⢀ @jupyterlab/settingeditor@^0.8.1\u001b[0K\u001b[1G⠠ @jupyterlab/settingeditor@^0.8.1\u001b[0K\u001b[1G⠐ @jupyterlab/settingeditor@^0.8.1\u001b[0K\u001b[1G⠈ @jupyterlab/settingeditor@^0.8.1\u001b[0K\u001b[1G⠁ @jupyterlab/settingeditor@^0.8.1\u001b[0K\u001b[1G⠂ @jupyterlab/settingeditor@^0.8.1\u001b[0K\u001b[1G⠄ @jupyterlab/settingeditor@^0.8.1\u001b[0K\u001b[1G⡀ @jupyterlab/settingeditor@^0.8.1\u001b[0K\u001b[1G⢀ @jupyterlab/settingeditor@^0.8.1\u001b[0K\u001b[1G⠠ @jupyterlab/settingeditor@^0.8.1\u001b[0K\u001b[1G⠐ @jupyterlab/settingeditor@^0.8.1\u001b[0K\u001b[1G⠈ @jupyterlab/settingeditor@^0.8.1\u001b[0K\u001b[1G⠁ @jupyterlab/settingeditor@^0.8.1\u001b[0K\u001b[1G⠂ @jupyterlab/settingeditor@^0.8.1\u001b[0K\u001b[1G⠄ @jupyterlab/settingeditor-extension@^0.14.1\u001b[0K\u001b[1G⡀ @jupyterlab/settingeditor-extension@^0.14.1\u001b[0K\u001b[1G⢀ @jupyterlab/settingeditor-extension@^0.14.1\u001b[0K\u001b[1G⠠ @jupyterlab/settingeditor-extension@^0.14.1\u001b[0K\u001b[1G⠐ @jupyterlab/settingeditor-extension@^0.14.1\u001b[0K\u001b[1G⠈ @jupyterlab/settingeditor-extension@^0.14.1\u001b[0K\u001b[1G⠁ @jupyterlab/settingeditor-extension@^0.14.1\u001b[0K\u001b[1G⠂ @jupyterlab/settingeditor-extension@^0.14.1\u001b[0K\u001b[1G⠄ @jupyterlab/settingeditor-extension@^0.14.1\u001b[0K\u001b[1G⡀ @jupyterlab/settingeditor-extension@^0.14.1\u001b[0K\u001b[1G⢀ @jupyterlab/settingeditor-extension@^0.14.1\u001b[0K\u001b[1G⠠ @jupyterlab/settingeditor-extension@^0.14.1\u001b[0K\u001b[1G⠐ @jupyterlab/settingeditor-extension@^0.14.1\u001b[0K\u001b[1G⠈ @jupyterlab/shortcuts-extension@^0.19.3\u001b[0K\u001b[1G⠁ @jupyterlab/shortcuts-extension@^0.19.3\u001b[0K\u001b[1G⠂ @jupyterlab/shortcuts-extension@^0.19.3\u001b[0K\u001b[1G⠄ @jupyterlab/shortcuts-extension@^0.19.3\u001b[0K\u001b[1G⡀ @jupyterlab/shortcuts-extension@^0.19.3\u001b[0K\u001b[1G⢀ @jupyterlab/shortcuts-extension@^0.19.3\u001b[0K\u001b[1G⠠ @jupyterlab/shortcuts-extension@^0.19.3\u001b[0K\u001b[1G⠐ @jupyterlab/shortcuts-extension@^0.19.3\u001b[0K\u001b[1G⠈ @jupyterlab/shortcuts-extension@^0.19.3\u001b[0K\u001b[1G⠁ @jupyterlab/shortcuts-extension@^0.19.3\u001b[0K\u001b[1G⠂ @jupyterlab/shortcuts-extension@^0.19.3\u001b[0K\u001b[1G⠄ @jupyterlab/shortcuts-extension@^0.19.3\u001b[0K\u001b[1G⡀ @jupyterlab/shortcuts-extension@^0.19.3\u001b[0K\u001b[1G⢀ @jupyterlab/tabmanager-extension@^0.19.1\u001b[0K\u001b[1G⠠ @jupyterlab/tabmanager-extension@^0.19.1\u001b[0K\u001b[1G⠐ @jupyterlab/tabmanager-extension@^0.19.1\u001b[0K\u001b[1G⠈ @jupyterlab/tabmanager-extension@^0.19.1\u001b[0K\u001b[1G⠁ @jupyterlab/tabmanager-extension@^0.19.1\u001b[0K\u001b[1G⠂ @jupyterlab/tabmanager-extension@^0.19.1\u001b[0K\u001b[1G⠄ @jupyterlab/tabmanager-extension@^0.19.1\u001b[0K\u001b[1G⡀ @jupyterlab/tabmanager-extension@^0.19.1\u001b[0K\u001b[1G⢀ @jupyterlab/tabmanager-extension@^0.19.1\u001b[0K\u001b[1G⠠ @jupyterlab/tabmanager-extension@^0.19.1\u001b[0K\u001b[1G⠐ @jupyterlab/tabmanager-extension@^0.19.1\u001b[0K\u001b[1G⠈ @jupyterlab/tabmanager-extension@^0.19.1\u001b[0K\u001b[1G⠁ @jupyterlab/tabmanager-extension@^0.19.1\u001b[0K\u001b[1G⠂ @jupyterlab/terminal@^0.19.1\u001b[0K\u001b[1G⠄ @jupyterlab/terminal@^0.19.1\u001b[0K\u001b[1G⡀ @jupyterlab/terminal@^0.19.1\u001b[0K\u001b[1G⢀ @jupyterlab/terminal@^0.19.1\u001b[0K\u001b[1G⠠ @jupyterlab/terminal@^0.19.1\u001b[0K\u001b[1G⠐ @jupyterlab/terminal@^0.19.1\u001b[0K\u001b[1G⠈ @jupyterlab/terminal@^0.19.1\u001b[0K\u001b[1G⠁ @jupyterlab/terminal@^0.19.1\u001b[0K\u001b[1G⠂ @jupyterlab/terminal@^0.19.1\u001b[0K\u001b[1G⠄ @jupyterlab/terminal@^0.19.1\u001b[0K\u001b[1G⡀ @jupyterlab/terminal@^0.19.1\u001b[0K\u001b[1G⢀ @jupyterlab/terminal@^0.19.1\u001b[0K\u001b[1G⠠ @jupyterlab/terminal@^0.19.1\u001b[0K\u001b[1G⠐ @jupyterlab/terminal-extension@^0.19.1\u001b[0K\u001b[1G⠈ @jupyterlab/terminal-extension@^0.19.1\u001b[0K\u001b[1G⠁ @jupyterlab/terminal-extension@^0.19.1\u001b[0K\u001b[1G⠂ @jupyterlab/terminal-extension@^0.19.1\u001b[0K\u001b[1G⠄ @jupyterlab/terminal-extension@^0.19.1\u001b[0K\u001b[1G⡀ @jupyterlab/terminal-extension@^0.19.1\u001b[0K\u001b[1G⢀ @jupyterlab/terminal-extension@^0.19.1\u001b[0K\u001b[1G⠠ @jupyterlab/terminal-extension@^0.19.1\u001b[0K\u001b[1G⠐ @jupyterlab/terminal-extension@^0.19.1\u001b[0K\u001b[1G⠈ @jupyterlab/terminal-extension@^0.19.1\u001b[0K\u001b[1G⠁ @jupyterlab/terminal-extension@^0.19.1\u001b[0K\u001b[1G⠂ @jupyterlab/terminal-extension@^0.19.1\u001b[0K\u001b[1G⠄ @jupyterlab/terminal-extension@^0.19.1\u001b[0K\u001b[1G⡀ @jupyterlab/theme-dark-extension@^0.19.1\u001b[0K\u001b[1G⢀ @jupyterlab/theme-dark-extension@^0.19.1\u001b[0K\u001b[1G⠠ @jupyterlab/theme-dark-extension@^0.19.1\u001b[0K\u001b[1G⠐ @jupyterlab/theme-dark-extension@^0.19.1\u001b[0K\u001b[1G⠈ @jupyterlab/theme-dark-extension@^0.19.1\u001b[0K\u001b[1G⠁ @jupyterlab/theme-dark-extension@^0.19.1\u001b[0K\u001b[1G⠂ @jupyterlab/theme-dark-extension@^0.19.1\u001b[0K\u001b[1G⠄ @jupyterlab/theme-dark-extension@^0.19.1\u001b[0K\u001b[1G⡀ @jupyterlab/theme-dark-extension@^0.19.1\u001b[0K\u001b[1G⢀ @jupyterlab/theme-dark-extension@^0.19.1\u001b[0K\u001b[1G⠠ @jupyterlab/theme-dark-extension@^0.19.1\u001b[0K\u001b[1G⠐ @jupyterlab/theme-dark-extension@^0.19.1\u001b[0K\u001b[1G⠈ font-awesome@~4.7.0\u001b[0K\u001b[1G⠁ @jupyterlab/theme-light-extension@^0.19.1\u001b[0K\u001b[1G⠂ @jupyterlab/theme-light-extension@^0.19.1\u001b[0K\u001b[1G⠄ @jupyterlab/theme-light-extension@^0.19.1\u001b[0K\u001b[1G⡀ @jupyterlab/theme-light-extension@^0.19.1\u001b[0K\u001b[1G⢀ @jupyterlab/theme-light-extension@^0.19.1\u001b[0K\u001b[1G⠠ @jupyterlab/theme-light-extension@^0.19.1\u001b[0K\u001b[1G⠐ @jupyterlab/theme-light-extension@^0.19.1\u001b[0K\u001b[1G⠈ @jupyterlab/theme-light-extension@^0.19.1\u001b[0K\u001b[1G⠁ @jupyterlab/theme-light-extension@^0.19.1\u001b[0K\u001b[1G⠂ @jupyterlab/theme-light-extension@^0.19.1\u001b[0K\u001b[1G⠄ @jupyterlab/theme-light-extension@^0.19.1\u001b[0K\u001b[1G⡀ @jupyterlab/theme-light-extension@^0.19.1\u001b[0K\u001b[1G⢀ @jupyterlab/theme-light-extension@^0.19.1\u001b[0K\u001b[1G⠠ @jupyterlab/theme-light-extension@^0.19.1\u001b[0K\u001b[1G⠐ @jupyterlab/tooltip@^0.19.1\u001b[0K\u001b[1G⠈ @jupyterlab/tooltip@^0.19.1\u001b[0K\u001b[1G⠁ @jupyterlab/tooltip@^0.19.1\u001b[0K\u001b[1G⠂ @jupyterlab/tooltip@^0.19.1\u001b[0K\u001b[1G⠄ @jupyterlab/tooltip@^0.19.1\u001b[0K\u001b[1G⡀ @jupyterlab/tooltip@^0.19.1\u001b[0K\u001b[1G⢀ @jupyterlab/tooltip@^0.19.1\u001b[0K\u001b[1G⠠ @jupyterlab/tooltip@^0.19.1\u001b[0K\u001b[1G⠐ @jupyterlab/tooltip@^0.19.1\u001b[0K\u001b[1G⠈ @jupyterlab/tooltip@^0.19.1\u001b[0K\u001b[1G⠁ @jupyterlab/tooltip@^0.19.1\u001b[0K\u001b[1G⠂ @jupyterlab/tooltip@^0.19.1\u001b[0K\u001b[1G⠄ @jupyterlab/tooltip@^0.19.1\u001b[0K\u001b[1G⡀ @jupyterlab/tooltip-extension@^0.19.1\u001b[0K\u001b[1G⢀ @jupyterlab/tooltip-extension@^0.19.1\u001b[0K\u001b[1G⠠ @jupyterlab/tooltip-extension@^0.19.1\u001b[0K\u001b[1G⠐ @jupyterlab/tooltip-extension@^0.19.1\u001b[0K\u001b[1G⠈ @jupyterlab/tooltip-extension@^0.19.1\u001b[0K\u001b[1G⠁ @jupyterlab/tooltip-extension@^0.19.1\u001b[0K\u001b[1G⠂ @jupyterlab/tooltip-extension@^0.19.1\u001b[0K\u001b[1G⠄ @jupyterlab/tooltip-extension@^0.19.1\u001b[0K\u001b[1G⡀ @jupyterlab/tooltip-extension@^0.19.1\u001b[0K\u001b[1G⢀ @jupyterlab/tooltip-extension@^0.19.1\u001b[0K\u001b[1G⠠ @jupyterlab/tooltip-extension@^0.19.1\u001b[0K\u001b[1G⠐ @jupyterlab/tooltip-extension@^0.19.1\u001b[0K\u001b[1G⠈ @jupyterlab/tooltip-extension@^0.19.1\u001b[0K\u001b[1G⠁ @jupyterlab/vdom-extension@^0.18.1\u001b[0K\u001b[1G⠂ @jupyterlab/vdom-extension@^0.18.1\u001b[0K\u001b[1G⠄ @jupyterlab/vdom-extension@^0.18.1\u001b[0K\u001b[1G⡀ @jupyterlab/vdom-extension@^0.18.1\u001b[0K\u001b[1G⢀ @jupyterlab/vdom-extension@^0.18.1\u001b[0K\u001b[1G⠠ @jupyterlab/vdom-extension@^0.18.1\u001b[0K\u001b[1G⠐ @jupyterlab/vdom-extension@^0.18.1\u001b[0K\u001b[1G⠈ @jupyterlab/vdom-extension@^0.18.1\u001b[0K\u001b[1G⠁ @jupyterlab/vdom-extension@^0.18.1\u001b[0K\u001b[1G⠂ @jupyterlab/vdom-extension@^0.18.1\u001b[0K\u001b[1G⠄ @jupyterlab/vdom-extension@^0.18.1\u001b[0K\u001b[1G⡀ @jupyterlab/vdom-extension@^0.18.1\u001b[0K\u001b[1G⢀ @jupyterlab/vdom-extension@^0.18.1\u001b[0K\u001b[1G⠠ @jupyterlab/vdom-extension@^0.18.1\u001b[0K\u001b[1G⠐ @jupyterlab/vdom-extension@^0.18.1\u001b[0K\u001b[1G⠈ @jupyterlab/vdom-extension@^0.18.1\u001b[0K\u001b[1G⠁ @jupyterlab/vdom-extension@^0.18.1\u001b[0K\u001b[1G⠂ @jupyterlab/vdom-extension@^0.18.1\u001b[0K\u001b[1G⠄ @jupyterlab/vdom-extension@^0.18.1\u001b[0K\u001b[1G⡀ @jupyterlab/vdom-extension@^0.18.1\u001b[0K\u001b[1G⢀ @jupyterlab/vdom-extension@^0.18.1\u001b[0K\u001b[1G⠠ @jupyterlab/vdom-extension@^0.18.1\u001b[0K\u001b[1G⠐ @jupyterlab/vdom-extension@^0.18.1\u001b[0K\u001b[1G⠈ react-dom@~16.4.2\u001b[0K\u001b[1G⠁ react-dom@~16.4.2\u001b[0K\u001b[1G⠂ react-dom@~16.4.2\u001b[0K\u001b[1G⠄ react-dom@~16.4.2\u001b[0K\u001b[1G⡀ react-dom@~16.4.2\u001b[0K\u001b[1G⢀ react-dom@~16.4.2\u001b[0K\u001b[1G⠠ react-dom@~16.4.2\u001b[0K\u001b[1G⠐ react-dom@~16.4.2\u001b[0K\u001b[1G⠈ react-dom@~16.4.2\u001b[0K\u001b[1G⠁ react-dom@~16.4.2\u001b[0K\u001b[1G⠂ react-dom@~16.4.2\u001b[0K\u001b[1G⠄ react-dom@~16.4.2\u001b[0K\u001b[1G⡀ react-dom@~16.4.2\u001b[0K\u001b[1G⢀ @jupyterlab/vega4-extension@^0.18.1\u001b[0K\u001b[1G⠠ @jupyterlab/vega4-extension@^0.18.1\u001b[0K\u001b[1G⠐ @jupyterlab/vega4-extension@^0.18.1\u001b[0K\u001b[1G⠈ @jupyterlab/vega4-extension@^0.18.1\u001b[0K\u001b[1G⠁ @jupyterlab/vega4-extension@^0.18.1\u001b[0K\u001b[1G⠂ @jupyterlab/vega4-extension@^0.18.1\u001b[0K\u001b[1G⠄ @jupyterlab/vega4-extension@^0.18.1\u001b[0K\u001b[1G⡀ @jupyterlab/vega4-extension@^0.18.1\u001b[0K\u001b[1G⢀ @jupyterlab/vega4-extension@^0.18.1\u001b[0K\u001b[1G⠠ @jupyterlab/vega4-extension@^0.18.1\u001b[0K\u001b[1G⠐ @jupyterlab/vega4-extension@^0.18.1\u001b[0K\u001b[1G⠈ @jupyterlab/vega4-extension@^0.18.1\u001b[0K\u001b[1G⠁ vega-embed@3.18.2\u001b[0K\u001b[1G⠂ vega-tooltip@^0.12.0\u001b[0K\u001b[1G⠄ yargs@^11.0.0\u001b[0K\u001b[1G⡀ vega-util@^1.7.0\u001b[0K\u001b[1G⢀ vega-util@^1.7.0\u001b[0K\u001b[1G⠠ vega-util@^1.7.0\u001b[0K\u001b[1G⠐ vega-util@^1.7.0\u001b[0K\u001b[1G⠈ vega-util@^1.7.0\u001b[0K\u001b[1G⠁ vega-util@^1.7.0\u001b[0K\u001b[1G⠂ vega-util@^1.7.0\u001b[0K\u001b[1G⠄ vega-util@^1.7.0\u001b[0K\u001b[1G⡀ vega-util@^1.7.0\u001b[0K\u001b[1G⢀ vega-util@^1.7.0\u001b[0K\u001b[1G⠠ d3-array@^1.1.1\u001b[0K\u001b[1G⠐ d3-color@1\u001b[0K\u001b[1G⠈ mem@^1.1.0\u001b[0K\u001b[1G⠁ number-is-nan@^1.0.0\u001b[0K\u001b[1G⠂ yallist@^2.1.2\u001b[0K\u001b[1G⠄ yallist@^2.1.2\u001b[0K\u001b[1G⡀ yallist@^2.1.2\u001b[0K\u001b[1G⢀ yallist@^2.1.2\u001b[0K\u001b[1G⠠ yallist@^2.1.2\u001b[0K\u001b[1G⠐ yallist@^2.1.2\u001b[0K\u001b[1G⠈ yallist@^2.1.2\u001b[0K\u001b[1G⠁ yallist@^2.1.2\u001b[0K\u001b[1G⠂ bqplot@file:../extensions/bqplot-0.4.5.tgz\u001b[0K\u001b[1G⠄ wordwrap@~0.0.2\u001b[0K\u001b[1G⡀ wordwrap@~0.0.2\u001b[0K\u001b[1G⢀ wordwrap@~0.0.2\u001b[0K\u001b[1G⠠ wordwrap@~0.0.2\u001b[0K\u001b[1G⠐ wordwrap@~0.0.2\u001b[0K\u001b[1G⠈ wordwrap@~0.0.2\u001b[0K\u001b[1G⠁ wordwrap@~0.0.2\u001b[0K\u001b[1G⠂ wordwrap@~0.0.2\u001b[0K\u001b[1G⠄ wordwrap@~0.0.2\u001b[0K\u001b[1G⡀ wordwrap@~0.0.2\u001b[0K\u001b[1G⢀ wordwrap@~0.0.2\u001b[0K\u001b[1G⠠ through2@^2.0.0\u001b[0K\u001b[1G⠐ function-bind@^1.1.1\u001b[0K\u001b[1G⠈ @types/underscore@*\u001b[0K\u001b[1G⠁ prelude-ls@~1.1.2\u001b[0K\u001b[1G⠂ typestyle@^2.0.1\u001b[0K\u001b[1G⠄ nbdime@^4.0.0\u001b[0K\u001b[1G⡀ markdown-it-diagrams@0.0.4\u001b[0K\u001b[1G⢀ d3-zoom@1\u001b[0K\u001b[1G⠠ d3-transition@1\u001b[0K\u001b[1G⠐ @jupyterlab/toc@file:../extensions/jupyterlab-toc-0.6.0.tgz\u001b[0K\u001b[1G⠈ harmony-reflect@^1.4.6\u001b[0K\u001b[1G⠁ brace-expansion@^1.1.7\u001b[0K\u001b[1G⠂ concat-map@0.0.1\u001b[0K\u001b[1G⠄ concat-map@0.0.1\u001b[0K\u001b[1G⡀ concat-map@0.0.1\u001b[0K\u001b[1G⢀ concat-map@0.0.1\u001b[0K\u001b[1G⠠ concat-map@0.0.1\u001b[0K\u001b[1G⠐ concat-map@0.0.1\u001b[0K\u001b[1G⠈ concat-map@0.0.1\u001b[0K\u001b[1G⠁ concat-map@0.0.1\u001b[0K\u001b[1G⠂ concat-map@0.0.1\u001b[0K\u001b[1G⠄ concat-map@0.0.1\u001b[0K\u001b[1G⡀ concat-map@0.0.1\u001b[0K\u001b[1G⢀ concat-map@0.0.1\u001b[0K\u001b[1G⠠ @phosphor/widgets@^1.6.0\u001b[0K\u001b[1G⠐ csstype@^2.2.0\u001b[0K\u001b[1G⠈ csstype@^2.2.0\u001b[0K\u001b[1G⠁ katex@^0.10.0\u001b[0K\u001b[1G⠂ semver@^5.1.0\u001b[0K\u001b[1G⠄ semver@^5.1.0\u001b[0K\u001b[1G⡀ semver@^5.1.0\u001b[0K\u001b[1G⢀ semver@^5.1.0\u001b[0K\u001b[1G⠠ semver@^5.1.0\u001b[0K\u001b[1G⠐ semver@^5.1.0\u001b[0K\u001b[1G⠈ semver@^5.1.0\u001b[0K\u001b[1G⠁ semver@^5.1.0\u001b[0K\u001b[1G⠂ semver@^5.1.0\u001b[0K\u001b[1G⠄ semver@^5.1.0\u001b[0K\u001b[1G⡀ semver@^5.1.0\u001b[0K\u001b[1G⢀ semver@^5.1.0\u001b[0K\u001b[1G⠠ semver@^5.1.0\u001b[0K\u001b[1G⠐ @jupyterlab/buildutils@^0.11.1\u001b[0K\u001b[1G⠈ @jupyterlab/buildutils@^0.11.1\u001b[0K\u001b[1G⠁ @jupyterlab/buildutils@^0.11.1\u001b[0K\u001b[1G⠂ @jupyterlab/buildutils@^0.11.1\u001b[0K\u001b[1G⠄ @jupyterlab/buildutils@^0.11.1\u001b[0K\u001b[1G⡀ @jupyterlab/buildutils@^0.11.1\u001b[0K\u001b[1G⢀ @jupyterlab/buildutils@^0.11.1\u001b[0K\u001b[1G⠠ @jupyterlab/buildutils@^0.11.1\u001b[0K\u001b[1G⠐ @jupyterlab/buildutils@^0.11.1\u001b[0K\u001b[1G⠈ @jupyterlab/buildutils@^0.11.1\u001b[0K\u001b[1G⠁ @jupyterlab/buildutils@^0.11.1\u001b[0K\u001b[1G⠂ @jupyterlab/buildutils@^0.11.1\u001b[0K\u001b[1G⠄ @jupyterlab/buildutils@^0.11.1\u001b[0K\u001b[1G⡀ @jupyterlab/buildutils@^0.11.1\u001b[0K\u001b[1G⢀ @jupyterlab/buildutils@^0.11.1\u001b[0K\u001b[1G⠠ @jupyterlab/buildutils@^0.11.1\u001b[0K\u001b[1G⠐ @jupyterlab/buildutils@^0.11.1\u001b[0K\u001b[1G⠈ @jupyterlab/buildutils@^0.11.1\u001b[0K\u001b[1G⠁ @jupyterlab/buildutils@^0.11.1\u001b[0K\u001b[1G⠂ @jupyterlab/buildutils@^0.11.1\u001b[0K\u001b[1G⠄ @jupyterlab/buildutils@^0.11.1\u001b[0K\u001b[1G⡀ @jupyterlab/buildutils@^0.11.1\u001b[0K\u001b[1G⢀ @jupyterlab/buildutils@^0.11.1\u001b[0K\u001b[1G⠠ @jupyterlab/buildutils@^0.11.1\u001b[0K\u001b[1G⠐ @jupyterlab/buildutils@^0.11.1\u001b[0K\u001b[1G⠈ @jupyterlab/buildutils@^0.11.1\u001b[0K\u001b[1G⠁ sort-object-keys@^1.1.1\u001b[0K\u001b[1G⠂ rc@^1.0.1\u001b[0K\u001b[1G⠄ url-to-options@^1.0.1\u001b[0K\u001b[1G⡀ is-object@^1.0.1\u001b[0K\u001b[1G⢀ is-promise@^2.1.0\u001b[0K\u001b[1G⠠ sort-keys@^2.0.0\u001b[0K\u001b[1G⠐ os-tmpdir@~1.0.2\u001b[0K\u001b[1G⠈ css-loader@~0.28.7\u001b[0K\u001b[1G⠁ postcss@^6.0.1\u001b[0K\u001b[1G⠂ minimist@^1.2.0\u001b[0K\u001b[1G⠄ postcss-value-parser@^3.0.2\u001b[0K\u001b[1G⡀ uniqs@^2.0.0\u001b[0K\u001b[2K\u001b[1G\u001b[33mwarning\u001b[39m css-loader > cssnano > postcss-merge-rules > browserslist@1.7.7: Browserslist 2 could fail on reading Browserslist >3.0 config used in other tools.\n",
      "\u001b[2K\u001b[1G\u001b[33mwarning\u001b[39m css-loader > cssnano > postcss-merge-rules > caniuse-api > browserslist@1.7.7: Browserslist 2 could fail on reading Browserslist >3.0 config used in other tools.\n",
      "\u001b[1G⢀ electron-to-chromium@^1.2.7\u001b[0K\u001b[1G⠠ q@^1.1.2\u001b[0K\u001b[2K\u001b[1G\u001b[33mwarning\u001b[39m css-loader > cssnano > autoprefixer > browserslist@1.7.7: Browserslist 2 could fail on reading Browserslist >3.0 config used in other tools.\n",
      "\u001b[1G⠐ color-name@^1.0.0\u001b[0K\u001b[1G⠈ color-name@^1.0.0\u001b[0K\u001b[1G⠁ duplicate-package-checker-webpack-plugin@^3.0.0\u001b[0K\u001b[1G⠂ file-loader@~1.1.11\u001b[0K\u001b[1G⠄ schema-utils@^0.4.5\u001b[0K\u001b[1G⡀ handlebars@~4.0.11\u001b[0K\u001b[1G⢀ minimist@~0.0.1\u001b[0K\u001b[1G⠠ lodash@^4.17.11\u001b[0K\u001b[1G⠐ object-assign@^4.1.1\u001b[0K\u001b[1G⠈ source-map@~0.6.0\u001b[0K\u001b[1G⠁ source-map@~0.5.0\u001b[0K\u001b[1G⠂ html-webpack-plugin@~3.2.0\u001b[0K\u001b[1G⠄ renderkid@^2.0.1\u001b[0K\u001b[1G⡀ boolbase@~1.0.0\u001b[0K\u001b[1G⢀ boolbase@~1.0.0\u001b[0K\u001b[1G⠠ boolbase@~1.0.0\u001b[0K\u001b[1G⠐ es-abstract@^1.5.1\u001b[0K\u001b[1G⠈ has-symbols@^1.0.0\u001b[0K\u001b[1G⠁ source-map-loader@~0.2.1\u001b[0K\u001b[1G⠂ uglifyjs-webpack-plugin@~1.2.5\u001b[0K\u001b[1G⠄ pify@^3.0.0\u001b[0K\u001b[1G⡀ run-queue@^1.0.0\u001b[0K\u001b[1G⢀ schema-utils@^0.4.3\u001b[0K\u001b[1G⠠ webpack@~4.12.0\u001b[0K\u001b[1G⠐ webpack@~4.12.0\u001b[0K\u001b[1G⠈ webpack@~4.12.0\u001b[0K\u001b[1G⠁ worker-farm@^1.5.2\u001b[0K\u001b[1G⠂ estraverse@^4.1.1\u001b[0K\u001b[1G⠄ mamacro@^0.0.3\u001b[0K\u001b[1G⡀ safe-regex@^1.1.0\u001b[0K\u001b[1G⢀ safe-regex@^1.1.0\u001b[0K\u001b[1G⠠ leb@^0.3.0\u001b[0K\u001b[1G⠐ pako@~1.0.5\u001b[0K\u001b[1G⠈ indexof@0.0.1\u001b[0K\u001b[1G⠁ ret@~0.1.10\u001b[0K\u001b[1G⠂ safe-buffer@^5.1.0\u001b[0K\u001b[1G⠄ remove-trailing-separator@^1.0.1\u001b[0K\u001b[1G⡀ unset-value@^1.0.0\u001b[0K\u001b[1G⢀ object-copy@^0.1.0\u001b[0K\u001b[1G⠠ is-buffer@^1.1.5\u001b[0K\u001b[1G⠐ wide-align@^1.1.0\u001b[0K\u001b[1G⠈ webpack-cli@^3.0.3\u001b[0K\u001b[1G⠁ once@^1.3.1\u001b[0K\u001b[1G⠂ homedir-polyfill@^1.0.1\u001b[0K\u001b[2K\u001b[1G\u001b[2K\u001b[1G\u001b[2m[3/5]\u001b[22m Fetching packages...\n",
      "\u001b[2K\u001b[1G\u001b[1G[-----------------------------------------------------------------------] 0/958(node:32101) [DEP0005] DeprecationWarning: Buffer() is deprecated due to security and usability issues. Please use the Buffer.alloc(), Buffer.allocUnsafe(), or Buffer.from() methods instead.\n",
      "\u001b[1G[############---------------------------------------------------------] 167/958\u001b[1G[#################----------------------------------------------------] 242/958\u001b[1G[###########################------------------------------------------] 375/958\u001b[1G[################################-------------------------------------] 444/958\u001b[1G[####################################---------------------------------] 499/958\u001b[1G[###########################################--------------------------] 593/958\u001b[1G[################################################---------------------] 663/958\u001b[1G[#####################################################----------------] 734/958\u001b[1G[##############################################################-------] 867/958\u001b[2K\u001b[1G\u001b[34minfo\u001b[39m fsevents@1.2.7: The platform \"linux\" is incompatible with this module.\n",
      "\u001b[2K\u001b[1G\u001b[34minfo\u001b[39m \"fsevents@1.2.7\" is an optional dependency and failed compatibility check. Excluding it from installation.\n",
      "\u001b[2K\u001b[1G\u001b[2m[4/5]\u001b[22m Linking dependencies...\n",
      "\u001b[2K\u001b[1G\u001b[33mwarning\u001b[39m \"@jupyterlab/vdom-extension > @nteract/transform-vdom@1.1.1\" has incorrect peer dependency \"react@^15.6.1\".\n",
      "\u001b[2K\u001b[1G\u001b[33mwarning\u001b[39m \"@jupyterlab/vega4-extension > vega-embed > vega-themes@2.3.0\" has unmet peer dependency \"vega@*\".\n",
      "\u001b[2K\u001b[1G\u001b[33mwarning\u001b[39m \"@agoose77/jupyterlab-markup > markdown-it-diagrams > mermaid > dagre-d3-renderer@0.5.8\" has incorrect peer dependency \"d3@^4.13.0\".\n",
      "\u001b[2K\u001b[1G\u001b[33mwarning\u001b[39m \"@jupyterlab/git > tslint@5.14.0\" has unmet peer dependency \"typescript@>=2.1.0 || >=2.1.0-dev || >=2.2.0-dev || >=2.3.0-dev || >=2.4.0-dev || >=2.5.0-dev || >=2.6.0-dev || >=2.7.0-dev || >=2.8.0-dev || >=2.9.0-dev || >=3.0.0-dev || >= 3.1.0-dev || >= 3.2.0-dev\".\n",
      "\u001b[2K\u001b[1G\u001b[33mwarning\u001b[39m \"@jupyterlab/git > tslint > tsutils@2.29.0\" has unmet peer dependency \"typescript@>=2.1.0 || >=2.1.0-dev || >=2.2.0-dev || >=2.3.0-dev || >=2.4.0-dev || >=2.5.0-dev || >=2.6.0-dev || >=2.7.0-dev || >=2.8.0-dev || >=2.9.0-dev || >= 3.0.0-dev || >= 3.1.0-dev\".\n",
      "\u001b[1G[#####################################################################] 958/958\u001b[2K\u001b[1G\u001b[2K\u001b[1G\u001b[1G[----------------------------------------------------------------------] 0/1000\u001b[2K\u001b[1G\u001b[2K\u001b[1G\u001b[1G[----------------------------------------------------------------------] 0/2565\u001b[1G[###-----------------------------------------------------------------] 128/2565\u001b[1G[##############------------------------------------------------------] 512/2565\u001b[1G[###########################----------------------------------------] 1023/2565\u001b[1G[###########################################------------------------] 1649/2565\u001b[1G[#########################################################----------] 2176/2565\u001b[1G[###################################################################] 2565/2565\u001b[2K\u001b[1G\u001b[2K\u001b[1G\u001b[1G[----------------------------------------------------------------------] 0/1821\u001b[1G[##########----------------------------------------------------------] 274/1821\u001b[1G[######################----------------------------------------------] 590/1821\u001b[1G[################################------------------------------------] 867/1821\u001b[1G[#####################################------------------------------] 1016/1821\u001b[2K\u001b[1G\u001b[2m[5/5]\u001b[22m Building fresh packages...\n",
      "\u001b[1G⠁ \u001b[0K\u001b[1G[######################################-----------------------------] 1044/1821\u001b[1G\u001b[2m[1/1]\u001b[22m ⠂ jupyter-matplotlib\u001b[0K\u001b[1G\u001b[2m[1/1]\u001b[22m ⠄ jupyter-matplotlib\u001b[0K\u001b[1G\u001b[2m[1/1]\u001b[22m ⡀ jupyter-matplotlib\u001b[0K\u001b[1G\u001b[2m[1/1]\u001b[22m ⢀ jupyter-matplotlib\u001b[0K\u001b[1G\u001b[2m[1/1]\u001b[22m ⠠ jupyter-matplotlib\u001b[0K\u001b[1G\u001b[2m[1/1]\u001b[22m ⠐ jupyter-matplotlib\u001b[0K\u001b[1G\u001b[2m[1/1]\u001b[22m ⠈ jupyter-matplotlib\u001b[0K\u001b[1G\u001b[2m[1/1]\u001b[22m ⠁ jupyter-matplotlib\u001b[0K\u001b[1G\u001b[2m[1/1]\u001b[22m ⠂ jupyter-matplotlib\u001b[0K\u001b[1G\u001b[2m[1/1]\u001b[22m ⠄ jupyter-matplotlib\u001b[0K\u001b[1G\u001b[2m[1/1]\u001b[22m ⡀ jupyter-matplotlib\u001b[0K\u001b[1G\u001b[2m[1/1]\u001b[22m ⢀ jupyter-matplotlib\u001b[0K\u001b[1G\u001b[2m[1/1]\u001b[22m ⠠ jupyter-matplotlib\u001b[0K\u001b[1G\u001b[2m[1/1]\u001b[22m ⠐ jupyter-matplotlib\u001b[0K\u001b[1G\u001b[2m[1/1]\u001b[22m ⠈ jupyter-matplotlib\u001b[0K\u001b[1G\u001b[2m[1/1]\u001b[22m ⠁ jupyter-matplotlib\u001b[0K\u001b[1G\u001b[2m[1/1]\u001b[22m ⠂ jupyter-matplotlib\u001b[0K\u001b[1G\u001b[2m[1/1]\u001b[22m ⠄ jupyter-matplotlib\u001b[0K\u001b[1G\u001b[2m[1/1]\u001b[22m ⡀ jupyter-matplotlib\u001b[0K\u001b[1G\u001b[2m[1/1]\u001b[22m ⢀ jupyter-matplotlib\u001b[0K\u001b[1G\u001b[2m[1/1]\u001b[22m ⠠ jupyter-matplotlib\u001b[0K\u001b[1G\u001b[2m[1/1]\u001b[22m ⠐ jupyter-matplotlib\u001b[0K\u001b[1G\u001b[2m[1/1]\u001b[22m ⠈ jupyter-matplotlib\u001b[0K\u001b[1G\u001b[2m[1/1]\u001b[22m ⠁ jupyter-matplotlib\u001b[0K\u001b[1G\u001b[2m[1/1]\u001b[22m ⠂ jupyter-matplotlib\u001b[0K\u001b[1G\u001b[2m[1/1]\u001b[22m ⠄ jupyter-matplotlib\u001b[0K\u001b[1G\u001b[2m[1/1]\u001b[22m ⡀ jupyter-matplotlib\u001b[0K\u001b[1G\u001b[2m[1/1]\u001b[22m ⢀ jupyter-matplotlib\u001b[0K\u001b[1G\u001b[2m[1/1]\u001b[22m ⠠ jupyter-matplotlib\u001b[0K\u001b[1G\u001b[2m[1/1]\u001b[22m ⠐ jupyter-matplotlib\u001b[0K\u001b[1G\u001b[2m[1/1]\u001b[22m ⠈ jupyter-matplotlib\u001b[0K\u001b[1G\u001b[2m[1/1]\u001b[22m ⠁ jupyter-matplotlib\u001b[0K\u001b[1G\u001b[2m[1/1]\u001b[22m ⠂ jupyter-matplotlib\u001b[0K\u001b[1G\u001b[2m[1/1]\u001b[22m ⠄ jupyter-matplotlib\u001b[0K\u001b[1G\u001b[2m[1/1]\u001b[22m ⡀ jupyter-matplotlib\u001b[0K\u001b[1G\u001b[2m[1/1]\u001b[22m ⢀ jupyter-matplotlib\u001b[0K\u001b[1G\u001b[2m[1/1]\u001b[22m ⠠ jupyter-matplotlib\u001b[0K\u001b[1G\u001b[2m[1/1]\u001b[22m ⠐ jupyter-matplotlib\u001b[0K\u001b[1G\u001b[2m[1/1]\u001b[22m ⠈ jupyter-matplotlib\u001b[0K\u001b[1G\u001b[2m[1/1]\u001b[22m ⠁ jupyter-matplotlib\u001b[0K\u001b[1G\u001b[2m[1/1]\u001b[22m ⠂ jupyter-matplotlib\u001b[0K\u001b[1G\u001b[2m[1/1]\u001b[22m ⠄ jupyter-matplotlib\u001b[0K\u001b[1G\u001b[2m[1/1]\u001b[22m ⡀ jupyter-matplotlib\u001b[0K\u001b[1G\u001b[2m[1/1]\u001b[22m ⢀ jupyter-matplotlib\u001b[0K\u001b[1G\u001b[2m[1/1]\u001b[22m ⠠ jupyter-matplotlib\u001b[0K\u001b[1G\u001b[2m[1/1]\u001b[22m ⠐ jupyter-matplotlib\u001b[0K\u001b[1G\u001b[2m[1/1]\u001b[22m ⠈ jupyter-matplotlib\u001b[0K\u001b[1G\u001b[2m[1/1]\u001b[22m ⠁ jupyter-matplotlib\u001b[0K\u001b[1G\u001b[2m[1/1]\u001b[22m ⠂ jupyter-matplotlib\u001b[0K\u001b[1G\u001b[2m[1/1]\u001b[22m ⠄ jupyter-matplotlib\u001b[0K\u001b[1G\u001b[2m[1/1]\u001b[22m ⡀ jupyter-matplotlib\u001b[0K\u001b[1G\u001b[2m[1/1]\u001b[22m ⢀ jupyter-matplotlib\u001b[0K\u001b[1G\u001b[2m[1/1]\u001b[22m ⠠ jupyter-matplotlib\u001b[0K\u001b[1G\u001b[2m[1/1]\u001b[22m ⠐ jupyter-matplotlib\u001b[0K\u001b[1G\u001b[2m[1/1]\u001b[22m ⠈ jupyter-matplotlib\u001b[0K\u001b[1G\u001b[2m[1/1]\u001b[22m ⠁ jupyter-matplotlib\u001b[0K\u001b[1G\u001b[2m[1/1]\u001b[22m ⠂ jupyter-matplotlib\u001b[0K\u001b[1G\u001b[2m[1/1]\u001b[22m ⠄ jupyter-matplotlib\u001b[0K\u001b[1G\u001b[2m[1/1]\u001b[22m ⡀ jupyter-matplotlib\u001b[0K\u001b[1G\u001b[2m[1/1]\u001b[22m ⢀ jupyter-matplotlib\u001b[0K\u001b[1G\u001b[2m[1/1]\u001b[22m ⠠ jupyter-matplotlib\u001b[0K\u001b[1G\u001b[2m[1/1]\u001b[22m ⠐ jupyter-matplotlib\u001b[0K\u001b[1G\u001b[2m[1/1]\u001b[22m ⠈ jupyter-matplotlib\u001b[0K\u001b[1G\u001b[2m[1/1]\u001b[22m ⠁ jupyter-matplotlib\u001b[0K\u001b[1G\u001b[2m[1/1]\u001b[22m ⠂ jupyter-matplotlib\u001b[0K\u001b[1G\u001b[2m[1/1]\u001b[22m ⠄ jupyter-matplotlib\u001b[0K\u001b[1G\u001b[2m[1/1]\u001b[22m ⡀ jupyter-matplotlib\u001b[0K\u001b[1G\u001b[2m[1/1]\u001b[22m ⢀ jupyter-matplotlib\u001b[0K\u001b[1G\u001b[2m[1/1]\u001b[22m ⠠ jupyter-matplotlib\u001b[0K\u001b[1G\u001b[2m[1/1]\u001b[22m ⠐ jupyter-matplotlib\u001b[0K\u001b[1G\u001b[2m[1/1]\u001b[22m ⠈ jupyter-matplotlib\u001b[0K\u001b[1G\u001b[2m[1/1]\u001b[22m ⠁ jupyter-matplotlib\u001b[0K\u001b[1G\u001b[2m[1/1]\u001b[22m ⠂ jupyter-matplotlib\u001b[0K\u001b[1G\u001b[2m[1/1]\u001b[22m ⠄ jupyter-matplotlib\u001b[0K\u001b[1G\u001b[2m[1/1]\u001b[22m ⡀ jupyter-matplotlib\u001b[0K\u001b[1G\u001b[2m[1/1]\u001b[22m ⢀ jupyter-matplotlib\u001b[0K\u001b[1G\u001b[2m[1/1]\u001b[22m ⠠ jupyter-matplotlib\u001b[0K\u001b[1G\u001b[2m[1/1]\u001b[22m ⠐ jupyter-matplotlib\u001b[0K\u001b[1G\u001b[2m[1/1]\u001b[22m ⠈ jupyter-matplotlib\u001b[0K\u001b[1G\u001b[2m[1/1]\u001b[22m ⠁ jupyter-matplotlib\u001b[0K\u001b[1G\u001b[2m[1/1]\u001b[22m ⠂ jupyter-matplotlib\u001b[0K\u001b[1G\u001b[2m[1/1]\u001b[22m ⠄ jupyter-matplotlib\u001b[0K\u001b[1G\u001b[2m[1/1]\u001b[22m ⡀ jupyter-matplotlib\u001b[0K\u001b[1G\u001b[2m[1/1]\u001b[22m ⢀ jupyter-matplotlib\u001b[0K\u001b[1G\u001b[2m[1/1]\u001b[22m ⠠ jupyter-matplotlib\u001b[0K\u001b[1G\u001b[2m[1/1]\u001b[22m ⠐ jupyter-matplotlib\u001b[0K\u001b[1G\u001b[2m[1/1]\u001b[22m ⠈ jupyter-matplotlib\u001b[0K\u001b[1G\u001b[2m[1/1]\u001b[22m ⠁ jupyter-matplotlib\u001b[0K\u001b[1G\u001b[2m[1/1]\u001b[22m ⠂ jupyter-matplotlib\u001b[0K\u001b[1G\u001b[2m[1/1]\u001b[22m ⠄ jupyter-matplotlib\u001b[0K\u001b[1G\u001b[2m[1/1]\u001b[22m ⡀ jupyter-matplotlib\u001b[0K\u001b[1G\u001b[2m[1/1]\u001b[22m ⢀ jupyter-matplotlib\u001b[0K\u001b[1G\u001b[2m[1/1]\u001b[22m ⠠ jupyter-matplotlib\u001b[0K\u001b[1G\u001b[2m[1/1]\u001b[22m ⠐ jupyter-matplotlib\u001b[0K\u001b[1G\u001b[2m[1/1]\u001b[22m ⠈ jupyter-matplotlib\u001b[0K\u001b[1G\u001b[2m[1/1]\u001b[22m ⠁ jupyter-matplotlib\u001b[0K\u001b[1G\u001b[2m[1/1]\u001b[22m ⠂ jupyter-matplotlib\u001b[0K\u001b[1G\u001b[2m[1/1]\u001b[22m ⠄ jupyter-matplotlib\u001b[0K\u001b[1G\u001b[2m[1/1]\u001b[22m ⡀ jupyter-matplotlib\u001b[0K\u001b[1G\u001b[2m[1/1]\u001b[22m ⢀ jupyter-matplotlib\u001b[0K\u001b[1G\u001b[2m[1/1]\u001b[22m ⠠ jupyter-matplotlib\u001b[0K\u001b[1G\u001b[2m[1/1]\u001b[22m ⠐ jupyter-matplotlib\u001b[0K\u001b[1G\u001b[2m[1/1]\u001b[22m ⠈ jupyter-matplotlib\u001b[0K\u001b[1G\u001b[2m[1/1]\u001b[22m ⠁ jupyter-matplotlib\u001b[0K\u001b[1G\u001b[2m[1/1]\u001b[22m ⠂ jupyter-matplotlib\u001b[0K\u001b[1G\u001b[2m[1/1]\u001b[22m ⠄ jupyter-matplotlib\u001b[0K\u001b[1G\u001b[2m[1/1]\u001b[22m ⡀ jupyter-matplotlib\u001b[0K\u001b[1G\u001b[2m[1/1]\u001b[22m ⢀ jupyter-matplotlib\u001b[0K\u001b[1G\u001b[2m[1/1]\u001b[22m ⠠ jupyter-matplotlib\u001b[0K\u001b[1G\u001b[2m[1/1]\u001b[22m ⠐ jupyter-matplotlib\u001b[0K\u001b[1G\u001b[2m[1/1]\u001b[22m ⠈ jupyter-matplotlib\u001b[0K\u001b[1G\u001b[2m[1/1]\u001b[22m ⠁ jupyter-matplotlib\u001b[0K\u001b[1G\u001b[2m[1/1]\u001b[22m ⠂ jupyter-matplotlib\u001b[0K\u001b[1G\u001b[2m[1/1]\u001b[22m ⠄ jupyter-matplotlib\u001b[0K\u001b[1G\u001b[2m[1/1]\u001b[22m ⡀ jupyter-matplotlib\u001b[0K\u001b[1G\u001b[2m[1/1]\u001b[22m ⢀ jupyter-matplotlib\u001b[0K\u001b[1G\u001b[2m[1/1]\u001b[22m ⠠ jupyter-matplotlib\u001b[0K\u001b[1G\u001b[2m[1/1]\u001b[22m ⠐ jupyter-matplotlib\u001b[0K\u001b[1G\u001b[2m[1/1]\u001b[22m ⠈ jupyter-matplotlib\u001b[0K\u001b[1G\u001b[2m[1/1]\u001b[22m ⠁ jupyter-matplotlib\u001b[0K\u001b[1G\u001b[2m[1/1]\u001b[22m ⠂ jupyter-matplotlib\u001b[0K\u001b[1G\u001b[2m[1/1]\u001b[22m ⠄ jupyter-matplotlib\u001b[0K\u001b[1G\u001b[2m[1/1]\u001b[22m ⡀ jupyter-matplotlib\u001b[0K\u001b[1G\u001b[2m[1/1]\u001b[22m ⢀ jupyter-matplotlib\u001b[0K\u001b[1G\u001b[2m[1/1]\u001b[22m ⠠ jupyter-matplotlib\u001b[0K\u001b[1G\u001b[2m[1/1]\u001b[22m ⠐ jupyter-matplotlib\u001b[0K\u001b[1G\u001b[2m[1/1]\u001b[22m ⠈ jupyter-matplotlib\u001b[0K\u001b[1G\u001b[2m[1/1]\u001b[22m ⠁ jupyter-matplotlib\u001b[0K\u001b[1G\u001b[2m[1/1]\u001b[22m ⠂ jupyter-matplotlib\u001b[0K\u001b[1G\u001b[2m[1/1]\u001b[22m ⠄ jupyter-matplotlib\u001b[0K\u001b[1G\u001b[2m[1/1]\u001b[22m ⡀ jupyter-matplotlib\u001b[0K\u001b[1G\u001b[2m[1/1]\u001b[22m ⢀ jupyter-matplotlib\u001b[0K\u001b[1G\u001b[2m[1/1]\u001b[22m ⠠ jupyter-matplotlib\u001b[0K\u001b[1G\u001b[2m[1/1]\u001b[22m ⠐ jupyter-matplotlib\u001b[0K\u001b[1G\u001b[2m[1/1]\u001b[22m ⠈ jupyter-matplotlib\u001b[0K\u001b[1G\u001b[2m[1/1]\u001b[22m ⠁ jupyter-matplotlib\u001b[0K\u001b[1G\u001b[2m[1/1]\u001b[22m ⠂ jupyter-matplotlib\u001b[0K\u001b[1G\u001b[2m[1/1]\u001b[22m ⠄ jupyter-matplotlib\u001b[0K\u001b[1G\u001b[2m[1/1]\u001b[22m ⡀ jupyter-matplotlib\u001b[0K\u001b[1G\u001b[2m[1/1]\u001b[22m ⢀ jupyter-matplotlib\u001b[0K\u001b[1G\u001b[2m[1/1]\u001b[22m ⠠ jupyter-matplotlib\u001b[0K\u001b[1G\u001b[2m[1/1]\u001b[22m ⠐ jupyter-matplotlib\u001b[0K\u001b[1G\u001b[2m[1/1]\u001b[22m ⠈ jupyter-matplotlib\u001b[0K\u001b[1G\u001b[2m[1/1]\u001b[22m ⠁ jupyter-matplotlib\u001b[0K\u001b[1G\u001b[2m[1/1]\u001b[22m ⠂ jupyter-matplotlib\u001b[0K\u001b[1G\u001b[2m[1/1]\u001b[22m ⠄ jupyter-matplotlib\u001b[0K\u001b[1G\u001b[2m[1/1]\u001b[22m ⡀ jupyter-matplotlib\u001b[0K\u001b[1G\u001b[2m[1/1]\u001b[22m ⢀ jupyter-matplotlib\u001b[0K\u001b[1G\u001b[2m[1/1]\u001b[22m ⠠ jupyter-matplotlib\u001b[0K\u001b[1G\u001b[2m[1/1]\u001b[22m ⠐ jupyter-matplotlib\u001b[0K\u001b[1G\u001b[2m[1/1]\u001b[22m ⠈ jupyter-matplotlib\u001b[0K\u001b[1G\u001b[2m[1/1]\u001b[22m ⠁ jupyter-matplotlib\u001b[0K\u001b[1G\u001b[2m[1/1]\u001b[22m ⠂ jupyter-matplotlib\u001b[0K\u001b[1G\u001b[2m[1/1]\u001b[22m ⠄ jupyter-matplotlib\u001b[0K\u001b[1G\u001b[2m[1/1]\u001b[22m ⡀ jupyter-matplotlib\u001b[0K\u001b[1G\u001b[2m[1/1]\u001b[22m ⢀ jupyter-matplotlib\u001b[0K\u001b[1G\u001b[2m[1/1]\u001b[22m ⠠ jupyter-matplotlib\u001b[0K\u001b[1G\u001b[2m[1/1]\u001b[22m ⠐ jupyter-matplotlib\u001b[0K\u001b[1G\u001b[2m[1/1]\u001b[22m ⠈ jupyter-matplotlib\u001b[0K\u001b[1G\u001b[2m[1/1]\u001b[22m ⠁ jupyter-matplotlib\u001b[0K\u001b[1G\u001b[2m[1/1]\u001b[22m ⠂ jupyter-matplotlib\u001b[0K\u001b[1G\u001b[2m[1/1]\u001b[22m ⠄ jupyter-matplotlib\u001b[0K\u001b[1G\u001b[2m[1/1]\u001b[22m ⡀ jupyter-matplotlib\u001b[0K\u001b[1G\u001b[2m[1/1]\u001b[22m ⢀ jupyter-matplotlib\u001b[0K\u001b[1G\u001b[2m[1/1]\u001b[22m ⠠ jupyter-matplotlib\u001b[0K\u001b[1G\u001b[2m[1/1]\u001b[22m ⠐ jupyter-matplotlib\u001b[0K\u001b[1G\u001b[2m[1/1]\u001b[22m ⠈ jupyter-matplotlib\u001b[0K\u001b[2K\u001b[1G\u001b[2K\u001b[1G\u001b[32msuccess\u001b[39m Saved lockfile.\n",
      "\u001b[2K\u001b[1G\u001b[2K\u001b[1GDone in 73.78s.\n",
      "> node /home/angus/.pyenv/versions/miniconda3-latest/envs/sci/lib/python3.7/site-packages/jupyterlab/staging/yarn.js run build\n",
      "\u001b[2K\u001b[1G\u001b[1myarn run v1.9.4\u001b[22m\n",
      "\u001b[2K\u001b[1G\u001b[2m$ webpack\u001b[22m\n",
      "Hash: \u001b[1m0325272872a6a154da28\u001b[39m\u001b[22m\n",
      "Version: webpack \u001b[1m4.12.2\u001b[39m\u001b[22m\n",
      "Time: \u001b[1m12852\u001b[39m\u001b[22mms\n",
      "Built at: 03/28/2019 \u001b[1m12:46:36 AM\u001b[39m\u001b[22m\n",
      "                                                        \u001b[1mAsset\u001b[39m\u001b[22m          \u001b[1mSize\u001b[39m\u001b[22m                             \u001b[1mChunks\u001b[39m\u001b[22m  \u001b[1m\u001b[39m\u001b[22m           \u001b[1m\u001b[39m\u001b[22m\u001b[1mChunk Names\u001b[39m\u001b[22m\n",
      "                       \u001b[1m\u001b[32mb2acfbf0bcb210d7dcacd3a625691c29.woff2\u001b[39m\u001b[22m      15.3 KiB                                   \u001b[1m\u001b[39m\u001b[22m  \u001b[1m\u001b[32m[emitted]\u001b[39m\u001b[22m  \n",
      "                        \u001b[1m\u001b[32m6e83a9fb848f6ed110947bbea540160e.woff\u001b[39m\u001b[22m        38 KiB                                   \u001b[1m\u001b[39m\u001b[22m  \u001b[1m\u001b[32m[emitted]\u001b[39m\u001b[22m  \n",
      "                         \u001b[1m\u001b[32m674f50d287a8c48dc19ba404d20fe713.eot\u001b[39m\u001b[22m       162 KiB                                   \u001b[1m\u001b[39m\u001b[22m  \u001b[1m\u001b[32m[emitted]\u001b[39m\u001b[22m  \n",
      "                       \u001b[1m\u001b[32m71620e6ae5f7675d278fa891e0653b5b.woff2\u001b[39m\u001b[22m      19.9 KiB                                   \u001b[1m\u001b[39m\u001b[22m  \u001b[1m\u001b[32m[emitted]\u001b[39m\u001b[22m  \n",
      "                       \u001b[1m\u001b[32mb5549071a4cf728bf88d49f042fc7313.woff2\u001b[39m\u001b[22m      29.7 KiB                                   \u001b[1m\u001b[39m\u001b[22m  \u001b[1m\u001b[32m[emitted]\u001b[39m\u001b[22m  \n",
      "                       \u001b[1m\u001b[32mbae342e85347989ffe3407d5d286abc0.woff2\u001b[39m\u001b[22m      19.3 KiB                                   \u001b[1m\u001b[39m\u001b[22m  \u001b[1m\u001b[32m[emitted]\u001b[39m\u001b[22m  \n",
      "                        \u001b[1m\u001b[32md5333e23e0fb885dcce91f8d39dcfbe1.woff\u001b[39m\u001b[22m      17.2 KiB                                   \u001b[1m\u001b[39m\u001b[22m  \u001b[1m\u001b[32m[emitted]\u001b[39m\u001b[22m  \n",
      "                         \u001b[1m\u001b[32m9e6295711d9a28d1991bc02b2ba6a8c6.ttf\u001b[39m\u001b[22m      59.7 KiB                                   \u001b[1m\u001b[39m\u001b[22m  \u001b[1m\u001b[32m[emitted]\u001b[39m\u001b[22m  \n",
      "                         \u001b[1m\u001b[32m9485af58d5ca94fbb6bc0378860a9b72.ttf\u001b[39m\u001b[22m      46.5 KiB                                   \u001b[1m\u001b[39m\u001b[22m  \u001b[1m\u001b[32m[emitted]\u001b[39m\u001b[22m  \n",
      "                         \u001b[1m\u001b[32m2c8faa1b5f83e4062290d6f1f48feeef.ttf\u001b[39m\u001b[22m      18.9 KiB                                   \u001b[1m\u001b[39m\u001b[22m  \u001b[1m\u001b[32m[emitted]\u001b[39m\u001b[22m  \n",
      "                       \u001b[1m\u001b[32maf7ae505a9eed503f8b8e6982036873e.woff2\u001b[39m\u001b[22m      75.4 KiB                                   \u001b[1m\u001b[39m\u001b[22m  \u001b[1m\u001b[32m[emitted]\u001b[39m\u001b[22m  \n",
      "                        \u001b[1m\u001b[32m35974d12700c7250a51804f82845dc16.woff\u001b[39m\u001b[22m      11.2 KiB                                   \u001b[1m\u001b[39m\u001b[22m  \u001b[1m\u001b[32m[emitted]\u001b[39m\u001b[22m  \n",
      "                        \u001b[1m\u001b[32mb4a5e15f65b5afbe788cc687aa6af3bc.woff\u001b[39m\u001b[22m      21.8 KiB                                   \u001b[1m\u001b[39m\u001b[22m  \u001b[1m\u001b[32m[emitted]\u001b[39m\u001b[22m  \n",
      "                       \u001b[1m\u001b[32m8de2dee189a5cb86d2c63ec286594f63.woff2\u001b[39m\u001b[22m      13.4 KiB                                   \u001b[1m\u001b[39m\u001b[22m  \u001b[1m\u001b[32m[emitted]\u001b[39m\u001b[22m  \n",
      "                         \u001b[1m\u001b[32ma5ed4d0a38f0c027bcc49c972e41330b.ttf\u001b[39m\u001b[22m      35.1 KiB                                   \u001b[1m\u001b[39m\u001b[22m  \u001b[1m\u001b[32m[emitted]\u001b[39m\u001b[22m  \n",
      "                         \u001b[1m\u001b[32m000b9ed03c3867fd218ec15822564ec4.ttf\u001b[39m\u001b[22m      32.9 KiB                                   \u001b[1m\u001b[39m\u001b[22m  \u001b[1m\u001b[32m[emitted]\u001b[39m\u001b[22m  \n",
      "                         \u001b[1m\u001b[32m686db35f856dc151987748d946b577f2.ttf\u001b[39m\u001b[22m      12.6 KiB                                   \u001b[1m\u001b[39m\u001b[22m  \u001b[1m\u001b[32m[emitted]\u001b[39m\u001b[22m  \n",
      "                         \u001b[1m\u001b[32m912ec66d7572ff821749319396470bde.svg\u001b[39m\u001b[22m       434 KiB                                   \u001b[1m\u001b[39m\u001b[22m  \u001b[1m\u001b[32m[emitted]\u001b[39m\u001b[22m  \n",
      "                       \u001b[1m\u001b[32mddb93dd102489fb45c99d6712fdb5f25.woff2\u001b[39m\u001b[22m      31.7 KiB                                   \u001b[1m\u001b[39m\u001b[22m  \u001b[1m\u001b[32m[emitted]\u001b[39m\u001b[22m  \n",
      "                         \u001b[1m\u001b[32mf6780ff593f7ba72754d7e57dc31f7d9.ttf\u001b[39m\u001b[22m      33.5 KiB                                   \u001b[1m\u001b[39m\u001b[22m  \u001b[1m\u001b[32m[emitted]\u001b[39m\u001b[22m  \n",
      "                        \u001b[1m\u001b[32ma8506f1b1fb95010d2e46a2ce5edc453.woff\u001b[39m\u001b[22m      15.8 KiB                                   \u001b[1m\u001b[39m\u001b[22m  \u001b[1m\u001b[32m[emitted]\u001b[39m\u001b[22m  \n",
      "                        \u001b[1m\u001b[32m34c0365729037176f5f2a662f5ba0f5c.woff\u001b[39m\u001b[22m      22.1 KiB                                   \u001b[1m\u001b[39m\u001b[22m  \u001b[1m\u001b[32m[emitted]\u001b[39m\u001b[22m  \n",
      "                        \u001b[1m\u001b[32m46b2d8cfe4fd0021561890cf34a99e86.woff\u001b[39m\u001b[22m      13.1 KiB                                   \u001b[1m\u001b[39m\u001b[22m  \u001b[1m\u001b[32m[emitted]\u001b[39m\u001b[22m  \n",
      "                       \u001b[1m\u001b[32m31f25d65c5a444b82edbd416cecf1c24.woff2\u001b[39m\u001b[22m        10 KiB                                   \u001b[1m\u001b[39m\u001b[22m  \u001b[1m\u001b[32m[emitted]\u001b[39m\u001b[22m  \n",
      "                         \u001b[1m\u001b[32mb3881ceea63499db39bfebca1edd0df7.ttf\u001b[39m\u001b[22m        24 KiB                                   \u001b[1m\u001b[39m\u001b[22m  \u001b[1m\u001b[32m[emitted]\u001b[39m\u001b[22m  \n",
      "                       \u001b[1m\u001b[32m8c96bb5502e4d11c51cc9f3eb062f3d7.woff2\u001b[39m\u001b[22m      19.3 KiB                                   \u001b[1m\u001b[39m\u001b[22m  \u001b[1m\u001b[32m[emitted]\u001b[39m\u001b[22m  \n",
      "                        \u001b[1m\u001b[32md2f17a9e3f2a368e28042f28f8988a03.woff\u001b[39m\u001b[22m      25.6 KiB                                   \u001b[1m\u001b[39m\u001b[22m  \u001b[1m\u001b[32m[emitted]\u001b[39m\u001b[22m  \n",
      "                         \u001b[1m\u001b[32mca857b159d215139f84ec5406486b5dc.ttf\u001b[39m\u001b[22m      69.3 KiB                                   \u001b[1m\u001b[39m\u001b[22m  \u001b[1m\u001b[32m[emitted]\u001b[39m\u001b[22m  \n",
      "                       \u001b[1m\u001b[32m9e74aa81afcd2a2c51e6fdda41905bbd.woff2\u001b[39m\u001b[22m      10.2 KiB                                   \u001b[1m\u001b[39m\u001b[22m  \u001b[1m\u001b[32m[emitted]\u001b[39m\u001b[22m  \n",
      "                         \u001b[1m\u001b[32m34c1d184d4ab02f85c035ed9fc25caa7.ttf\u001b[39m\u001b[22m      34.8 KiB                                   \u001b[1m\u001b[39m\u001b[22m  \u001b[1m\u001b[32m[emitted]\u001b[39m\u001b[22m  \n",
      "                       \u001b[1m\u001b[32mcabbcf159469220758fdde285fdb9a37.woff2\u001b[39m\u001b[22m      16.9 KiB                                   \u001b[1m\u001b[39m\u001b[22m  \u001b[1m\u001b[32m[emitted]\u001b[39m\u001b[22m  \n",
      "                       \u001b[1m\u001b[32m2cefb96e245f6175b4ef2f2ca0db06c1.woff2\u001b[39m\u001b[22m      21.4 KiB                                   \u001b[1m\u001b[39m\u001b[22m  \u001b[1m\u001b[32m[emitted]\u001b[39m\u001b[22m  \n",
      "                        \u001b[1m\u001b[32mb48160eab3a0afe79f8102a504f31bb8.woff\u001b[39m\u001b[22m      21.6 KiB                                   \u001b[1m\u001b[39m\u001b[22m  \u001b[1m\u001b[32m[emitted]\u001b[39m\u001b[22m  \n",
      "                        \u001b[1m\u001b[32mfee66e712a8a08eef5805a46892932ad.woff\u001b[39m\u001b[22m      95.7 KiB                                   \u001b[1m\u001b[39m\u001b[22m  \u001b[1m\u001b[32m[emitted]\u001b[39m\u001b[22m  \n",
      "                         \u001b[1m\u001b[32m3df52c586302de43bd5ca95182fb1315.ttf\u001b[39m\u001b[22m      43.5 KiB                                   \u001b[1m\u001b[39m\u001b[22m  \u001b[1m\u001b[32m[emitted]\u001b[39m\u001b[22m  \n",
      "                         \u001b[1m\u001b[32m91370c15e6c8c636f86c01838fa7f654.ttf\u001b[39m\u001b[22m      38.4 KiB                                   \u001b[1m\u001b[39m\u001b[22m  \u001b[1m\u001b[32m[emitted]\u001b[39m\u001b[22m  \n",
      "                         \u001b[1m\u001b[32m7ba33ebb57e020a4948ef3da67a961fe.ttf\u001b[39m\u001b[22m      29.1 KiB                                   \u001b[1m\u001b[39m\u001b[22m  \u001b[1m\u001b[32m[emitted]\u001b[39m\u001b[22m  \n",
      "                        \u001b[1m\u001b[32m28a2d0a50e53991263c83f5bb3c8205c.woff\u001b[39m\u001b[22m      37.2 KiB                                   \u001b[1m\u001b[39m\u001b[22m  \u001b[1m\u001b[32m[emitted]\u001b[39m\u001b[22m  \n",
      "                        \u001b[1m\u001b[32m5d4480bd287fed8d9f52f15f9e891cf4.woff\u001b[39m\u001b[22m      18.1 KiB                                   \u001b[1m\u001b[39m\u001b[22m  \u001b[1m\u001b[32m[emitted]\u001b[39m\u001b[22m  \n",
      "                         \u001b[1m\u001b[32m3f883bff6b52775d6f96de5cc9d50052.ttf\u001b[39m\u001b[22m      11.9 KiB                                   \u001b[1m\u001b[39m\u001b[22m  \u001b[1m\u001b[32m[emitted]\u001b[39m\u001b[22m  \n",
      "                        \u001b[1m\u001b[32m2342417fbf7f6ae5910a34ea90e844c6.woff\u001b[39m\u001b[22m      22.3 KiB                                   \u001b[1m\u001b[39m\u001b[22m  \u001b[1m\u001b[32m[emitted]\u001b[39m\u001b[22m  \n",
      "                        \u001b[1m\u001b[32me52da4424fa372f4ff884569d461369d.woff\u001b[39m\u001b[22m      19.8 KiB                                   \u001b[1m\u001b[39m\u001b[22m  \u001b[1m\u001b[32m[emitted]\u001b[39m\u001b[22m  \n",
      "                         \u001b[1m\u001b[32mbce47876efef2be1f02bfe02a2b2ed29.ttf\u001b[39m\u001b[22m      67.9 KiB                                   \u001b[1m\u001b[39m\u001b[22m  \u001b[1m\u001b[32m[emitted]\u001b[39m\u001b[22m  \n",
      "                         \u001b[1m\u001b[32mb06871f281fee6b241d60582ae9369b9.ttf\u001b[39m\u001b[22m       162 KiB                                   \u001b[1m\u001b[39m\u001b[22m  \u001b[1m\u001b[32m[emitted]\u001b[39m\u001b[22m  \n",
      "                         \u001b[1m\u001b[32m4c04d946e924fcb72074640737e05f5c.ttf\u001b[39m\u001b[22m      10.8 KiB                                   \u001b[1m\u001b[39m\u001b[22m  \u001b[1m\u001b[32m[emitted]\u001b[39m\u001b[22m  \n",
      "                       \u001b[1m\u001b[32m255f1668bf91741143ff907abfe87350.woff2\u001b[39m\u001b[22m      14.7 KiB                                   \u001b[1m\u001b[39m\u001b[22m  \u001b[1m\u001b[32m[emitted]\u001b[39m\u001b[22m  \n",
      "                       \u001b[1m\u001b[32mefef72b8e4ff4083ca1e91a6b4ec2363.woff2\u001b[39m\u001b[22m      19.6 KiB                                   \u001b[1m\u001b[39m\u001b[22m  \u001b[1m\u001b[32m[emitted]\u001b[39m\u001b[22m  \n",
      "                       \u001b[1m\u001b[32m4b4feb459569bc556025e27940c5a43c.woff2\u001b[39m\u001b[22m      11.8 KiB                                   \u001b[1m\u001b[39m\u001b[22m  \u001b[1m\u001b[32m[emitted]\u001b[39m\u001b[22m  \n",
      "                        \u001b[1m\u001b[32mc09854387bea3260d7c3eae73dc9d01c.woff\u001b[39m\u001b[22m      11.4 KiB                                   \u001b[1m\u001b[39m\u001b[22m  \u001b[1m\u001b[32m[emitted]\u001b[39m\u001b[22m  \n",
      "                         \u001b[1m\u001b[32mf47a61c859ea90d15547822f4836dafb.ttf\u001b[39m\u001b[22m        40 KiB                                   \u001b[1m\u001b[39m\u001b[22m  \u001b[1m\u001b[32m[emitted]\u001b[39m\u001b[22m  \n",
      "                       \u001b[1m\u001b[32md9153c94a9b598eefe0e4179c9e97205.woff2\u001b[39m\u001b[22m      22.3 KiB                                   \u001b[1m\u001b[39m\u001b[22m  \u001b[1m\u001b[32m[emitted]\u001b[39m\u001b[22m  \n",
      "                        \u001b[1m\u001b[32m6a754845184d0bbadc833d7938d4df66.woff\u001b[39m\u001b[22m      34.7 KiB                                   \u001b[1m\u001b[39m\u001b[22m  \u001b[1m\u001b[32m[emitted]\u001b[39m\u001b[22m  \n",
      "                        \u001b[1m\u001b[32mff75463a7fa586585fd3586e79000d36.woff\u001b[39m\u001b[22m      24.8 KiB                                   \u001b[1m\u001b[39m\u001b[22m  \u001b[1m\u001b[32m[emitted]\u001b[39m\u001b[22m  \n",
      "                         \u001b[1m\u001b[32m52a6a1658f19627bacf35b495b60891c.ttf\u001b[39m\u001b[22m      18.2 KiB                                   \u001b[1m\u001b[39m\u001b[22m  \u001b[1m\u001b[32m[emitted]\u001b[39m\u001b[22m  \n",
      "                       \u001b[1m\u001b[32m1ba8a24a34177c2ffb565c9215073d79.woff2\u001b[39m\u001b[22m      32.2 KiB                                   \u001b[1m\u001b[39m\u001b[22m  \u001b[1m\u001b[32m[emitted]\u001b[39m\u001b[22m  \n",
      "                         \u001b[1m\u001b[32m40d559e307d2766ad67e717b07c6bfe8.ttf\u001b[39m\u001b[22m      30.2 KiB                                   \u001b[1m\u001b[39m\u001b[22m  \u001b[1m\u001b[32m[emitted]\u001b[39m\u001b[22m  \n",
      "                                 \u001b[1m\u001b[32mmain.ea4589db81c12f3e31c9.js\u001b[39m\u001b[22m      72.3 KiB                               \u001b[1mmain\u001b[39m\u001b[22m  \u001b[1m\u001b[32m[emitted]\u001b[39m\u001b[22m  main\n",
      "                                    \u001b[1m\u001b[32m0.cc98107762fcc28532b3.js\u001b[39m\u001b[22m       4.5 KiB                                  \u001b[1m0\u001b[39m\u001b[22m  \u001b[1m\u001b[32m[emitted]\u001b[39m\u001b[22m  \n",
      "                                 \u001b[1m\u001b[32mvega.91b98e783d16fd1b9e23.js\u001b[39m\u001b[22m     519 bytes                               \u001b[1mvega\u001b[39m\u001b[22m  \u001b[1m\u001b[32m[emitted]\u001b[39m\u001b[22m  vega\n",
      "                         \u001b[1m\u001b[32mvendors~main.7139031b8952722e461a.js\u001b[39m\u001b[22m      15.6 MiB                       \u001b[1mvendors~main\u001b[39m\u001b[22m  \u001b[1m\u001b[32m[emitted]\u001b[39m\u001b[22m  vendors~main\n",
      "                         \u001b[1m\u001b[32mvendors~vega.efedabae592b83b45c97.js\u001b[39m\u001b[22m      2.05 MiB                       \u001b[1mvendors~vega\u001b[39m\u001b[22m  \u001b[1m\u001b[32m[emitted]\u001b[39m\u001b[22m  vendors~vega\n",
      "                                    \u001b[1m\u001b[32m1.055322dcf6c2bb19185f.js\u001b[39m\u001b[22m       888 KiB                                  \u001b[1m1\u001b[39m\u001b[22m  \u001b[1m\u001b[32m[emitted]\u001b[39m\u001b[22m  \n",
      "    \u001b[1m\u001b[32mvendors~@jupyter-widgets/controls.0f2eb7a143368d9383d4.js\u001b[39m\u001b[22m       268 KiB  \u001b[1mvendors~@jupyter-widgets/controls\u001b[39m\u001b[22m  \u001b[1m\u001b[32m[emitted]\u001b[39m\u001b[22m  vendors~@jupyter-widgets/controls\n",
      "                                    \u001b[1m\u001b[32m2.a2085154f76dad496c93.js\u001b[39m\u001b[22m      4.81 KiB                                  \u001b[1m2\u001b[39m\u001b[22m  \u001b[1m\u001b[32m[emitted]\u001b[39m\u001b[22m  \n",
      "                             \u001b[1m\u001b[32m82a8b2961f2c56755b5b.module.wasm\u001b[39m\u001b[22m  unknown size                                  \u001b[1m2\u001b[39m\u001b[22m  \u001b[1m\u001b[32m[emitted]\u001b[39m\u001b[22m  \n",
      "                             \u001b[1m\u001b[32mmain.ea4589db81c12f3e31c9.js.map\u001b[39m\u001b[22m      86.3 KiB                               \u001b[1mmain\u001b[39m\u001b[22m  \u001b[1m\u001b[32m[emitted]\u001b[39m\u001b[22m  main\n",
      "                                \u001b[1m\u001b[32m0.cc98107762fcc28532b3.js.map\u001b[39m\u001b[22m      5.73 KiB                                  \u001b[1m0\u001b[39m\u001b[22m  \u001b[1m\u001b[32m[emitted]\u001b[39m\u001b[22m  \n",
      "                             \u001b[1m\u001b[32mvega.91b98e783d16fd1b9e23.js.map\u001b[39m\u001b[22m     251 bytes                               \u001b[1mvega\u001b[39m\u001b[22m  \u001b[1m\u001b[32m[emitted]\u001b[39m\u001b[22m  vega\n",
      "                     \u001b[1m\u001b[32mvendors~main.7139031b8952722e461a.js.map\u001b[39m\u001b[22m      17.4 MiB                       \u001b[1mvendors~main\u001b[39m\u001b[22m  \u001b[1m\u001b[32m[emitted]\u001b[39m\u001b[22m  vendors~main\n",
      "                     \u001b[1m\u001b[32mvendors~vega.efedabae592b83b45c97.js.map\u001b[39m\u001b[22m      1.67 MiB                       \u001b[1mvendors~vega\u001b[39m\u001b[22m  \u001b[1m\u001b[32m[emitted]\u001b[39m\u001b[22m  vendors~vega\n",
      "                                \u001b[1m\u001b[32m1.055322dcf6c2bb19185f.js.map\u001b[39m\u001b[22m      1.04 MiB                                  \u001b[1m1\u001b[39m\u001b[22m  \u001b[1m\u001b[32m[emitted]\u001b[39m\u001b[22m  \n",
      "\u001b[1m\u001b[32mvendors~@jupyter-widgets/controls.0f2eb7a143368d9383d4.js.map\u001b[39m\u001b[22m       306 KiB  \u001b[1mvendors~@jupyter-widgets/controls\u001b[39m\u001b[22m  \u001b[1m\u001b[32m[emitted]\u001b[39m\u001b[22m  vendors~@jupyter-widgets/controls\n",
      "                                \u001b[1m\u001b[32m2.a2085154f76dad496c93.js.map\u001b[39m\u001b[22m       3.7 KiB                                  \u001b[1m2\u001b[39m\u001b[22m  \u001b[1m\u001b[32m[emitted]\u001b[39m\u001b[22m  \n",
      "                                                   \u001b[1m\u001b[32mindex.html\u001b[39m\u001b[22m      1.54 KiB                                   \u001b[1m\u001b[39m\u001b[22m  \u001b[1m\u001b[32m[emitted]\u001b[39m\u001b[22m  \n",
      "Entrypoint \u001b[1mmain\u001b[39m\u001b[22m = \u001b[1m\u001b[32mvendors~main.7139031b8952722e461a.js\u001b[39m\u001b[22m \u001b[1m\u001b[32mvendors~main.7139031b8952722e461a.js.map\u001b[39m\u001b[22m \u001b[1m\u001b[32mmain.ea4589db81c12f3e31c9.js\u001b[39m\u001b[22m \u001b[1m\u001b[32mmain.ea4589db81c12f3e31c9.js.map\u001b[39m\u001b[22m\n",
      " [0] \u001b[1mmulti whatwg-fetch ./build/index.out.js\u001b[39m\u001b[22m 40 bytes {\u001b[1m\u001b[33mmain\u001b[39m\u001b[22m}\u001b[1m\u001b[32m [built]\u001b[39m\u001b[22m\n",
      " [ANye] \u001b[1m./build/index.out.js\u001b[39m\u001b[22m 45.7 KiB {\u001b[1m\u001b[33mmain\u001b[39m\u001b[22m}\u001b[1m\u001b[32m [built]\u001b[39m\u001b[22m\n",
      " [yLpj] \u001b[1m(webpack)/buildin/global.js\u001b[39m\u001b[22m 489 bytes {\u001b[1m\u001b[33mvendors~main\u001b[39m\u001b[22m}\u001b[1m\u001b[32m [built]\u001b[39m\u001b[22m\n",
      " [1] \u001b[1mvertx (ignored)\u001b[39m\u001b[22m 15 bytes {\u001b[1m\u001b[33mmain\u001b[39m\u001b[22m}\u001b[1m\u001b[33m [optional]\u001b[39m\u001b[22m\u001b[1m\u001b[32m [built]\u001b[39m\u001b[22m\n",
      " [RnhZ] \u001b[1m./node_modules/moment/locale sync ^\\.\\/.*$\u001b[39m\u001b[22m 2.88 KiB {\u001b[1m\u001b[33mmain\u001b[39m\u001b[22m}\u001b[1m\u001b[33m [optional]\u001b[39m\u001b[22m\u001b[1m\u001b[32m [built]\u001b[39m\u001b[22m\n",
      " [YuTi] \u001b[1m(webpack)/buildin/module.js\u001b[39m\u001b[22m 497 bytes {\u001b[1m\u001b[33mvendors~main\u001b[39m\u001b[22m}\u001b[1m\u001b[32m [built]\u001b[39m\u001b[22m\n",
      " [eTbV] \u001b[1m./node_modules/codemirror/mode sync ^\\.\\/.*\\.js$\u001b[39m\u001b[22m 2.78 KiB {\u001b[1m\u001b[33m0\u001b[39m\u001b[22m}\u001b[1m\u001b[32m [built]\u001b[39m\u001b[22m\n",
      " [2] \u001b[1mutil (ignored)\u001b[39m\u001b[22m 15 bytes {\u001b[1m\u001b[33mmain\u001b[39m\u001b[22m}\u001b[1m\u001b[32m [built]\u001b[39m\u001b[22m\n",
      "[10] \u001b[1mnode-fetch (ignored)\u001b[39m\u001b[22m 15 bytes {\u001b[1m\u001b[33mvega\u001b[39m\u001b[22m}\u001b[1m\u001b[32m [built]\u001b[39m\u001b[22m\n",
      "[11] \u001b[1mfs (ignored)\u001b[39m\u001b[22m 15 bytes {\u001b[1m\u001b[33mvega\u001b[39m\u001b[22m}\u001b[1m\u001b[32m [built]\u001b[39m\u001b[22m\n",
      " [E5fX] \u001b[1m./node_modules/mermaid/node_modules/moment/locale sync ^\\.\\/.*$\u001b[39m\u001b[22m 3 KiB {\u001b[1m\u001b[33mmain\u001b[39m\u001b[22m}\u001b[1m\u001b[33m [optional]\u001b[39m\u001b[22m\u001b[1m\u001b[32m [built]\u001b[39m\u001b[22m\n",
      " [4] \u001b[1mbuffer (ignored)\u001b[39m\u001b[22m 15 bytes {\u001b[1m\u001b[33mmain\u001b[39m\u001b[22m}\u001b[1m\u001b[33m [optional]\u001b[39m\u001b[22m\u001b[1m\u001b[32m [built]\u001b[39m\u001b[22m\n",
      " [5] \u001b[1mcrypto (ignored)\u001b[39m\u001b[22m 15 bytes {\u001b[1m\u001b[33mmain\u001b[39m\u001b[22m}\u001b[1m\u001b[33m [optional]\u001b[39m\u001b[22m\u001b[1m\u001b[32m [built]\u001b[39m\u001b[22m\n",
      " [6] \u001b[1mreadable-stream (ignored)\u001b[39m\u001b[22m 15 bytes {\u001b[1m\u001b[33mmain\u001b[39m\u001b[22m}\u001b[1m\u001b[32m [built]\u001b[39m\u001b[22m\n",
      " [7] \u001b[1msupports-color (ignored)\u001b[39m\u001b[22m 15 bytes {\u001b[1m\u001b[33mmain\u001b[39m\u001b[22m}\u001b[1m\u001b[32m [built]\u001b[39m\u001b[22m\n",
      "    + 3281 hidden modules\n",
      "\n",
      "\u001b[1m\u001b[33mWARNING in d3\n",
      "\u001b[0m  Multiple versions of \u001b[0m\u001b[32m\u001b[1md3\u001b[22m\u001b[39m\u001b[37m found:\u001b[39m\n",
      "\u001b[37m\u001b[39m    \u001b[32m\u001b[1m3.5.17\u001b[22m\u001b[39m \u001b[37m\u001b[1m./~/d3\u001b[22m\u001b[39m from \u001b[37m\u001b[1m./~/bqplot/src/Image.js\u001b[22m\u001b[39m\n",
      "    \u001b[32m\u001b[1m5.9.2\u001b[22m\u001b[39m \u001b[37m\u001b[1m./~/mermaid/~/d3\u001b[22m\u001b[39m from \u001b[37m\u001b[1m./~/mermaid/dist/mermaid.core.js\u001b[22m\u001b[39m\n",
      "\u001b[39m\u001b[22m\n",
      "\n",
      "\u001b[1m\u001b[33mWARNING in d3-array\n",
      "\u001b[0m  Multiple versions of \u001b[0m\u001b[32m\u001b[1md3-array\u001b[22m\u001b[39m\u001b[37m found:\u001b[39m\n",
      "\u001b[37m\u001b[39m    \u001b[32m\u001b[1m1.2.4\u001b[22m\u001b[39m \u001b[37m\u001b[1m./~/d3-scale/~/d3-array\u001b[22m\u001b[39m from \u001b[37m\u001b[1m./~/d3-scale/~/d3-array/src/index.js\u001b[22m\u001b[39m\n",
      "    \u001b[32m\u001b[1m2.0.3\u001b[22m\u001b[39m \u001b[37m\u001b[1m./~/d3-array\u001b[22m\u001b[39m from \u001b[37m\u001b[1m./~/d3-array/src/index.js\u001b[22m\u001b[39m\n",
      "\u001b[39m\u001b[22m\n",
      "\n",
      "\u001b[1m\u001b[33mWARNING in jquery\n",
      "\u001b[0m  Multiple versions of \u001b[0m\u001b[32m\u001b[1mjquery\u001b[22m\u001b[39m\u001b[37m found:\u001b[39m\n",
      "\u001b[37m\u001b[39m    \u001b[32m\u001b[1m2.2.4\u001b[22m\u001b[39m \u001b[37m\u001b[1m./~/jupyter-matplotlib/~/jquery\u001b[22m\u001b[39m from \u001b[37m\u001b[1m./~/jupyter-matplotlib/src/mpl_widget.js\u001b[22m\u001b[39m\n",
      "    \u001b[32m\u001b[1m3.3.1\u001b[22m\u001b[39m \u001b[37m\u001b[1m./~/jquery\u001b[22m\u001b[39m from \u001b[37m\u001b[1m./~/@jupyter-widgets/base/lib/widget.js\u001b[22m\u001b[39m\n",
      "\u001b[39m\u001b[22m\n",
      "\n",
      "\u001b[1m\u001b[33mWARNING in moment\n",
      "\u001b[0m  Multiple versions of \u001b[0m\u001b[32m\u001b[1mmoment\u001b[22m\u001b[39m\u001b[37m found:\u001b[39m\n",
      "\u001b[37m\u001b[39m    \u001b[32m\u001b[1m2.21.0\u001b[22m\u001b[39m \u001b[37m\u001b[1m./~/moment\u001b[22m\u001b[39m\n",
      "    \u001b[32m\u001b[1m2.24.0\u001b[22m\u001b[39m \u001b[37m\u001b[1m./~/mermaid/~/moment\u001b[22m\u001b[39m\n",
      "\u001b[39m\u001b[22m\n",
      "\n",
      "\u001b[1m\u001b[33mWARNING in react\n",
      "\u001b[0m  Multiple versions of \u001b[0m\u001b[32m\u001b[1mreact\u001b[22m\u001b[39m\u001b[37m found:\u001b[39m\n",
      "\u001b[37m\u001b[39m    \u001b[32m\u001b[1m16.4.2\u001b[22m\u001b[39m \u001b[37m\u001b[1m./~/react\u001b[22m\u001b[39m from \u001b[37m\u001b[1m./~/react/index.js\u001b[22m\u001b[39m\n",
      "    \u001b[32m\u001b[1m16.8.5\u001b[22m\u001b[39m \u001b[37m\u001b[1m./~/@jupyterlab/git/~/react\u001b[22m\u001b[39m from \u001b[37m\u001b[1m./~/@jupyterlab/git/~/react/index.js\u001b[22m\u001b[39m\n",
      "\u001b[39m\u001b[22m\n",
      "\n",
      "\u001b[1m\u001b[33mWARNING in react-dom\n",
      "\u001b[0m  Multiple versions of \u001b[0m\u001b[32m\u001b[1mreact-dom\u001b[22m\u001b[39m\u001b[37m found:\u001b[39m\n",
      "\u001b[37m\u001b[39m    \u001b[32m\u001b[1m16.4.2\u001b[22m\u001b[39m \u001b[37m\u001b[1m./~/react-dom\u001b[22m\u001b[39m from \u001b[37m\u001b[1m./~/react-dom/index.js\u001b[22m\u001b[39m\n",
      "    \u001b[32m\u001b[1m16.8.5\u001b[22m\u001b[39m \u001b[37m\u001b[1m./~/@jupyterlab/git/~/react-dom\u001b[22m\u001b[39m from \u001b[37m\u001b[1m./~/@jupyterlab/git/~/react-dom/index.js\u001b[22m\u001b[39m\n",
      "\u001b[39m\u001b[22m\n",
      "\n",
      "\u001b[1m\u001b[33mWARNING in vega-lite\n",
      "\u001b[0m  Multiple versions of \u001b[0m\u001b[32m\u001b[1mvega-lite\u001b[22m\u001b[39m\u001b[37m found:\u001b[39m\n",
      "\u001b[37m\u001b[39m    \u001b[32m\u001b[1m2.5.1\u001b[22m\u001b[39m \u001b[37m\u001b[1m./~/vega-lite/build/src\u001b[22m\u001b[39m from \u001b[37m\u001b[1m./~/vega-lite/build/src/compile/selection/selection.js\u001b[22m\u001b[39m\n",
      "    \u001b[32m\u001b[1m2.6.0\u001b[22m\u001b[39m \u001b[37m\u001b[1m./~/vega-lite/build\u001b[22m\u001b[39m from \u001b[37m\u001b[1m./~/vega-lite/build/src/index.js\u001b[22m\u001b[39m\n",
      "\n",
      "\u001b[37m\u001b[1mCheck how you can resolve duplicate packages: \u001b[22m\u001b[39m\n",
      "https://github.com/darrenscerri/duplicate-package-checker-webpack-plugin#resolving-duplicate-packages-in-your-bundle\n",
      "\u001b[39m\u001b[22m\n",
      "Child \u001b[1mhtml-webpack-plugin for \"index.html\"\u001b[39m\u001b[22m:\n",
      "     1 asset\n",
      "    Entrypoint \u001b[1mundefined\u001b[39m\u001b[22m = \u001b[1m\u001b[32mindex.html\u001b[39m\u001b[22m\n",
      "    [KTNU] \u001b[1m./node_modules/html-loader!./templates/partial.html\u001b[39m\u001b[22m 567 bytes {\u001b[1m\u001b[33m0\u001b[39m\u001b[22m}\u001b[1m\u001b[32m [built]\u001b[39m\u001b[22m\n",
      "    [YuTi] \u001b[1m(webpack)/buildin/module.js\u001b[39m\u001b[22m 497 bytes {\u001b[1m\u001b[33m0\u001b[39m\u001b[22m}\u001b[1m\u001b[32m [built]\u001b[39m\u001b[22m\n",
      "    [aS2v] \u001b[1m./node_modules/html-webpack-plugin/lib/loader.js!./templates/template.html\u001b[39m\u001b[22m 1.22 KiB {\u001b[1m\u001b[33m0\u001b[39m\u001b[22m}\u001b[1m\u001b[32m [built]\u001b[39m\u001b[22m\n",
      "    [yLpj] \u001b[1m(webpack)/buildin/global.js\u001b[39m\u001b[22m 489 bytes {\u001b[1m\u001b[33m0\u001b[39m\u001b[22m}\u001b[1m\u001b[32m [built]\u001b[39m\u001b[22m\n",
      "        + 1 hidden module\n",
      "\u001b[2K\u001b[1GDone in 14.05s.\n"
     ]
    }
   ],
   "source": [
    "!jupyter labextension install bqplot"
   ]
  },
  {
   "cell_type": "code",
   "execution_count": null,
   "metadata": {},
   "outputs": [],
   "source": []
  }
 ],
 "metadata": {
  "kernelspec": {
   "display_name": "Python 3",
   "language": "python",
   "name": "python3"
  },
  "language_info": {
   "codemirror_mode": {
    "name": "ipython",
    "version": 3
   },
   "file_extension": ".py",
   "mimetype": "text/x-python",
   "name": "python",
   "nbconvert_exporter": "python",
   "pygments_lexer": "ipython3",
   "version": "3.7.1"
  }
 },
 "nbformat": 4,
 "nbformat_minor": 2
}
