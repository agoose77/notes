{
 "cells": [
  {
   "cell_type": "markdown",
   "metadata": {},
   "source": [
    "The (Classical) Hough Transform\n",
    "==============================="
   ]
  },
  {
   "cell_type": "code",
   "execution_count": 1,
   "metadata": {},
   "outputs": [],
   "source": [
    "import bqplot.pyplot as plt\n",
    "import bqplot as bq\n",
    "import numpy as np\n",
    "import ipywidgets as widgets"
   ]
  },
  {
   "cell_type": "markdown",
   "metadata": {},
   "source": [
    "The _classical_ Hough transform is a feature extraction technique used to find a subset of geometrical shapes within an image subject to imperfections. \n",
    "\n",
    "Lines\n",
    "-----\n",
    "\n",
    "In polar space, a line may be parametrised in *Hesse normal form* by the length $r$ of the normal to the origin $\\vec{r}$, and the angle $\\theta$ of $\\vec{r}$ with respect to the origin:\n",
    "$$\n",
    "r(\\theta) = x_i\\cos(\\theta) + y_i\\sin(\\theta)\\,.\n",
    "$$\n",
    "For any point $(x, y)$ on this line, $r$ and $\\theta$ are *constant*."
   ]
  },
  {
   "cell_type": "code",
   "execution_count": 203,
   "metadata": {},
   "outputs": [
    {
     "data": {
      "application/vnd.jupyter.widget-view+json": {
       "model_id": "75bd13f1e8a04649b934697f970b1d92",
       "version_major": 2,
       "version_minor": 0
      },
      "text/plain": [
       "VBox(children=(Figure(axes=[Axis(scale=LinearScale(max=200.0, min=-200.0)), Axis(orientation='vertical', scale…"
      ]
     },
     "metadata": {},
     "output_type": "display_data"
    },
    {
     "data": {
      "application/vnd.jupyter.widget-view+json": {
       "model_id": "50e31fe8b564424d9ec06bc316bdc3b5",
       "version_major": 2,
       "version_minor": 0
      },
      "text/plain": [
       "interactive(children=(FloatLogSlider(value=1.0, description='-m', max=2.0, min=-2.0), FloatSlider(value=0.0, d…"
      ]
     },
     "metadata": {},
     "output_type": "display_data"
    }
   ],
   "source": [
    "x = np.linspace(-200, 200)\n",
    "    \n",
    "plt.figure(max_aspect_ratio=1, min_aspect_ratio=1)\n",
    "line = plt.plot(x=x, y=x*0, labels=['Line'], \n",
    "                options={'y': {'min': -x.max(), 'max': x.max()}, \n",
    "                         'x': {'min': -x.max(), 'max': x.max()}})\n",
    "normal = plt.plot(x, x*0, 'r--', labels=['Normal'])\n",
    "label = plt.label(text=[],x=[],y=[], colors=['orange'])\n",
    "plt.legend()\n",
    "plt.show()\n",
    "\n",
    "y0 = -200\n",
    "x0 = -200\n",
    "\n",
    "@widgets.interact\n",
    "def draw(m=widgets.FloatLogSlider(min=-2, max=2, description=\"-m\"), c=(-400.0, 400.0)):\n",
    "    m = -m\n",
    "    y = m*x + c\n",
    "    line.y = y\n",
    "    normal.y = (-1/m)*(x-x0) + y0  \n",
    "    z = np.pi/2 - np.arctan(-m)\n",
    "    r = 200\n",
    "    label.y = [r*np.sin(z)+y0]\n",
    "    label.x = [r*np.cos(z)+x0]\n",
    "    label.text = [f\"({c/(np.sin(z)-m*np.cos(z)):.3f}, {np.degrees(z):.3f})\"]"
   ]
  },
  {
   "cell_type": "code",
   "execution_count": 195,
   "metadata": {},
   "outputs": [
    {
     "data": {
      "application/vnd.jupyter.widget-view+json": {
       "model_id": "f711a8ec3fec4415b3e405b6b023cec5",
       "version_major": 2,
       "version_minor": 0
      },
      "text/plain": [
       "VBox(children=(Figure(axes=[Axis(scale=LinearScale(max=200.0, min=-200.0)), Axis(orientation='vertical', scale…"
      ]
     },
     "metadata": {},
     "output_type": "display_data"
    }
   ],
   "source": [
    "plt.figure()\n",
    "t = 0\n",
    "s = np.radians(75.9)\n",
    "plt.plot(x, (t - x*np.cos(s))/np.sin(s), \n",
    "         options={'y': {'min': -x.max(), 'max': x.max()}, \n",
    "                  'x': {'min': -x.max(), 'max': x.max()}})\n",
    "plt.show()"
   ]
  },
  {
   "cell_type": "markdown",
   "metadata": {},
   "source": [
    "## Define two lines"
   ]
  },
  {
   "cell_type": "code",
   "execution_count": 210,
   "metadata": {},
   "outputs": [],
   "source": [
    "x = np.linspace(0, 100, 100)\n",
    "\n",
    "y1 = 3*x + 30\n",
    "y2 = 1.5*x + 40"
   ]
  },
  {
   "cell_type": "code",
   "execution_count": 211,
   "metadata": {},
   "outputs": [
    {
     "data": {
      "application/vnd.jupyter.widget-view+json": {
       "model_id": "e575327b5c514983b5ba49e290c4b569",
       "version_major": 2,
       "version_minor": 0
      },
      "text/plain": [
       "VBox(children=(Figure(axes=[Axis(scale=LinearScale()), Axis(orientation='vertical', scale=LinearScale())], fig…"
      ]
     },
     "metadata": {},
     "output_type": "display_data"
    }
   ],
   "source": [
    "plt.figure() \n",
    "plt.plot(x, y1)\n",
    "plt.plot(x, y2)\n",
    "plt.show()"
   ]
  },
  {
   "cell_type": "markdown",
   "metadata": {},
   "source": [
    "\n",
    "In the context of image analysis, the cartesian coordinates $(x_i,y_i)$ are known, whilst $(r,\\theta)$ are the parameters to be solved for. Given that for all points on a straight line, $r$ and $\\theta$ remain constant, it follows that there exist many lines upon which $(x_i, y_i)$ lies, and thus each $(x_i, y_i)$ in cartesian space maps to _curves_ in the polar Hough parameter space. Hence, points which are colinear in cartesian space (i.e. lie on the same line) will map to curves in Hough space which intersect at some $(r, \\theta)$.\n",
    "\n",
    "\n",
    "The transform is implemented by transforming each $(x_i, y_i)$ into Hough parameter space, and then incrementing an accumulator each $(r_i, \\theta_i)$ along a discretisation of the $(r,\\theta)$ curve. Identifying peaks in the resulting $(r,\\theta)$ histogram indicates the presence of a line with the given paramete"
   ]
  },
  {
   "cell_type": "markdown",
   "metadata": {},
   "source": [
    "### Build $\\theta$ and $r$ arrays from known $(x_i,y_i)$ points"
   ]
  },
  {
   "cell_type": "code",
   "execution_count": 212,
   "metadata": {},
   "outputs": [],
   "source": [
    "theta1 = np.tile(np.linspace(0, 2*np.pi, 200).reshape(-1,1), len(x))\n",
    "r1 = x*np.cos(theta1) + y1*np.sin(theta1)"
   ]
  },
  {
   "cell_type": "markdown",
   "metadata": {},
   "source": [
    "### Plot in a histogram"
   ]
  },
  {
   "cell_type": "code",
   "execution_count": 216,
   "metadata": {},
   "outputs": [],
   "source": [
    "hist_2d, r1_edges, theta1_edges = np.histogram2d(r1.ravel(),  theta1.ravel(), bins=100)"
   ]
  },
  {
   "cell_type": "code",
   "execution_count": 217,
   "metadata": {},
   "outputs": [
    {
     "data": {
      "application/vnd.jupyter.widget-view+json": {
       "model_id": "b9244b8de84643e683c2682050c07587",
       "version_major": 2,
       "version_minor": 0
      },
      "text/plain": [
       "VBox(children=(Figure(axes=[ColorAxis(scale=ColorScale(scheme='viridis')), Axis(label='r', scale=LinearScale()…"
      ]
     },
     "metadata": {},
     "output_type": "display_data"
    }
   ],
   "source": [
    "plt.figure()\n",
    "plt.heatmap(hist_2d, x=r1_edges, y=np.degrees(theta1_edges), cmap=\"viridis\", tooltip=bq.Tooltip(fields=['midpoint']))\n",
    "plt.xlabel(\"r\")\n",
    "plt.ylabel(\"theta\")\n",
    "plt.show()"
   ]
  },
  {
   "cell_type": "markdown",
   "metadata": {},
   "source": [
    "### Extract the top $4$ indices by frequency"
   ]
  },
  {
   "cell_type": "code",
   "execution_count": 220,
   "metadata": {},
   "outputs": [],
   "source": [
    "max_indices = np.vstack(np.unravel_index(np.argsort(hist_2d, axis=None), hist_2d.shape)).T\n",
    "maxima = max_indices[-1:-5:-1]"
   ]
  },
  {
   "cell_type": "markdown",
   "metadata": {},
   "source": [
    "### Plot fit parameters"
   ]
  },
  {
   "cell_type": "code",
   "execution_count": 221,
   "metadata": {},
   "outputs": [],
   "source": [
    "i_r1, j_theta1 = maxima[0]\n",
    "r1_fit = r_edges[i_r1]\n",
    "theta1_fit = theta_edges[j_theta1]"
   ]
  },
  {
   "cell_type": "code",
   "execution_count": 209,
   "metadata": {},
   "outputs": [
    {
     "data": {
      "application/vnd.jupyter.widget-view+json": {
       "model_id": "69f2b4f19a5e46c68d60f2ecfabf96c8",
       "version_major": 2,
       "version_minor": 0
      },
      "text/plain": [
       "VBox(children=(Figure(axes=[Axis(scale=LinearScale()), Axis(orientation='vertical', scale=LinearScale())], fig…"
      ]
     },
     "metadata": {},
     "output_type": "display_data"
    }
   ],
   "source": [
    "plt.figure()\n",
    "plt.plot(x, (r1_fit - x*np.cos(theta1_fit))/np.sin(theta1_fit), \"r--\", labels=['Fit'])\n",
    "plt.plot(x, y1, labels=['True'])\n",
    "plt.legend()\n",
    "plt.show()"
   ]
  }
 ],
 "metadata": {
  "kernelspec": {
   "display_name": "Python 3",
   "language": "python",
   "name": "python3"
  },
  "language_info": {
   "codemirror_mode": {
    "name": "ipython",
    "version": 3
   },
   "file_extension": ".py",
   "mimetype": "text/x-python",
   "name": "python",
   "nbconvert_exporter": "python",
   "pygments_lexer": "ipython3",
   "version": "3.7.1"
  }
 },
 "nbformat": 4,
 "nbformat_minor": 2
}
