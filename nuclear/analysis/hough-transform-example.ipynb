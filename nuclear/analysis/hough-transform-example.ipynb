{
 "cells": [
  {
   "cell_type": "markdown",
   "metadata": {},
   "source": [
    "Hough Transform Example\n",
    "======================="
   ]
  },
  {
   "cell_type": "code",
   "execution_count": 1,
   "metadata": {},
   "outputs": [],
   "source": [
    "import bqplot.pyplot as plt\n",
    "import bqplot as bq\n",
    "import numpy as np"
   ]
  },
  {
   "cell_type": "markdown",
   "metadata": {},
   "source": [
    "## Define two lines"
   ]
  },
  {
   "cell_type": "code",
   "execution_count": 201,
   "metadata": {},
   "outputs": [],
   "source": [
    "m1 = 3\n",
    "c1 = 30\n",
    "\n",
    "m2 = 1.4\n",
    "c2 = 40\n",
    "\n",
    "x = np.linspace(0, 100, 100)\n",
    "\n",
    "y1 = m1*x + c1\n",
    "y2 = m2*x + c2"
   ]
  },
  {
   "cell_type": "code",
   "execution_count": 202,
   "metadata": {},
   "outputs": [
    {
     "data": {
      "application/vnd.jupyter.widget-view+json": {
       "model_id": "f87b816430024b8d9e0ecd9e82e6572f",
       "version_major": 2,
       "version_minor": 0
      },
      "text/plain": [
       "VBox(children=(Figure(axes=[Axis(scale=LinearScale()), Axis(orientation='vertical', scale=LinearScale())], fig…"
      ]
     },
     "metadata": {},
     "output_type": "display_data"
    }
   ],
   "source": [
    "plt.figure() \n",
    "plt.plot(x, y1)\n",
    "plt.plot(x, y2)\n",
    "plt.show()"
   ]
  },
  {
   "cell_type": "markdown",
   "metadata": {},
   "source": [
    "## Build $\\theta$ and $r$ arrays from known $(x_i,y_i)$ points"
   ]
  },
  {
   "cell_type": "code",
   "execution_count": 203,
   "metadata": {},
   "outputs": [],
   "source": [
    "theta1 = np.tile(np.linspace(0, 2*np.pi, 200).reshape(-1,1), len(x))\n",
    "r1 = x*np.cos(theta1) + y1*np.sin(theta1)"
   ]
  },
  {
   "cell_type": "markdown",
   "metadata": {},
   "source": [
    "## Plot in a Histogram"
   ]
  },
  {
   "cell_type": "code",
   "execution_count": 204,
   "metadata": {},
   "outputs": [
    {
     "data": {
      "text/html": [
       "<table style='border-style:solid;border-width:1px;'>\n",
       "<tr>\n",
       "<td style='font-family:monospace;white-space: pre;' title='(0, 0)'>0.</td>\n",
       "<td style='font-family:monospace;white-space: pre;' title='(0, 1)'>0.</td>\n",
       "<td style='font-family:monospace;white-space: pre;' title='(0, 2)'>0.</td>\n",
       "<td><center>⋯</center></td>\n",
       "<td style='font-family:monospace;white-space: pre;' title='(0, 97)'>0.</td>\n",
       "<td style='font-family:monospace;white-space: pre;' title='(0, 98)'>0.</td>\n",
       "<td style='font-family:monospace;white-space: pre;' title='(0, 99)'>0.</td>\n",
       "</tr>\n",
       "<tr>\n",
       "<td style='font-family:monospace;white-space: pre;' title='(1, 0)'>0.</td>\n",
       "<td style='font-family:monospace;white-space: pre;' title='(1, 1)'>0.</td>\n",
       "<td style='font-family:monospace;white-space: pre;' title='(1, 2)'>0.</td>\n",
       "<td><center>⋯</center></td>\n",
       "<td style='font-family:monospace;white-space: pre;' title='(1, 97)'>0.</td>\n",
       "<td style='font-family:monospace;white-space: pre;' title='(1, 98)'>0.</td>\n",
       "<td style='font-family:monospace;white-space: pre;' title='(1, 99)'>0.</td>\n",
       "</tr>\n",
       "<tr>\n",
       "<td style='font-family:monospace;white-space: pre;' title='(2, 0)'>0.</td>\n",
       "<td style='font-family:monospace;white-space: pre;' title='(2, 1)'>0.</td>\n",
       "<td style='font-family:monospace;white-space: pre;' title='(2, 2)'>0.</td>\n",
       "<td><center>⋯</center></td>\n",
       "<td style='font-family:monospace;white-space: pre;' title='(2, 97)'>0.</td>\n",
       "<td style='font-family:monospace;white-space: pre;' title='(2, 98)'>0.</td>\n",
       "<td style='font-family:monospace;white-space: pre;' title='(2, 99)'>0.</td>\n",
       "</tr>\n",
       "<tr>\n",
       "<td><center>⋮</center></td>\n",
       "<td><center>⋮</center></td>\n",
       "<td><center>⋮</center></td>\n",
       "<td><center>⋱</center></td>\n",
       "<td><center>⋮</center></td>\n",
       "<td><center>⋮</center></td>\n",
       "<td><center>⋮</center></td>\n",
       "</tr>\n",
       "<tr>\n",
       "<td style='font-family:monospace;white-space: pre;' title='(97, 0)'>0.</td>\n",
       "<td style='font-family:monospace;white-space: pre;' title='(97, 1)'>0.</td>\n",
       "<td style='font-family:monospace;white-space: pre;' title='(97, 2)'>0.</td>\n",
       "<td><center>⋯</center></td>\n",
       "<td style='font-family:monospace;white-space: pre;' title='(97, 97)'>0.</td>\n",
       "<td style='font-family:monospace;white-space: pre;' title='(97, 98)'>0.</td>\n",
       "<td style='font-family:monospace;white-space: pre;' title='(97, 99)'>0.</td>\n",
       "</tr>\n",
       "<tr>\n",
       "<td style='font-family:monospace;white-space: pre;' title='(98, 0)'>0.</td>\n",
       "<td style='font-family:monospace;white-space: pre;' title='(98, 1)'>0.</td>\n",
       "<td style='font-family:monospace;white-space: pre;' title='(98, 2)'>0.</td>\n",
       "<td><center>⋯</center></td>\n",
       "<td style='font-family:monospace;white-space: pre;' title='(98, 97)'>0.</td>\n",
       "<td style='font-family:monospace;white-space: pre;' title='(98, 98)'>0.</td>\n",
       "<td style='font-family:monospace;white-space: pre;' title='(98, 99)'>0.</td>\n",
       "</tr>\n",
       "<tr>\n",
       "<td style='font-family:monospace;white-space: pre;' title='(99, 0)'>0.</td>\n",
       "<td style='font-family:monospace;white-space: pre;' title='(99, 1)'>0.</td>\n",
       "<td style='font-family:monospace;white-space: pre;' title='(99, 2)'>0.</td>\n",
       "<td><center>⋯</center></td>\n",
       "<td style='font-family:monospace;white-space: pre;' title='(99, 97)'>0.</td>\n",
       "<td style='font-family:monospace;white-space: pre;' title='(99, 98)'>0.</td>\n",
       "<td style='font-family:monospace;white-space: pre;' title='(99, 99)'>0.</td>\n",
       "</tr>\n",
       "</table>"
      ],
      "text/plain": [
       "array([[0., 0., 0., ..., 0., 0., 0.],\n",
       "       [0., 0., 0., ..., 0., 0., 0.],\n",
       "       [0., 0., 0., ..., 0., 0., 0.],\n",
       "       ...,\n",
       "       [0., 0., 0., ..., 0., 0., 0.],\n",
       "       [0., 0., 0., ..., 0., 0., 0.],\n",
       "       [0., 0., 0., ..., 0., 0., 0.]])"
      ]
     },
     "execution_count": 204,
     "metadata": {},
     "output_type": "execute_result"
    }
   ],
   "source": [
    "hist_2d, r1_edges, theta1_edges = np.histogram2d(r1.ravel(), \n",
    "                                                 theta1.ravel(), \n",
    "                                                 bins=100)\n",
    "hist_2d"
   ]
  },
  {
   "cell_type": "markdown",
   "metadata": {},
   "source": [
    "## Draw 2D Histogram of $r,\\theta$"
   ]
  },
  {
   "cell_type": "code",
   "execution_count": 205,
   "metadata": {},
   "outputs": [
    {
     "data": {
      "application/vnd.jupyter.widget-view+json": {
       "model_id": "9687edbb8e6b4c14a1976dd655260874",
       "version_major": 2,
       "version_minor": 0
      },
      "text/plain": [
       "VBox(children=(Figure(axes=[ColorAxis(scale=ColorScale(scheme='viridis')), Axis(label='r', scale=LinearScale()…"
      ]
     },
     "metadata": {},
     "output_type": "display_data"
    }
   ],
   "source": [
    "plt.figure()\n",
    "plt.heatmap(hist_2d, x=r1_edges, y=np.degrees(theta1_edges), cmap=\"viridis\", tooltip=bq.Tooltip(fields=['midpoint']))\n",
    "plt.xlabel(\"r\")\n",
    "plt.ylabel(\"theta\")\n",
    "plt.show()"
   ]
  },
  {
   "cell_type": "markdown",
   "metadata": {},
   "source": [
    "## Extract the top $n$ indices by frequency"
   ]
  },
  {
   "cell_type": "code",
   "execution_count": 206,
   "metadata": {},
   "outputs": [
    {
     "data": {
      "text/html": [
       "<table style='border-style:solid;border-width:1px;'>\n",
       "<tr>\n",
       "<td style='font-family:monospace;white-space: pre;' title='(0, 0)'>0 </td>\n",
       "<td style='font-family:monospace;white-space: pre;' title='(0, 1)'>0 </td>\n",
       "</tr>\n",
       "<tr>\n",
       "<td style='font-family:monospace;white-space: pre;' title='(1, 0)'>62</td>\n",
       "<td style='font-family:monospace;white-space: pre;' title='(1, 1)'>76</td>\n",
       "</tr>\n",
       "<tr>\n",
       "<td style='font-family:monospace;white-space: pre;' title='(2, 0)'>62</td>\n",
       "<td style='font-family:monospace;white-space: pre;' title='(2, 1)'>75</td>\n",
       "</tr>\n",
       "<tr>\n",
       "<td><center>⋮</center></td>\n",
       "<td><center>⋮</center></td>\n",
       "</tr>\n",
       "<tr>\n",
       "<td style='font-family:monospace;white-space: pre;' title='(9997, 0)'>50</td>\n",
       "<td style='font-family:monospace;white-space: pre;' title='(9997, 1)'>45</td>\n",
       "</tr>\n",
       "<tr>\n",
       "<td style='font-family:monospace;white-space: pre;' title='(9998, 0)'>51</td>\n",
       "<td style='font-family:monospace;white-space: pre;' title='(9998, 1)'>44</td>\n",
       "</tr>\n",
       "<tr>\n",
       "<td style='font-family:monospace;white-space: pre;' title='(9999, 0)'>48</td>\n",
       "<td style='font-family:monospace;white-space: pre;' title='(9999, 1)'>94</td>\n",
       "</tr>\n",
       "</table>"
      ],
      "text/plain": [
       "array([[ 0,  0],\n",
       "       [62, 76],\n",
       "       [62, 75],\n",
       "       ...,\n",
       "       [50, 45],\n",
       "       [51, 44],\n",
       "       [48, 94]])"
      ]
     },
     "execution_count": 206,
     "metadata": {},
     "output_type": "execute_result"
    }
   ],
   "source": [
    "max_indices = np.vstack(np.unravel_index(np.argsort(hist_2d, axis=None), hist_2d.shape)).T\n",
    "max_indices"
   ]
  },
  {
   "cell_type": "code",
   "execution_count": 207,
   "metadata": {},
   "outputs": [
    {
     "data": {
      "text/html": [
       "<table style='border-style:solid;border-width:1px;'>\n",
       "<tr>\n",
       "<td style='font-family:monospace;white-space: pre;' title='(0, 0)'>48</td>\n",
       "<td style='font-family:monospace;white-space: pre;' title='(0, 1)'>94</td>\n",
       "</tr>\n",
       "<tr>\n",
       "<td style='font-family:monospace;white-space: pre;' title='(1, 0)'>51</td>\n",
       "<td style='font-family:monospace;white-space: pre;' title='(1, 1)'>44</td>\n",
       "</tr>\n",
       "<tr>\n",
       "<td style='font-family:monospace;white-space: pre;' title='(2, 0)'>50</td>\n",
       "<td style='font-family:monospace;white-space: pre;' title='(2, 1)'>45</td>\n",
       "</tr>\n",
       "<tr>\n",
       "<td style='font-family:monospace;white-space: pre;' title='(3, 0)'>49</td>\n",
       "<td style='font-family:monospace;white-space: pre;' title='(3, 1)'>95</td>\n",
       "</tr>\n",
       "</table>"
      ],
      "text/plain": [
       "array([[48, 94],\n",
       "       [51, 44],\n",
       "       [50, 45],\n",
       "       [49, 95]])"
      ]
     },
     "execution_count": 207,
     "metadata": {},
     "output_type": "execute_result"
    }
   ],
   "source": [
    "maxima = max_indices[-1:-5:-1]\n",
    "maxima"
   ]
  },
  {
   "cell_type": "code",
   "execution_count": 208,
   "metadata": {},
   "outputs": [],
   "source": [
    "i_r1, j_theta1 = maxima[0]\n",
    "r1_fit = r_edges[i_r1]\n",
    "theta1_fit = theta_edges[j_theta1]"
   ]
  },
  {
   "cell_type": "code",
   "execution_count": 209,
   "metadata": {},
   "outputs": [
    {
     "data": {
      "application/vnd.jupyter.widget-view+json": {
       "model_id": "69f2b4f19a5e46c68d60f2ecfabf96c8",
       "version_major": 2,
       "version_minor": 0
      },
      "text/plain": [
       "VBox(children=(Figure(axes=[Axis(scale=LinearScale()), Axis(orientation='vertical', scale=LinearScale())], fig…"
      ]
     },
     "metadata": {},
     "output_type": "display_data"
    }
   ],
   "source": [
    "plt.figure()\n",
    "plt.plot(x, (r1_fit - x*np.cos(theta1_fit))/np.sin(theta1_fit), \"r--\", labels=['Fit'])\n",
    "plt.plot(x, y1, labels=['True'])\n",
    "plt.legend()\n",
    "plt.show()"
   ]
  }
 ],
 "metadata": {
  "kernelspec": {
   "display_name": "Python 3",
   "language": "python",
   "name": "python3"
  },
  "language_info": {
   "codemirror_mode": {
    "name": "ipython",
    "version": 3
   },
   "file_extension": ".py",
   "mimetype": "text/x-python",
   "name": "python",
   "nbconvert_exporter": "python",
   "pygments_lexer": "ipython3",
   "version": "3.7.1"
  }
 },
 "nbformat": 4,
 "nbformat_minor": 2
}
